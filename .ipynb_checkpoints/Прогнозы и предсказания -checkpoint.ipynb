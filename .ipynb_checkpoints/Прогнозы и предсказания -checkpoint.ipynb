{
 "cells": [
  {
   "cell_type": "markdown",
   "metadata": {},
   "source": [
    "# Стратегия взаимодействия клиентами фитнес центра  «Культурист-датасаентист»"
   ]
  },
  {
   "cell_type": "markdown",
   "metadata": {},
   "source": [
    "**Задача исследования:**\n",
    "провести анализ и подготовить план действий по удержанию клиентов."
   ]
  },
  {
   "cell_type": "markdown",
   "metadata": {},
   "source": [
    "**Описание данных:** \n",
    "\n",
    "\n",
    "**'Churn'** — факт оттока в текущем месяце;  \n",
    "**'Gender'** — пол;  \n",
    "**'Near_Location'**  — проживание или работа в районе, где находится фитнес-центр;  \n",
    "**'Partner'** — сотрудник компании-партнёра клуба (сотрудничество с компаниями, чьи сотрудники могут получать скидки на абонемент — в таком случае фитнес-центр хранит информацию о работодателе клиента);  \n",
    "**Promo_friends** — факт первоначальной записи в рамках акции «приведи друга» (использовал промо-код от знакомого при оплате первого абонемента);  \n",
    "**'Phone'** — наличие контактного телефона;\n",
    "'Age' — возраст;\n",
    "'Lifetime' — время с момента первого обращения в фитнес-центр (в месяцах).\n",
    "\n",
    "\n",
    "\n",
    "\n",
    "**Информация о текущем статусе абонемента клиента:**\n",
    "**'Contract_period'**  — длительность текущего действующего абонемента (месяц, 3 месяца, 6 месяцев, год);  \n",
    "**'Month_to_end_contract'** — срок до окончания текущего действующего абонемента (в месяцах);  \n",
    "**'Group_visits'** — факт посещения групповых занятий;  \n",
    "**'Avg_class_frequency_total'** — средняя частота посещений в неделю за все время с начала действия абонемента;  \n",
    "**'Avg_class_frequency_current_month'** — средняя частота посещений в неделю за предыдущий месяц;  \n",
    "**'Avg_additional_charges_total'** — суммарная выручка от других услуг фитнес-центра: кафе, спорт-товары, косметический и массажный салон.\n"
   ]
  },
  {
   "cell_type": "markdown",
   "metadata": {},
   "source": [
    "## Шаг 1. Загрузите данные"
   ]
  },
  {
   "cell_type": "code",
   "execution_count": 1,
   "metadata": {
    "scrolled": true
   },
   "outputs": [],
   "source": [
    "import pandas as pd\n",
    "import matplotlib.pyplot as plt\n",
    "import seaborn as sns\n",
    "from sklearn.model_selection import train_test_split\n",
    "from sklearn.linear_model import LogisticRegression\n",
    "from sklearn.ensemble import RandomForestClassifier\n",
    "from sklearn.metrics import accuracy_score, precision_score,recall_score, f1_score\n",
    "from sklearn.preprocessing import StandardScaler\n",
    "from scipy.cluster.hierarchy import dendrogram, linkage \n",
    "from sklearn.cluster import KMeans"
   ]
  },
  {
   "cell_type": "code",
   "execution_count": 2,
   "metadata": {
    "scrolled": true
   },
   "outputs": [],
   "source": [
    "gym = pd.read_csv('/datasets/gym_churn.csv')"
   ]
  },
  {
   "cell_type": "code",
   "execution_count": 3,
   "metadata": {
    "scrolled": true
   },
   "outputs": [
    {
     "data": {
      "text/html": [
       "<div>\n",
       "<style scoped>\n",
       "    .dataframe tbody tr th:only-of-type {\n",
       "        vertical-align: middle;\n",
       "    }\n",
       "\n",
       "    .dataframe tbody tr th {\n",
       "        vertical-align: top;\n",
       "    }\n",
       "\n",
       "    .dataframe thead th {\n",
       "        text-align: right;\n",
       "    }\n",
       "</style>\n",
       "<table border=\"1\" class=\"dataframe\">\n",
       "  <thead>\n",
       "    <tr style=\"text-align: right;\">\n",
       "      <th></th>\n",
       "      <th>gender</th>\n",
       "      <th>Near_Location</th>\n",
       "      <th>Partner</th>\n",
       "      <th>Promo_friends</th>\n",
       "      <th>Phone</th>\n",
       "      <th>Contract_period</th>\n",
       "      <th>Group_visits</th>\n",
       "      <th>Age</th>\n",
       "      <th>Avg_additional_charges_total</th>\n",
       "      <th>Month_to_end_contract</th>\n",
       "      <th>Lifetime</th>\n",
       "      <th>Avg_class_frequency_total</th>\n",
       "      <th>Avg_class_frequency_current_month</th>\n",
       "      <th>Churn</th>\n",
       "    </tr>\n",
       "  </thead>\n",
       "  <tbody>\n",
       "    <tr>\n",
       "      <td>0</td>\n",
       "      <td>1</td>\n",
       "      <td>1</td>\n",
       "      <td>1</td>\n",
       "      <td>1</td>\n",
       "      <td>0</td>\n",
       "      <td>6</td>\n",
       "      <td>1</td>\n",
       "      <td>29</td>\n",
       "      <td>14.227470</td>\n",
       "      <td>5.0</td>\n",
       "      <td>3</td>\n",
       "      <td>0.020398</td>\n",
       "      <td>0.000000</td>\n",
       "      <td>0</td>\n",
       "    </tr>\n",
       "    <tr>\n",
       "      <td>1</td>\n",
       "      <td>0</td>\n",
       "      <td>1</td>\n",
       "      <td>0</td>\n",
       "      <td>0</td>\n",
       "      <td>1</td>\n",
       "      <td>12</td>\n",
       "      <td>1</td>\n",
       "      <td>31</td>\n",
       "      <td>113.202938</td>\n",
       "      <td>12.0</td>\n",
       "      <td>7</td>\n",
       "      <td>1.922936</td>\n",
       "      <td>1.910244</td>\n",
       "      <td>0</td>\n",
       "    </tr>\n",
       "    <tr>\n",
       "      <td>2</td>\n",
       "      <td>0</td>\n",
       "      <td>1</td>\n",
       "      <td>1</td>\n",
       "      <td>0</td>\n",
       "      <td>1</td>\n",
       "      <td>1</td>\n",
       "      <td>0</td>\n",
       "      <td>28</td>\n",
       "      <td>129.448479</td>\n",
       "      <td>1.0</td>\n",
       "      <td>2</td>\n",
       "      <td>1.859098</td>\n",
       "      <td>1.736502</td>\n",
       "      <td>0</td>\n",
       "    </tr>\n",
       "    <tr>\n",
       "      <td>3</td>\n",
       "      <td>0</td>\n",
       "      <td>1</td>\n",
       "      <td>1</td>\n",
       "      <td>1</td>\n",
       "      <td>1</td>\n",
       "      <td>12</td>\n",
       "      <td>1</td>\n",
       "      <td>33</td>\n",
       "      <td>62.669863</td>\n",
       "      <td>12.0</td>\n",
       "      <td>2</td>\n",
       "      <td>3.205633</td>\n",
       "      <td>3.357215</td>\n",
       "      <td>0</td>\n",
       "    </tr>\n",
       "    <tr>\n",
       "      <td>4</td>\n",
       "      <td>1</td>\n",
       "      <td>1</td>\n",
       "      <td>1</td>\n",
       "      <td>1</td>\n",
       "      <td>1</td>\n",
       "      <td>1</td>\n",
       "      <td>0</td>\n",
       "      <td>26</td>\n",
       "      <td>198.362265</td>\n",
       "      <td>1.0</td>\n",
       "      <td>3</td>\n",
       "      <td>1.113884</td>\n",
       "      <td>1.120078</td>\n",
       "      <td>0</td>\n",
       "    </tr>\n",
       "  </tbody>\n",
       "</table>\n",
       "</div>"
      ],
      "text/plain": [
       "   gender  Near_Location  Partner  Promo_friends  Phone  Contract_period  \\\n",
       "0       1              1        1              1      0                6   \n",
       "1       0              1        0              0      1               12   \n",
       "2       0              1        1              0      1                1   \n",
       "3       0              1        1              1      1               12   \n",
       "4       1              1        1              1      1                1   \n",
       "\n",
       "   Group_visits  Age  Avg_additional_charges_total  Month_to_end_contract  \\\n",
       "0             1   29                     14.227470                    5.0   \n",
       "1             1   31                    113.202938                   12.0   \n",
       "2             0   28                    129.448479                    1.0   \n",
       "3             1   33                     62.669863                   12.0   \n",
       "4             0   26                    198.362265                    1.0   \n",
       "\n",
       "   Lifetime  Avg_class_frequency_total  Avg_class_frequency_current_month  \\\n",
       "0         3                   0.020398                           0.000000   \n",
       "1         7                   1.922936                           1.910244   \n",
       "2         2                   1.859098                           1.736502   \n",
       "3         2                   3.205633                           3.357215   \n",
       "4         3                   1.113884                           1.120078   \n",
       "\n",
       "   Churn  \n",
       "0      0  \n",
       "1      0  \n",
       "2      0  \n",
       "3      0  \n",
       "4      0  "
      ]
     },
     "execution_count": 3,
     "metadata": {},
     "output_type": "execute_result"
    }
   ],
   "source": [
    "gym.head()"
   ]
  },
  {
   "cell_type": "markdown",
   "metadata": {},
   "source": [
    "**Вывод**\n",
    "Датасет загружен, переходим к подготовке данных для анализа"
   ]
  },
  {
   "cell_type": "markdown",
   "metadata": {},
   "source": [
    "## Шаг 2. Проведите исследовательский анализ данных (EDA)"
   ]
  },
  {
   "cell_type": "code",
   "execution_count": 4,
   "metadata": {
    "scrolled": true
   },
   "outputs": [
    {
     "name": "stdout",
     "output_type": "stream",
     "text": [
      "Размер датасета: (4000, 14)\n",
      "   gender  Near_Location  Partner  Promo_friends  Phone  Contract_period  \\\n",
      "0       1              1        1              1      0                6   \n",
      "1       0              1        0              0      1               12   \n",
      "2       0              1        1              0      1                1   \n",
      "3       0              1        1              1      1               12   \n",
      "4       1              1        1              1      1                1   \n",
      "\n",
      "   Group_visits  Age  Avg_additional_charges_total  Month_to_end_contract  \\\n",
      "0             1   29                     14.227470                    5.0   \n",
      "1             1   31                    113.202938                   12.0   \n",
      "2             0   28                    129.448479                    1.0   \n",
      "3             1   33                     62.669863                   12.0   \n",
      "4             0   26                    198.362265                    1.0   \n",
      "\n",
      "   Lifetime  Avg_class_frequency_total  Avg_class_frequency_current_month  \\\n",
      "0         3                   0.020398                           0.000000   \n",
      "1         7                   1.922936                           1.910244   \n",
      "2         2                   1.859098                           1.736502   \n",
      "3         2                   3.205633                           3.357215   \n",
      "4         3                   1.113884                           1.120078   \n",
      "\n",
      "   Churn  \n",
      "0      0  \n",
      "1      0  \n",
      "2      0  \n",
      "3      0  \n",
      "4      0  \n"
     ]
    }
   ],
   "source": [
    "print('Размер датасета:',gym.shape)\n",
    "print(gym.head(5))"
   ]
  },
  {
   "cell_type": "markdown",
   "metadata": {},
   "source": [
    "**Категориальные признаки:** \n",
    "'Gender','Near_Location','Partner','Promo_friends','Phine','Contract_period','Group_visits','Churn','Month_to_end_contract','Lifetime'\n",
    "\n",
    "**Числовые признаки:**  \n",
    "'Age','Avg_additional_charges_total',,'Avg_class_frequency_total','Avg_class_frequency_current_month'"
   ]
  },
  {
   "cell_type": "code",
   "execution_count": 5,
   "metadata": {
    "scrolled": false
   },
   "outputs": [
    {
     "name": "stdout",
     "output_type": "stream",
     "text": [
      "<class 'pandas.core.frame.DataFrame'>\n",
      "RangeIndex: 4000 entries, 0 to 3999\n",
      "Data columns (total 14 columns):\n",
      "gender                               4000 non-null int64\n",
      "Near_Location                        4000 non-null int64\n",
      "Partner                              4000 non-null int64\n",
      "Promo_friends                        4000 non-null int64\n",
      "Phone                                4000 non-null int64\n",
      "Contract_period                      4000 non-null int64\n",
      "Group_visits                         4000 non-null int64\n",
      "Age                                  4000 non-null int64\n",
      "Avg_additional_charges_total         4000 non-null float64\n",
      "Month_to_end_contract                4000 non-null float64\n",
      "Lifetime                             4000 non-null int64\n",
      "Avg_class_frequency_total            4000 non-null float64\n",
      "Avg_class_frequency_current_month    4000 non-null float64\n",
      "Churn                                4000 non-null int64\n",
      "dtypes: float64(4), int64(10)\n",
      "memory usage: 437.6 KB\n"
     ]
    }
   ],
   "source": [
    "gym.info()"
   ]
  },
  {
   "cell_type": "code",
   "execution_count": 6,
   "metadata": {
    "scrolled": true
   },
   "outputs": [
    {
     "data": {
      "text/html": [
       "<div>\n",
       "<style scoped>\n",
       "    .dataframe tbody tr th:only-of-type {\n",
       "        vertical-align: middle;\n",
       "    }\n",
       "\n",
       "    .dataframe tbody tr th {\n",
       "        vertical-align: top;\n",
       "    }\n",
       "\n",
       "    .dataframe thead th {\n",
       "        text-align: right;\n",
       "    }\n",
       "</style>\n",
       "<table border=\"1\" class=\"dataframe\">\n",
       "  <thead>\n",
       "    <tr style=\"text-align: right;\">\n",
       "      <th></th>\n",
       "      <th>gender</th>\n",
       "      <th>Near_Location</th>\n",
       "      <th>Partner</th>\n",
       "      <th>Promo_friends</th>\n",
       "      <th>Phone</th>\n",
       "      <th>Contract_period</th>\n",
       "      <th>Group_visits</th>\n",
       "      <th>Age</th>\n",
       "      <th>Avg_additional_charges_total</th>\n",
       "      <th>Month_to_end_contract</th>\n",
       "      <th>Lifetime</th>\n",
       "      <th>Avg_class_frequency_total</th>\n",
       "      <th>Avg_class_frequency_current_month</th>\n",
       "      <th>Churn</th>\n",
       "    </tr>\n",
       "  </thead>\n",
       "  <tbody>\n",
       "    <tr>\n",
       "      <td>count</td>\n",
       "      <td>4000.000000</td>\n",
       "      <td>4000.000000</td>\n",
       "      <td>4000.000000</td>\n",
       "      <td>4000.000000</td>\n",
       "      <td>4000.000000</td>\n",
       "      <td>4000.000000</td>\n",
       "      <td>4000.000000</td>\n",
       "      <td>4000.000000</td>\n",
       "      <td>4000.000000</td>\n",
       "      <td>4000.000000</td>\n",
       "      <td>4000.000000</td>\n",
       "      <td>4000.000000</td>\n",
       "      <td>4000.000000</td>\n",
       "      <td>4000.000000</td>\n",
       "    </tr>\n",
       "    <tr>\n",
       "      <td>mean</td>\n",
       "      <td>0.510250</td>\n",
       "      <td>0.845250</td>\n",
       "      <td>0.486750</td>\n",
       "      <td>0.308500</td>\n",
       "      <td>0.903500</td>\n",
       "      <td>4.681250</td>\n",
       "      <td>0.412250</td>\n",
       "      <td>29.184250</td>\n",
       "      <td>146.943728</td>\n",
       "      <td>4.322750</td>\n",
       "      <td>3.724750</td>\n",
       "      <td>1.879020</td>\n",
       "      <td>1.767052</td>\n",
       "      <td>0.265250</td>\n",
       "    </tr>\n",
       "    <tr>\n",
       "      <td>std</td>\n",
       "      <td>0.499957</td>\n",
       "      <td>0.361711</td>\n",
       "      <td>0.499887</td>\n",
       "      <td>0.461932</td>\n",
       "      <td>0.295313</td>\n",
       "      <td>4.549706</td>\n",
       "      <td>0.492301</td>\n",
       "      <td>3.258367</td>\n",
       "      <td>96.355602</td>\n",
       "      <td>4.191297</td>\n",
       "      <td>3.749267</td>\n",
       "      <td>0.972245</td>\n",
       "      <td>1.052906</td>\n",
       "      <td>0.441521</td>\n",
       "    </tr>\n",
       "    <tr>\n",
       "      <td>min</td>\n",
       "      <td>0.000000</td>\n",
       "      <td>0.000000</td>\n",
       "      <td>0.000000</td>\n",
       "      <td>0.000000</td>\n",
       "      <td>0.000000</td>\n",
       "      <td>1.000000</td>\n",
       "      <td>0.000000</td>\n",
       "      <td>18.000000</td>\n",
       "      <td>0.148205</td>\n",
       "      <td>1.000000</td>\n",
       "      <td>0.000000</td>\n",
       "      <td>0.000000</td>\n",
       "      <td>0.000000</td>\n",
       "      <td>0.000000</td>\n",
       "    </tr>\n",
       "    <tr>\n",
       "      <td>25%</td>\n",
       "      <td>0.000000</td>\n",
       "      <td>1.000000</td>\n",
       "      <td>0.000000</td>\n",
       "      <td>0.000000</td>\n",
       "      <td>1.000000</td>\n",
       "      <td>1.000000</td>\n",
       "      <td>0.000000</td>\n",
       "      <td>27.000000</td>\n",
       "      <td>68.868830</td>\n",
       "      <td>1.000000</td>\n",
       "      <td>1.000000</td>\n",
       "      <td>1.180875</td>\n",
       "      <td>0.963003</td>\n",
       "      <td>0.000000</td>\n",
       "    </tr>\n",
       "    <tr>\n",
       "      <td>50%</td>\n",
       "      <td>1.000000</td>\n",
       "      <td>1.000000</td>\n",
       "      <td>0.000000</td>\n",
       "      <td>0.000000</td>\n",
       "      <td>1.000000</td>\n",
       "      <td>1.000000</td>\n",
       "      <td>0.000000</td>\n",
       "      <td>29.000000</td>\n",
       "      <td>136.220159</td>\n",
       "      <td>1.000000</td>\n",
       "      <td>3.000000</td>\n",
       "      <td>1.832768</td>\n",
       "      <td>1.719574</td>\n",
       "      <td>0.000000</td>\n",
       "    </tr>\n",
       "    <tr>\n",
       "      <td>75%</td>\n",
       "      <td>1.000000</td>\n",
       "      <td>1.000000</td>\n",
       "      <td>1.000000</td>\n",
       "      <td>1.000000</td>\n",
       "      <td>1.000000</td>\n",
       "      <td>6.000000</td>\n",
       "      <td>1.000000</td>\n",
       "      <td>31.000000</td>\n",
       "      <td>210.949625</td>\n",
       "      <td>6.000000</td>\n",
       "      <td>5.000000</td>\n",
       "      <td>2.536078</td>\n",
       "      <td>2.510336</td>\n",
       "      <td>1.000000</td>\n",
       "    </tr>\n",
       "    <tr>\n",
       "      <td>max</td>\n",
       "      <td>1.000000</td>\n",
       "      <td>1.000000</td>\n",
       "      <td>1.000000</td>\n",
       "      <td>1.000000</td>\n",
       "      <td>1.000000</td>\n",
       "      <td>12.000000</td>\n",
       "      <td>1.000000</td>\n",
       "      <td>41.000000</td>\n",
       "      <td>552.590740</td>\n",
       "      <td>12.000000</td>\n",
       "      <td>31.000000</td>\n",
       "      <td>6.023668</td>\n",
       "      <td>6.146783</td>\n",
       "      <td>1.000000</td>\n",
       "    </tr>\n",
       "  </tbody>\n",
       "</table>\n",
       "</div>"
      ],
      "text/plain": [
       "            gender  Near_Location      Partner  Promo_friends        Phone  \\\n",
       "count  4000.000000    4000.000000  4000.000000    4000.000000  4000.000000   \n",
       "mean      0.510250       0.845250     0.486750       0.308500     0.903500   \n",
       "std       0.499957       0.361711     0.499887       0.461932     0.295313   \n",
       "min       0.000000       0.000000     0.000000       0.000000     0.000000   \n",
       "25%       0.000000       1.000000     0.000000       0.000000     1.000000   \n",
       "50%       1.000000       1.000000     0.000000       0.000000     1.000000   \n",
       "75%       1.000000       1.000000     1.000000       1.000000     1.000000   \n",
       "max       1.000000       1.000000     1.000000       1.000000     1.000000   \n",
       "\n",
       "       Contract_period  Group_visits          Age  \\\n",
       "count      4000.000000   4000.000000  4000.000000   \n",
       "mean          4.681250      0.412250    29.184250   \n",
       "std           4.549706      0.492301     3.258367   \n",
       "min           1.000000      0.000000    18.000000   \n",
       "25%           1.000000      0.000000    27.000000   \n",
       "50%           1.000000      0.000000    29.000000   \n",
       "75%           6.000000      1.000000    31.000000   \n",
       "max          12.000000      1.000000    41.000000   \n",
       "\n",
       "       Avg_additional_charges_total  Month_to_end_contract     Lifetime  \\\n",
       "count                   4000.000000            4000.000000  4000.000000   \n",
       "mean                     146.943728               4.322750     3.724750   \n",
       "std                       96.355602               4.191297     3.749267   \n",
       "min                        0.148205               1.000000     0.000000   \n",
       "25%                       68.868830               1.000000     1.000000   \n",
       "50%                      136.220159               1.000000     3.000000   \n",
       "75%                      210.949625               6.000000     5.000000   \n",
       "max                      552.590740              12.000000    31.000000   \n",
       "\n",
       "       Avg_class_frequency_total  Avg_class_frequency_current_month  \\\n",
       "count                4000.000000                        4000.000000   \n",
       "mean                    1.879020                           1.767052   \n",
       "std                     0.972245                           1.052906   \n",
       "min                     0.000000                           0.000000   \n",
       "25%                     1.180875                           0.963003   \n",
       "50%                     1.832768                           1.719574   \n",
       "75%                     2.536078                           2.510336   \n",
       "max                     6.023668                           6.146783   \n",
       "\n",
       "             Churn  \n",
       "count  4000.000000  \n",
       "mean      0.265250  \n",
       "std       0.441521  \n",
       "min       0.000000  \n",
       "25%       0.000000  \n",
       "50%       0.000000  \n",
       "75%       1.000000  \n",
       "max       1.000000  "
      ]
     },
     "execution_count": 6,
     "metadata": {},
     "output_type": "execute_result"
    }
   ],
   "source": [
    "gym.describe()"
   ]
  },
  {
   "cell_type": "code",
   "execution_count": 7,
   "metadata": {
    "scrolled": true
   },
   "outputs": [
    {
     "data": {
      "text/plain": [
       "gender                               0\n",
       "Near_Location                        0\n",
       "Partner                              0\n",
       "Promo_friends                        0\n",
       "Phone                                0\n",
       "Contract_period                      0\n",
       "Group_visits                         0\n",
       "Age                                  0\n",
       "Avg_additional_charges_total         0\n",
       "Month_to_end_contract                0\n",
       "Lifetime                             0\n",
       "Avg_class_frequency_total            0\n",
       "Avg_class_frequency_current_month    0\n",
       "Churn                                0\n",
       "dtype: int64"
      ]
     },
     "execution_count": 7,
     "metadata": {},
     "output_type": "execute_result"
    }
   ],
   "source": [
    "gym.isnull().sum()"
   ]
  },
  {
   "cell_type": "markdown",
   "metadata": {},
   "source": [
    "Все признаки на месте, стандартные отклонения и средние посчитаны с помощью метода describe \n",
    "Пропусков в датасете не обнаружено"
   ]
  },
  {
   "cell_type": "markdown",
   "metadata": {},
   "source": []
  },
  {
   "cell_type": "code",
   "execution_count": 8,
   "metadata": {
    "scrolled": true
   },
   "outputs": [],
   "source": [
    "gym_group = gym.groupby('Churn').mean().reset_index()"
   ]
  },
  {
   "cell_type": "code",
   "execution_count": 9,
   "metadata": {
    "scrolled": true
   },
   "outputs": [
    {
     "data": {
      "text/html": [
       "<div>\n",
       "<style scoped>\n",
       "    .dataframe tbody tr th:only-of-type {\n",
       "        vertical-align: middle;\n",
       "    }\n",
       "\n",
       "    .dataframe tbody tr th {\n",
       "        vertical-align: top;\n",
       "    }\n",
       "\n",
       "    .dataframe thead th {\n",
       "        text-align: right;\n",
       "    }\n",
       "</style>\n",
       "<table border=\"1\" class=\"dataframe\">\n",
       "  <thead>\n",
       "    <tr style=\"text-align: right;\">\n",
       "      <th></th>\n",
       "      <th>Churn</th>\n",
       "      <th>gender</th>\n",
       "      <th>Near_Location</th>\n",
       "      <th>Partner</th>\n",
       "      <th>Promo_friends</th>\n",
       "      <th>Phone</th>\n",
       "      <th>Contract_period</th>\n",
       "      <th>Group_visits</th>\n",
       "      <th>Age</th>\n",
       "      <th>Avg_additional_charges_total</th>\n",
       "      <th>Month_to_end_contract</th>\n",
       "      <th>Lifetime</th>\n",
       "      <th>Avg_class_frequency_total</th>\n",
       "      <th>Avg_class_frequency_current_month</th>\n",
       "    </tr>\n",
       "  </thead>\n",
       "  <tbody>\n",
       "    <tr>\n",
       "      <td>0</td>\n",
       "      <td>0</td>\n",
       "      <td>0.510037</td>\n",
       "      <td>0.873086</td>\n",
       "      <td>0.534195</td>\n",
       "      <td>0.353522</td>\n",
       "      <td>0.903709</td>\n",
       "      <td>5.747193</td>\n",
       "      <td>0.464103</td>\n",
       "      <td>29.976523</td>\n",
       "      <td>158.445715</td>\n",
       "      <td>5.283089</td>\n",
       "      <td>4.711807</td>\n",
       "      <td>2.024876</td>\n",
       "      <td>2.027882</td>\n",
       "    </tr>\n",
       "    <tr>\n",
       "      <td>1</td>\n",
       "      <td>1</td>\n",
       "      <td>0.510839</td>\n",
       "      <td>0.768143</td>\n",
       "      <td>0.355325</td>\n",
       "      <td>0.183789</td>\n",
       "      <td>0.902922</td>\n",
       "      <td>1.728558</td>\n",
       "      <td>0.268615</td>\n",
       "      <td>26.989632</td>\n",
       "      <td>115.082899</td>\n",
       "      <td>1.662582</td>\n",
       "      <td>0.990575</td>\n",
       "      <td>1.474995</td>\n",
       "      <td>1.044546</td>\n",
       "    </tr>\n",
       "  </tbody>\n",
       "</table>\n",
       "</div>"
      ],
      "text/plain": [
       "   Churn    gender  Near_Location   Partner  Promo_friends     Phone  \\\n",
       "0      0  0.510037       0.873086  0.534195       0.353522  0.903709   \n",
       "1      1  0.510839       0.768143  0.355325       0.183789  0.902922   \n",
       "\n",
       "   Contract_period  Group_visits        Age  Avg_additional_charges_total  \\\n",
       "0         5.747193      0.464103  29.976523                    158.445715   \n",
       "1         1.728558      0.268615  26.989632                    115.082899   \n",
       "\n",
       "   Month_to_end_contract  Lifetime  Avg_class_frequency_total  \\\n",
       "0               5.283089  4.711807                   2.024876   \n",
       "1               1.662582  0.990575                   1.474995   \n",
       "\n",
       "   Avg_class_frequency_current_month  \n",
       "0                           2.027882  \n",
       "1                           1.044546  "
      ]
     },
     "execution_count": 9,
     "metadata": {},
     "output_type": "execute_result"
    }
   ],
   "source": [
    "gym_group"
   ]
  },
  {
   "cell_type": "code",
   "execution_count": 10,
   "metadata": {
    "scrolled": true
   },
   "outputs": [
    {
     "data": {
      "image/png": "[encoded data removed]",
      "text/plain": [
       "<Figure size 1080x1080 with 16 Axes>"
      ]
     },
     "metadata": {
      "needs_background": "light"
     },
     "output_type": "display_data"
    }
   ],
   "source": [
    "gym.query('Churn ==0').hist(figsize = (15,15))\n",
    "plt.show()"
   ]
  },
  {
   "cell_type": "code",
   "execution_count": 11,
   "metadata": {
    "scrolled": true
   },
   "outputs": [
    {
     "data": {
      "image/png": "[encoded data removed]",
      "text/plain": [
       "<Figure size 1080x1080 with 16 Axes>"
      ]
     },
     "metadata": {
      "needs_background": "light"
     },
     "output_type": "display_data"
    }
   ],
   "source": [
    "gym.query('Churn ==1').hist(figsize = (15,15))\n",
    "plt.show()"
   ]
  },
  {
   "cell_type": "markdown",
   "metadata": {},
   "source": [
    "**Из гистограммы для ушедших людей можно заметить:**\n",
    "\n",
    "Отток наиболее распространен среди категории 25-30 лет  \n",
    "Среднее количество посещений в неделю за все время абонемента колеблется между значениями  1-2  \n",
    "Эти люди в основном с контрактом на 1 месяц\n",
    "У этих людей в основном срок контракта оставшегося не превышал месяца  \n",
    "В основном они проживали рядом или работали  \n",
    "Большинство из них посещали групповые занятия\n",
    "БОльшее количество из них пришли в зал сами а не по рекомендации  \n",
    "Имеется в большинстве случаев их мобильный телефон  \n",
    "А также большинство ушедших людей пришли не из компании пертнера фитнеса  \n",
    "В основном ушли люди, которые не со сроком обращения в фитнес-клуб не более 2 месяцев\n",
    "\n",
    "\n",
    "**В отличие от ушедших людей для оставшихся характерны следующие отличия:**  \n",
    "\n",
    "Средний возраст 30-35  \n",
    "2 раза в неделю среднее количество посещений  \n",
    "Также срок контракта хоть в большинстве случаев и 1 месяц, но больше намного долгосрочных контрактов чем в ушедшей группе  "
   ]
  },
  {
   "cell_type": "code",
   "execution_count": 12,
   "metadata": {
    "scrolled": true
   },
   "outputs": [
    {
     "data": {
      "image/png": "[encoded data removed]",
      "text/plain": [
       "<Figure size 1080x1080 with 2 Axes>"
      ]
     },
     "metadata": {
      "needs_background": "light"
     },
     "output_type": "display_data"
    }
   ],
   "source": [
    "\n",
    "corr_m = gym.corr()\n",
    "plt.figure(figsize = (15,15))\n",
    "sns.heatmap(corr_m, square=True,annot = True)\n",
    "plt.show()"
   ]
  },
  {
   "cell_type": "markdown",
   "metadata": {},
   "source": [
    "По матрице корреляций можно заметить очень большую зависимость (0,97) между признаками 'Month_to_end_contract' и 'Contract_period',что в принципе логично, поскольку метрики обратные\n",
    "Также видим сильную корреляцию между 'avg_class_frequency_total' и 'avg_class_frequency_month'\n",
    "Других сильных зависимостей не наблюдается"
   ]
  },
  {
   "cell_type": "code",
   "execution_count": 13,
   "metadata": {
    "scrolled": true
   },
   "outputs": [],
   "source": [
    "gym.drop('Avg_class_frequency_total', axis = 1, inplace = True) \n",
    "gym.drop('Month_to_end_contract', axis = 1, inplace = True)"
   ]
  },
  {
   "cell_type": "markdown",
   "metadata": {},
   "source": [
    "**Вывод**  \n",
    "Данные происледованы, разделены по группам, а также построена матрица корреляций, можно переходить к построению модели прогнозирования"
   ]
  },
  {
   "cell_type": "markdown",
   "metadata": {},
   "source": [
    "## Шаг 3. Постройте модель прогнозирования оттока клиентов"
   ]
  },
  {
   "cell_type": "code",
   "execution_count": 14,
   "metadata": {
    "scrolled": true
   },
   "outputs": [],
   "source": [
    "X = gym.drop('Churn', axis = 1)\n",
    "y = gym['Churn']\n",
    "X_train, X_test, y_train, y_test = train_test_split(X, y, test_size=0.2, random_state = 0)"
   ]
  },
  {
   "cell_type": "code",
   "execution_count": 15,
   "metadata": {
    "scrolled": true
   },
   "outputs": [],
   "source": [
    "scaler = StandardScaler()\n",
    "X_train_st = scaler.fit_transform(X_train)\n",
    "X_test_st = scaler.transform(X_test)"
   ]
  },
  {
   "cell_type": "code",
   "execution_count": 16,
   "metadata": {
    "scrolled": true
   },
   "outputs": [],
   "source": [
    "model = LogisticRegression(solver='liblinear',random_state = 0) \n",
    "model.fit(X_train_st,y_train)\n",
    "predictions = model.predict(X_test_st)\n",
    "probabilities = model.predict_proba(X_test_st)[:,1]"
   ]
  },
  {
   "cell_type": "code",
   "execution_count": 17,
   "metadata": {
    "scrolled": true
   },
   "outputs": [],
   "source": [
    "rf_model = RandomForestClassifier(n_estimators = 100,random_state = 0)\n",
    "rf_model.fit(X_train_st, y_train)\n",
    "rf_predictions = rf_model.predict(X_test_st)"
   ]
  },
  {
   "cell_type": "code",
   "execution_count": 18,
   "metadata": {
    "scrolled": true
   },
   "outputs": [
    {
     "name": "stdout",
     "output_type": "stream",
     "text": [
      "Метрики для логистической регресии:\n",
      "Accuracy: 0.90\n",
      "Precision: 0.79\n",
      "Recall: 0.82\n",
      "F1: 0.81\n"
     ]
    }
   ],
   "source": [
    "print('Метрики для логистической регресии:')\n",
    "print('Accuracy: {:.2f}'.format(accuracy_score(y_test, predictions)))\n",
    "print('Precision: {:.2f}'.format(precision_score (y_test, predictions)))\n",
    "print('Recall: {:.2f}'.format(recall_score (y_test, predictions)))\n",
    "print('F1: {:.2f}'.format(f1_score(y_test, predictions)))"
   ]
  },
  {
   "cell_type": "code",
   "execution_count": 19,
   "metadata": {
    "scrolled": true
   },
   "outputs": [
    {
     "name": "stdout",
     "output_type": "stream",
     "text": [
      "Метрики для случайного леса:\n",
      "Accuracy: 0.90\n",
      "Precision: 0.81\n",
      "Recall: 0.75\n",
      "F1: 0.78\n"
     ]
    }
   ],
   "source": [
    "print('Метрики для случайного леса:')\n",
    "print('Accuracy: {:.2f}'.format(accuracy_score(y_test, rf_predictions)))\n",
    "print('Precision: {:.2f}'.format(precision_score (y_test, rf_predictions)))\n",
    "print('Recall: {:.2f}'.format(recall_score (y_test, rf_predictions)))\n",
    "print('F1: {:.2f}'.format(f1_score(y_test, rf_predictions)))"
   ]
  },
  {
   "cell_type": "markdown",
   "metadata": {},
   "source": [
    "**Вывод**   \n",
    "Построена модель бинарной классификации с помощью алгоритмов логистической регрессии и случаного леса, по метрикам можно сказать что модель для логистической регрессии немного точнее"
   ]
  },
  {
   "cell_type": "markdown",
   "metadata": {},
   "source": [
    "## Шаг 4. Сделайте кластеризацию клиентов"
   ]
  },
  {
   "cell_type": "code",
   "execution_count": 20,
   "metadata": {
    "scrolled": true
   },
   "outputs": [
    {
     "data": {
      "image/png": "[encoded data removed]",
      "text/plain": [
       "<Figure size 1080x720 with 1 Axes>"
      ]
     },
     "metadata": {
      "needs_background": "light"
     },
     "output_type": "display_data"
    }
   ],
   "source": [
    "sc = StandardScaler()\n",
    "X_sc = sc.fit_transform(X)\n",
    "\n",
    "linked = linkage(X_sc, method = 'ward')\n",
    "plt.figure(figsize=(15, 10))  \n",
    "dendrogram(linked, orientation='top')\n",
    "plt.show() "
   ]
  },
  {
   "cell_type": "markdown",
   "metadata": {},
   "source": [
    "По количеству цветов можно выделить 4 кластера, но в проекте указано 5, видимо фиолетовый разбивается на два кластера"
   ]
  },
  {
   "cell_type": "code",
   "execution_count": 35,
   "metadata": {
    "scrolled": true
   },
   "outputs": [],
   "source": [
    "km = KMeans(n_clusters = 5,random_state = 0) # задаём число кластеров, равное 5\n",
    "labels = km.fit_predict(X_sc) # применяем алгоритм к данным и формируем вектор кластеров\n",
    "gym['cluster'] = labels"
   ]
  },
  {
   "cell_type": "code",
   "execution_count": 36,
   "metadata": {
    "scrolled": true
   },
   "outputs": [
    {
     "data": {
      "text/html": [
       "<div>\n",
       "<style scoped>\n",
       "    .dataframe tbody tr th:only-of-type {\n",
       "        vertical-align: middle;\n",
       "    }\n",
       "\n",
       "    .dataframe tbody tr th {\n",
       "        vertical-align: top;\n",
       "    }\n",
       "\n",
       "    .dataframe thead th {\n",
       "        text-align: right;\n",
       "    }\n",
       "</style>\n",
       "<table border=\"1\" class=\"dataframe\">\n",
       "  <thead>\n",
       "    <tr style=\"text-align: right;\">\n",
       "      <th></th>\n",
       "      <th>0</th>\n",
       "      <th>1</th>\n",
       "      <th>2</th>\n",
       "      <th>3</th>\n",
       "      <th>4</th>\n",
       "    </tr>\n",
       "  </thead>\n",
       "  <tbody>\n",
       "    <tr>\n",
       "      <td>cluster</td>\n",
       "      <td>0.00</td>\n",
       "      <td>1.00</td>\n",
       "      <td>2.00</td>\n",
       "      <td>3.00</td>\n",
       "      <td>4.00</td>\n",
       "    </tr>\n",
       "    <tr>\n",
       "      <td>gender</td>\n",
       "      <td>0.50</td>\n",
       "      <td>0.50</td>\n",
       "      <td>0.50</td>\n",
       "      <td>0.53</td>\n",
       "      <td>0.52</td>\n",
       "    </tr>\n",
       "    <tr>\n",
       "      <td>Near_Location</td>\n",
       "      <td>1.00</td>\n",
       "      <td>0.00</td>\n",
       "      <td>1.00</td>\n",
       "      <td>1.00</td>\n",
       "      <td>0.86</td>\n",
       "    </tr>\n",
       "    <tr>\n",
       "      <td>Partner</td>\n",
       "      <td>0.89</td>\n",
       "      <td>0.49</td>\n",
       "      <td>0.22</td>\n",
       "      <td>0.38</td>\n",
       "      <td>0.47</td>\n",
       "    </tr>\n",
       "    <tr>\n",
       "      <td>Promo_friends</td>\n",
       "      <td>1.00</td>\n",
       "      <td>0.08</td>\n",
       "      <td>0.07</td>\n",
       "      <td>0.01</td>\n",
       "      <td>0.31</td>\n",
       "    </tr>\n",
       "    <tr>\n",
       "      <td>Phone</td>\n",
       "      <td>1.00</td>\n",
       "      <td>1.00</td>\n",
       "      <td>1.00</td>\n",
       "      <td>1.00</td>\n",
       "      <td>0.00</td>\n",
       "    </tr>\n",
       "    <tr>\n",
       "      <td>Contract_period</td>\n",
       "      <td>6.92</td>\n",
       "      <td>2.99</td>\n",
       "      <td>2.01</td>\n",
       "      <td>6.21</td>\n",
       "      <td>4.78</td>\n",
       "    </tr>\n",
       "    <tr>\n",
       "      <td>Group_visits</td>\n",
       "      <td>0.52</td>\n",
       "      <td>0.23</td>\n",
       "      <td>0.28</td>\n",
       "      <td>0.54</td>\n",
       "      <td>0.43</td>\n",
       "    </tr>\n",
       "    <tr>\n",
       "      <td>Age</td>\n",
       "      <td>29.61</td>\n",
       "      <td>28.68</td>\n",
       "      <td>27.58</td>\n",
       "      <td>30.70</td>\n",
       "      <td>29.30</td>\n",
       "    </tr>\n",
       "    <tr>\n",
       "      <td>Avg_additional_charges_total</td>\n",
       "      <td>153.42</td>\n",
       "      <td>137.13</td>\n",
       "      <td>119.34</td>\n",
       "      <td>176.26</td>\n",
       "      <td>144.21</td>\n",
       "    </tr>\n",
       "    <tr>\n",
       "      <td>Lifetime</td>\n",
       "      <td>4.28</td>\n",
       "      <td>2.97</td>\n",
       "      <td>1.92</td>\n",
       "      <td>5.42</td>\n",
       "      <td>3.94</td>\n",
       "    </tr>\n",
       "    <tr>\n",
       "      <td>Avg_class_frequency_current_month</td>\n",
       "      <td>1.92</td>\n",
       "      <td>1.60</td>\n",
       "      <td>1.20</td>\n",
       "      <td>2.32</td>\n",
       "      <td>1.72</td>\n",
       "    </tr>\n",
       "    <tr>\n",
       "      <td>Churn</td>\n",
       "      <td>0.12</td>\n",
       "      <td>0.40</td>\n",
       "      <td>0.56</td>\n",
       "      <td>0.01</td>\n",
       "      <td>0.27</td>\n",
       "    </tr>\n",
       "  </tbody>\n",
       "</table>\n",
       "</div>"
      ],
      "text/plain": [
       "                                        0       1       2       3       4\n",
       "cluster                              0.00    1.00    2.00    3.00    4.00\n",
       "gender                               0.50    0.50    0.50    0.53    0.52\n",
       "Near_Location                        1.00    0.00    1.00    1.00    0.86\n",
       "Partner                              0.89    0.49    0.22    0.38    0.47\n",
       "Promo_friends                        1.00    0.08    0.07    0.01    0.31\n",
       "Phone                                1.00    1.00    1.00    1.00    0.00\n",
       "Contract_period                      6.92    2.99    2.01    6.21    4.78\n",
       "Group_visits                         0.52    0.23    0.28    0.54    0.43\n",
       "Age                                 29.61   28.68   27.58   30.70   29.30\n",
       "Avg_additional_charges_total       153.42  137.13  119.34  176.26  144.21\n",
       "Lifetime                             4.28    2.97    1.92    5.42    3.94\n",
       "Avg_class_frequency_current_month    1.92    1.60    1.20    2.32    1.72\n",
       "Churn                                0.12    0.40    0.56    0.01    0.27"
      ]
     },
     "execution_count": 36,
     "metadata": {},
     "output_type": "execute_result"
    }
   ],
   "source": [
    "gym.groupby(['cluster']).mean().reset_index().T.round(2)"
   ]
  },
  {
   "cell_type": "markdown",
   "metadata": {},
   "source": [
    "Из этой таблички мы видим, что в лучшую сторону выделяется 3 кластер, с наибольшим lifetime, частотой посещений, покупками, также этот кластер самый возрастной\n",
    "Также можно отметить неплохой 0 класстер, остальные хуже"
   ]
  },
  {
   "cell_type": "code",
   "execution_count": 111,
   "metadata": {
    "scrolled": false
   },
   "outputs": [
    {
     "data": {
      "image/png": "[encoded data removed]",
      "text/plain": [
       "<Figure size 720x720 with 1 Axes>"
      ]
     },
     "metadata": {
      "needs_background": "light"
     },
     "output_type": "display_data"
    },
    {
     "data": {
      "image/png": "[encoded data removed]",
      "text/plain": [
       "<Figure size 720x720 with 1 Axes>"
      ]
     },
     "metadata": {
      "needs_background": "light"
     },
     "output_type": "display_data"
    },
    {
     "data": {
      "image/png": "[encoded data removed]",
      "text/plain": [
       "<Figure size 720x720 with 1 Axes>"
      ]
     },
     "metadata": {
      "needs_background": "light"
     },
     "output_type": "display_data"
    },
    {
     "data": {
      "image/png": "[encoded data removed]",
      "text/plain": [
       "<Figure size 720x720 with 1 Axes>"
      ]
     },
     "metadata": {
      "needs_background": "light"
     },
     "output_type": "display_data"
    },
    {
     "data": {
      "image/png": "[encoded data removed]",
      "text/plain": [
       "<Figure size 720x720 with 1 Axes>"
      ]
     },
     "metadata": {
      "needs_background": "light"
     },
     "output_type": "display_data"
    },
    {
     "data": {
      "image/png": "[encoded data removed]",
      "text/plain": [
       "<Figure size 720x720 with 1 Axes>"
      ]
     },
     "metadata": {
      "needs_background": "light"
     },
     "output_type": "display_data"
    },
    {
     "data": {
      "image/png": "[encoded data removed]",
      "text/plain": [
       "<Figure size 720x720 with 1 Axes>"
      ]
     },
     "metadata": {
      "needs_background": "light"
     },
     "output_type": "display_data"
    }
   ],
   "source": [
    "for i in ['gender', 'Near_Location', 'Partner', 'Promo_friends', 'Phone', 'Contract_period', 'Group_visits']:\n",
    "    plt.figure(figsize=(10, 10))\n",
    "    sns.countplot(x = gym[i], hue='cluster', data=gym, palette = 'bright')\n",
    "    plt.title(i)\n",
    "    plt.show()"
   ]
  },
  {
   "cell_type": "code",
   "execution_count": 91,
   "metadata": {
    "scrolled": false
   },
   "outputs": [
    {
     "data": {
      "image/png": "[encoded data removed]",
      "text/plain": [
       "<Figure size 360x360 with 1 Axes>"
      ]
     },
     "metadata": {
      "needs_background": "light"
     },
     "output_type": "display_data"
    },
    {
     "data": {
      "image/png": "[encoded data removed]",
      "text/plain": [
       "<Figure size 360x360 with 1 Axes>"
      ]
     },
     "metadata": {
      "needs_background": "light"
     },
     "output_type": "display_data"
    },
    {
     "data": {
      "image/png": "[encoded data removed]",
      "text/plain": [
       "<Figure size 360x360 with 1 Axes>"
      ]
     },
     "metadata": {
      "needs_background": "light"
     },
     "output_type": "display_data"
    },
    {
     "data": {
      "image/png": "[encoded data removed]",
      "text/plain": [
       "<Figure size 360x360 with 1 Axes>"
      ]
     },
     "metadata": {
      "needs_background": "light"
     },
     "output_type": "display_data"
    }
   ],
   "source": [
    "for i in ['Age', 'Avg_additional_charges_total', 'Lifetime', 'Avg_class_frequency_current_month']:\n",
    "    plt.figure(figsize=(5, 5))\n",
    "    sns.boxplot(x = 'cluster', y = gym[i],data = gym,palette = 'bright')\n",
    "    plt.show()"
   ]
  },
  {
   "cell_type": "code",
   "execution_count": 110,
   "metadata": {
    "scrolled": true
   },
   "outputs": [
    {
     "data": {
      "text/html": [
       "<div>\n",
       "<style scoped>\n",
       "    .dataframe tbody tr th:only-of-type {\n",
       "        vertical-align: middle;\n",
       "    }\n",
       "\n",
       "    .dataframe tbody tr th {\n",
       "        vertical-align: top;\n",
       "    }\n",
       "\n",
       "    .dataframe thead th {\n",
       "        text-align: right;\n",
       "    }\n",
       "</style>\n",
       "<table border=\"1\" class=\"dataframe\">\n",
       "  <thead>\n",
       "    <tr style=\"text-align: right;\">\n",
       "      <th></th>\n",
       "      <th>cluster</th>\n",
       "      <th>Churn</th>\n",
       "      <th>Age</th>\n",
       "    </tr>\n",
       "  </thead>\n",
       "  <tbody>\n",
       "    <tr>\n",
       "      <td>3</td>\n",
       "      <td>3</td>\n",
       "      <td>1.49%</td>\n",
       "      <td>1007</td>\n",
       "    </tr>\n",
       "    <tr>\n",
       "      <td>0</td>\n",
       "      <td>0</td>\n",
       "      <td>11.98%</td>\n",
       "      <td>985</td>\n",
       "    </tr>\n",
       "    <tr>\n",
       "      <td>4</td>\n",
       "      <td>4</td>\n",
       "      <td>26.68%</td>\n",
       "      <td>386</td>\n",
       "    </tr>\n",
       "    <tr>\n",
       "      <td>1</td>\n",
       "      <td>1</td>\n",
       "      <td>40.32%</td>\n",
       "      <td>558</td>\n",
       "    </tr>\n",
       "    <tr>\n",
       "      <td>2</td>\n",
       "      <td>2</td>\n",
       "      <td>56.39%</td>\n",
       "      <td>1064</td>\n",
       "    </tr>\n",
       "  </tbody>\n",
       "</table>\n",
       "</div>"
      ],
      "text/plain": [
       "   cluster   Churn   Age\n",
       "3        3   1.49%  1007\n",
       "0        0  11.98%   985\n",
       "4        4  26.68%   386\n",
       "1        1  40.32%   558\n",
       "2        2  56.39%  1064"
      ]
     },
     "execution_count": 110,
     "metadata": {},
     "output_type": "execute_result"
    }
   ],
   "source": [
    "cluster_churn = gym.groupby('cluster')[['Churn','Age']].agg({'Churn':'mean','Age':'count'}).reset_index()\n",
    "cluster_churn['Churn'] = cluster_churn['Churn'].map(lambda x: '{:.2%}'.format(x))\n",
    "cluster_churn.rename(columns={\"Age\": \"Сount\"})\n",
    "cluster_churn.sort_values('Churn')"
   ]
  },
  {
   "cell_type": "markdown",
   "metadata": {},
   "source": [
    "**Выводы** \n",
    "Метод К-Means выделил следующие кластеры пользователей:\n",
    "\n",
    "**0) кластер клиентов, пришедших по программе \"приведи друга\"**\n",
    "\n",
    "985 клиентов\n",
    "отток составляет 11.98%\n",
    "чаще других выбирают долгосрочные абонементы\n",
    "посещают примерно два раза в месяц\n",
    "\n",
    "**1) кластер клиентов, не проживающих/не работающих в районе, где находится фитнес-центр**\n",
    "\n",
    "558 клиентов\n",
    "отток составляет 40.32%\n",
    "большинство пришли по программе \"приведи друга\"\n",
    "чаще всего заключают контракт на месяц\n",
    "не очень любят ходить на групповые занятия\n",
    "ходят реже чем, большинство остальных кластеров\n",
    "\n",
    "**2) кластер клиентов, с самой большой долей абонементов на 1 месяц**\n",
    "\n",
    "1064 клиента\n",
    "отток максимален 56.39%\n",
    "находятся в том же районе, что и фитнес-центр\n",
    "большинство не являются сотрудниками компании-партнёра клуба\n",
    "не используют промо-код из акции \"приведи друга\"\n",
    "самые низкие показатели по посещаемости\n",
    "самые низкие показатели по признаку Lifetime\n",
    "\n",
    "**3) кластер клиентов, потративших больше всего денег на дополнительные услуги**\n",
    "\n",
    "1007 клиентов\n",
    "отток минимален 1.49%\n",
    "высокие показатели посещаемости\n",
    "большой процент долгосрочных абонементов\n",
    "высокие показатели по признаку посещения групповых занятий\n",
    "среди клиентов практически нет тех, кто использовал промо-код от знакомого при оплате первого абонемента\n",
    "\n",
    "**4) кластер клиентов, не оставивших свой номер телефона**\n",
    "\n",
    "386 клиентов\n",
    "отток составляет 26.68%\n",
    "распределения признаков тоже схожи с данными по всему датасету"
   ]
  },
  {
   "cell_type": "markdown",
   "metadata": {},
   "source": [
    "## Шаг 5. Сформулируйте выводы и сделайте базовые рекомендации по работе с клиентами"
   ]
  },
  {
   "cell_type": "code",
   "execution_count": null,
   "metadata": {
    "scrolled": true
   },
   "outputs": [],
   "source": []
  }
 ],
 "metadata": {
  "ExecuteTimeLog": [
   {
    "duration": 786,
    "start_time": "2022-01-23T12:41:43.125Z"
   },
   {
    "duration": 24,
    "start_time": "2022-01-23T12:42:11.447Z"
   },
   {
    "duration": 36,
    "start_time": "2022-01-23T12:42:14.737Z"
   },
   {
    "duration": 17,
    "start_time": "2022-01-23T12:44:29.096Z"
   },
   {
    "duration": 366,
    "start_time": "2022-01-23T12:44:32.117Z"
   },
   {
    "duration": 11,
    "start_time": "2022-01-23T12:44:38.329Z"
   },
   {
    "duration": 10,
    "start_time": "2022-01-23T12:44:51.590Z"
   },
   {
    "duration": 11,
    "start_time": "2022-01-23T12:45:03.620Z"
   },
   {
    "duration": 94,
    "start_time": "2022-01-23T12:49:08.837Z"
   },
   {
    "duration": 301,
    "start_time": "2022-01-23T12:51:00.563Z"
   },
   {
    "duration": 11,
    "start_time": "2022-01-23T12:51:04.263Z"
   },
   {
    "duration": 13,
    "start_time": "2022-01-23T12:53:05.008Z"
   },
   {
    "duration": 78,
    "start_time": "2022-01-23T12:53:13.703Z"
   },
   {
    "duration": 108,
    "start_time": "2022-01-23T12:55:15.585Z"
   },
   {
    "duration": 18,
    "start_time": "2022-01-23T12:56:48.082Z"
   },
   {
    "duration": 284,
    "start_time": "2022-01-23T12:56:50.900Z"
   },
   {
    "duration": 331,
    "start_time": "2022-01-23T12:56:55.285Z"
   },
   {
    "duration": 338,
    "start_time": "2022-01-23T12:57:01.950Z"
   },
   {
    "duration": 321,
    "start_time": "2022-01-23T12:57:08.829Z"
   },
   {
    "duration": 10,
    "start_time": "2022-01-23T12:57:22.313Z"
   },
   {
    "duration": 4,
    "start_time": "2022-01-23T12:59:02.870Z"
   },
   {
    "duration": 7,
    "start_time": "2022-01-23T12:59:05.191Z"
   },
   {
    "duration": 358,
    "start_time": "2022-01-23T12:59:28.455Z"
   },
   {
    "duration": 7,
    "start_time": "2022-01-23T12:59:28.844Z"
   },
   {
    "duration": 4,
    "start_time": "2022-01-23T12:59:34.848Z"
   },
   {
    "duration": 10,
    "start_time": "2022-01-23T12:59:40.841Z"
   },
   {
    "duration": 19,
    "start_time": "2022-01-23T12:59:41.675Z"
   },
   {
    "duration": 11,
    "start_time": "2022-01-23T13:01:55.070Z"
   },
   {
    "duration": 19,
    "start_time": "2022-01-23T13:01:55.254Z"
   },
   {
    "duration": 12,
    "start_time": "2022-01-23T13:03:44.253Z"
   },
   {
    "duration": 2601,
    "start_time": "2022-01-23T13:03:46.883Z"
   },
   {
    "duration": 314,
    "start_time": "2022-01-23T13:04:28.785Z"
   },
   {
    "duration": 3,
    "start_time": "2022-01-23T13:04:51.604Z"
   },
   {
    "duration": 25,
    "start_time": "2022-01-23T13:04:52.076Z"
   },
   {
    "duration": 16,
    "start_time": "2022-01-23T13:04:52.230Z"
   },
   {
    "duration": 11,
    "start_time": "2022-01-23T13:04:52.736Z"
   },
   {
    "duration": 10,
    "start_time": "2022-01-23T13:04:53.072Z"
   },
   {
    "duration": 123,
    "start_time": "2022-01-23T13:04:53.226Z"
   },
   {
    "duration": 10,
    "start_time": "2022-01-23T13:04:53.409Z"
   },
   {
    "duration": 9,
    "start_time": "2022-01-23T13:04:54.018Z"
   },
   {
    "duration": 20,
    "start_time": "2022-01-23T13:04:54.194Z"
   },
   {
    "duration": 302,
    "start_time": "2022-01-23T13:04:54.382Z"
   },
   {
    "duration": 2475,
    "start_time": "2022-01-23T13:05:03.652Z"
   },
   {
    "duration": 2815,
    "start_time": "2022-01-23T13:05:14.342Z"
   },
   {
    "duration": 3066,
    "start_time": "2022-01-23T13:05:23.064Z"
   },
   {
    "duration": 3007,
    "start_time": "2022-01-23T13:05:35.639Z"
   },
   {
    "duration": 5595,
    "start_time": "2022-01-23T13:05:45.668Z"
   },
   {
    "duration": 6072,
    "start_time": "2022-01-23T13:06:02.592Z"
   },
   {
    "duration": 345,
    "start_time": "2022-01-23T13:06:57.416Z"
   },
   {
    "duration": 3776,
    "start_time": "2022-01-23T13:07:07.379Z"
   },
   {
    "duration": 3771,
    "start_time": "2022-01-23T13:07:28.666Z"
   },
   {
    "duration": 6591,
    "start_time": "2022-01-23T13:07:56.793Z"
   },
   {
    "duration": 49,
    "start_time": "2022-01-23T13:08:42.691Z"
   },
   {
    "duration": 518,
    "start_time": "2022-01-23T13:09:33.618Z"
   },
   {
    "duration": 558,
    "start_time": "2022-01-23T13:09:47.660Z"
   },
   {
    "duration": 1402,
    "start_time": "2022-01-23T13:09:54.050Z"
   },
   {
    "duration": 24,
    "start_time": "2022-01-23T13:09:55.456Z"
   },
   {
    "duration": 24,
    "start_time": "2022-01-23T13:09:55.482Z"
   },
   {
    "duration": 12,
    "start_time": "2022-01-23T13:09:55.524Z"
   },
   {
    "duration": 14,
    "start_time": "2022-01-23T13:09:55.539Z"
   },
   {
    "duration": 105,
    "start_time": "2022-01-23T13:09:55.555Z"
   },
   {
    "duration": 9,
    "start_time": "2022-01-23T13:09:55.664Z"
   },
   {
    "duration": 9,
    "start_time": "2022-01-23T13:09:55.676Z"
   },
   {
    "duration": 51,
    "start_time": "2022-01-23T13:09:55.688Z"
   },
   {
    "duration": 3712,
    "start_time": "2022-01-23T13:09:55.742Z"
   },
   {
    "duration": 3567,
    "start_time": "2022-01-23T13:09:59.456Z"
   },
   {
    "duration": 2116,
    "start_time": "2022-01-23T13:10:03.026Z"
   },
   {
    "duration": 114,
    "start_time": "2022-01-23T13:16:24.768Z"
   },
   {
    "duration": 1727,
    "start_time": "2022-01-23T13:22:54.616Z"
   },
   {
    "duration": 98,
    "start_time": "2022-01-23T13:23:50.964Z"
   },
   {
    "duration": 202,
    "start_time": "2022-01-23T13:24:12.012Z"
   },
   {
    "duration": 98,
    "start_time": "2022-01-23T13:27:06.013Z"
   },
   {
    "duration": 3,
    "start_time": "2022-01-23T18:16:51.399Z"
   },
   {
    "duration": 276,
    "start_time": "2022-01-23T18:17:33.159Z"
   },
   {
    "duration": 240,
    "start_time": "2022-01-23T18:17:59.218Z"
   },
   {
    "duration": 242,
    "start_time": "2022-01-23T18:18:11.399Z"
   },
   {
    "duration": 1237,
    "start_time": "2022-01-23T18:18:21.992Z"
   },
   {
    "duration": 22,
    "start_time": "2022-01-23T18:18:23.232Z"
   },
   {
    "duration": 28,
    "start_time": "2022-01-23T18:18:23.256Z"
   },
   {
    "duration": 20,
    "start_time": "2022-01-23T18:18:23.285Z"
   },
   {
    "duration": 14,
    "start_time": "2022-01-23T18:18:23.306Z"
   },
   {
    "duration": 41,
    "start_time": "2022-01-23T18:18:23.352Z"
   },
   {
    "duration": 6,
    "start_time": "2022-01-23T18:18:23.498Z"
   },
   {
    "duration": 8,
    "start_time": "2022-01-23T18:18:24.025Z"
   },
   {
    "duration": 12,
    "start_time": "2022-01-23T18:18:24.173Z"
   },
   {
    "duration": 2205,
    "start_time": "2022-01-23T18:18:24.365Z"
   },
   {
    "duration": 2024,
    "start_time": "2022-01-23T18:18:26.572Z"
   },
   {
    "duration": 1323,
    "start_time": "2022-01-23T18:18:28.598Z"
   },
   {
    "duration": 306,
    "start_time": "2022-01-23T18:18:29.923Z"
   },
   {
    "duration": 33,
    "start_time": "2022-01-23T18:18:56.969Z"
   },
   {
    "duration": 20,
    "start_time": "2022-01-23T18:18:57.142Z"
   },
   {
    "duration": 11,
    "start_time": "2022-01-23T18:18:57.303Z"
   },
   {
    "duration": 8,
    "start_time": "2022-01-23T18:18:57.816Z"
   },
   {
    "duration": 7,
    "start_time": "2022-01-23T18:18:58.166Z"
   },
   {
    "duration": 40,
    "start_time": "2022-01-23T18:18:58.327Z"
   },
   {
    "duration": 6,
    "start_time": "2022-01-23T18:18:58.480Z"
   },
   {
    "duration": 7,
    "start_time": "2022-01-23T18:18:58.995Z"
   },
   {
    "duration": 14,
    "start_time": "2022-01-23T18:18:59.159Z"
   },
   {
    "duration": 2119,
    "start_time": "2022-01-23T18:18:59.327Z"
   },
   {
    "duration": 2116,
    "start_time": "2022-01-23T18:19:01.448Z"
   },
   {
    "duration": 1223,
    "start_time": "2022-01-23T18:19:03.566Z"
   },
   {
    "duration": 7,
    "start_time": "2022-01-23T18:19:04.791Z"
   },
   {
    "duration": 7,
    "start_time": "2022-01-23T18:19:24.252Z"
   },
   {
    "duration": 16,
    "start_time": "2022-01-23T18:20:09.836Z"
   },
   {
    "duration": 22,
    "start_time": "2022-01-23T18:20:10.769Z"
   },
   {
    "duration": 18,
    "start_time": "2022-01-23T18:20:10.928Z"
   },
   {
    "duration": 7,
    "start_time": "2022-01-23T18:20:11.419Z"
   },
   {
    "duration": 8,
    "start_time": "2022-01-23T18:20:11.761Z"
   },
   {
    "duration": 45,
    "start_time": "2022-01-23T18:20:11.917Z"
   },
   {
    "duration": 6,
    "start_time": "2022-01-23T18:20:12.098Z"
   },
   {
    "duration": 7,
    "start_time": "2022-01-23T18:20:12.640Z"
   },
   {
    "duration": 13,
    "start_time": "2022-01-23T18:20:12.812Z"
   },
   {
    "duration": 2198,
    "start_time": "2022-01-23T18:20:12.989Z"
   },
   {
    "duration": 2383,
    "start_time": "2022-01-23T18:20:15.189Z"
   },
   {
    "duration": 1220,
    "start_time": "2022-01-23T18:20:17.574Z"
   },
   {
    "duration": 7,
    "start_time": "2022-01-23T18:20:18.796Z"
   },
   {
    "duration": 24,
    "start_time": "2022-01-23T18:20:42.602Z"
   },
   {
    "duration": 25,
    "start_time": "2022-01-23T18:20:50.029Z"
   },
   {
    "duration": 29,
    "start_time": "2022-01-23T18:20:59.799Z"
   },
   {
    "duration": 951,
    "start_time": "2022-01-23T18:26:10.413Z"
   },
   {
    "duration": 4,
    "start_time": "2022-01-23T18:26:42.412Z"
   },
   {
    "duration": 21,
    "start_time": "2022-01-23T18:26:42.740Z"
   },
   {
    "duration": 11,
    "start_time": "2022-01-23T18:26:42.923Z"
   },
   {
    "duration": 7,
    "start_time": "2022-01-23T18:26:43.373Z"
   },
   {
    "duration": 8,
    "start_time": "2022-01-23T18:26:43.693Z"
   },
   {
    "duration": 47,
    "start_time": "2022-01-23T18:26:43.874Z"
   },
   {
    "duration": 6,
    "start_time": "2022-01-23T18:26:44.021Z"
   },
   {
    "duration": 7,
    "start_time": "2022-01-23T18:26:44.521Z"
   },
   {
    "duration": 12,
    "start_time": "2022-01-23T18:26:44.681Z"
   },
   {
    "duration": 2340,
    "start_time": "2022-01-23T18:26:44.855Z"
   },
   {
    "duration": 2239,
    "start_time": "2022-01-23T18:26:47.197Z"
   },
   {
    "duration": 1307,
    "start_time": "2022-01-23T18:26:49.438Z"
   },
   {
    "duration": 18,
    "start_time": "2022-01-23T18:26:50.747Z"
   },
   {
    "duration": 63,
    "start_time": "2022-01-23T18:26:50.766Z"
   },
   {
    "duration": 939,
    "start_time": "2022-01-23T18:27:08.521Z"
   },
   {
    "duration": 763,
    "start_time": "2022-01-23T18:27:20.484Z"
   },
   {
    "duration": 10,
    "start_time": "2022-01-23T18:27:48.425Z"
   },
   {
    "duration": 260,
    "start_time": "2022-01-23T18:28:39.195Z"
   },
   {
    "duration": 355,
    "start_time": "2022-01-23T18:29:05.736Z"
   },
   {
    "duration": 3,
    "start_time": "2022-01-23T18:29:10.711Z"
   },
   {
    "duration": 360,
    "start_time": "2022-01-23T18:29:17.270Z"
   },
   {
    "duration": 323,
    "start_time": "2022-01-23T18:29:22.782Z"
   },
   {
    "duration": 3,
    "start_time": "2022-01-23T18:29:37.872Z"
   },
   {
    "duration": 287,
    "start_time": "2022-01-23T18:29:42.328Z"
   },
   {
    "duration": 3,
    "start_time": "2022-01-23T18:29:45.451Z"
   },
   {
    "duration": 4,
    "start_time": "2022-01-23T18:29:49.862Z"
   },
   {
    "duration": 4,
    "start_time": "2022-01-23T18:29:58.172Z"
   },
   {
    "duration": 26,
    "start_time": "2022-01-23T18:30:01.236Z"
   },
   {
    "duration": 19,
    "start_time": "2022-01-23T18:30:01.377Z"
   },
   {
    "duration": 10,
    "start_time": "2022-01-23T18:30:01.832Z"
   },
   {
    "duration": 8,
    "start_time": "2022-01-23T18:30:02.143Z"
   },
   {
    "duration": 48,
    "start_time": "2022-01-23T18:30:02.295Z"
   },
   {
    "duration": 7,
    "start_time": "2022-01-23T18:30:02.447Z"
   },
   {
    "duration": 8,
    "start_time": "2022-01-23T18:30:02.928Z"
   },
   {
    "duration": 13,
    "start_time": "2022-01-23T18:30:03.087Z"
   },
   {
    "duration": 2313,
    "start_time": "2022-01-23T18:30:03.247Z"
   },
   {
    "duration": 2175,
    "start_time": "2022-01-23T18:30:05.562Z"
   },
   {
    "duration": 1233,
    "start_time": "2022-01-23T18:30:07.739Z"
   },
   {
    "duration": 7,
    "start_time": "2022-01-23T18:30:08.975Z"
   },
   {
    "duration": 79,
    "start_time": "2022-01-23T18:30:08.984Z"
   },
   {
    "duration": 900,
    "start_time": "2022-01-23T18:30:09.066Z"
   },
   {
    "duration": 9,
    "start_time": "2022-01-23T18:30:09.968Z"
   },
   {
    "duration": 10,
    "start_time": "2022-01-23T18:30:31.294Z"
   },
   {
    "duration": 340,
    "start_time": "2022-01-23T18:31:04.367Z"
   },
   {
    "duration": 964,
    "start_time": "2022-01-23T18:32:42.946Z"
   },
   {
    "duration": 714,
    "start_time": "2022-01-23T18:32:53.448Z"
   },
   {
    "duration": 274,
    "start_time": "2022-01-23T18:33:23.456Z"
   },
   {
    "duration": 5,
    "start_time": "2022-01-23T18:34:40.624Z"
   },
   {
    "duration": 10,
    "start_time": "2022-01-23T18:34:46.449Z"
   },
   {
    "duration": 396,
    "start_time": "2022-01-23T18:41:29.423Z"
   },
   {
    "duration": 4,
    "start_time": "2022-01-23T18:41:52.697Z"
   },
   {
    "duration": 23,
    "start_time": "2022-01-23T18:41:52.891Z"
   },
   {
    "duration": 13,
    "start_time": "2022-01-23T18:41:53.048Z"
   },
   {
    "duration": 8,
    "start_time": "2022-01-23T18:41:53.519Z"
   },
   {
    "duration": 7,
    "start_time": "2022-01-23T18:41:53.836Z"
   },
   {
    "duration": 45,
    "start_time": "2022-01-23T18:41:53.987Z"
   },
   {
    "duration": 7,
    "start_time": "2022-01-23T18:41:54.148Z"
   },
   {
    "duration": 8,
    "start_time": "2022-01-23T18:41:54.647Z"
   },
   {
    "duration": 12,
    "start_time": "2022-01-23T18:41:54.800Z"
   },
   {
    "duration": 2332,
    "start_time": "2022-01-23T18:41:54.962Z"
   },
   {
    "duration": 2064,
    "start_time": "2022-01-23T18:41:57.296Z"
   },
   {
    "duration": 1520,
    "start_time": "2022-01-23T18:41:59.363Z"
   },
   {
    "duration": 10,
    "start_time": "2022-01-23T18:42:00.885Z"
   },
   {
    "duration": 65,
    "start_time": "2022-01-23T18:42:00.897Z"
   },
   {
    "duration": 1143,
    "start_time": "2022-01-23T18:42:00.965Z"
   },
   {
    "duration": 7,
    "start_time": "2022-01-23T18:42:09.736Z"
   },
   {
    "duration": 18,
    "start_time": "2022-01-23T18:42:29.339Z"
   },
   {
    "duration": 8,
    "start_time": "2022-01-23T18:42:35.656Z"
   },
   {
    "duration": 26,
    "start_time": "2022-01-23T18:42:35.666Z"
   },
   {
    "duration": 70,
    "start_time": "2022-01-23T18:42:35.695Z"
   },
   {
    "duration": 897,
    "start_time": "2022-01-23T18:42:35.767Z"
   },
   {
    "duration": 11,
    "start_time": "2022-01-23T18:42:36.666Z"
   },
   {
    "duration": 265,
    "start_time": "2022-01-23T18:42:36.679Z"
   },
   {
    "duration": 262,
    "start_time": "2022-01-23T18:42:47.027Z"
   },
   {
    "duration": 10,
    "start_time": "2022-01-23T18:43:40.850Z"
   },
   {
    "duration": 49,
    "start_time": "2022-01-23T18:43:41.012Z"
   },
   {
    "duration": 779,
    "start_time": "2022-01-23T18:43:41.261Z"
   },
   {
    "duration": 23,
    "start_time": "2022-01-23T18:43:42.042Z"
   },
   {
    "duration": 269,
    "start_time": "2022-01-23T18:43:42.067Z"
   },
   {
    "duration": 250,
    "start_time": "2022-01-23T18:44:30.867Z"
   },
   {
    "duration": 5,
    "start_time": "2022-01-23T18:44:40.185Z"
   },
   {
    "duration": 7,
    "start_time": "2022-01-23T18:45:47.891Z"
   },
   {
    "duration": 9,
    "start_time": "2022-01-23T18:45:56.117Z"
   },
   {
    "duration": 9,
    "start_time": "2022-01-23T18:46:11.246Z"
   },
   {
    "duration": 46,
    "start_time": "2022-01-23T18:46:11.417Z"
   },
   {
    "duration": 724,
    "start_time": "2022-01-23T18:46:11.661Z"
   },
   {
    "duration": 10,
    "start_time": "2022-01-23T18:46:12.387Z"
   },
   {
    "duration": 19,
    "start_time": "2022-01-23T18:46:12.398Z"
   },
   {
    "duration": 244,
    "start_time": "2022-01-23T18:46:12.597Z"
   },
   {
    "duration": 345,
    "start_time": "2022-01-23T18:46:43.914Z"
   },
   {
    "duration": 7,
    "start_time": "2022-01-23T18:50:05.434Z"
   },
   {
    "duration": 26,
    "start_time": "2022-01-23T18:50:19.103Z"
   },
   {
    "duration": 750,
    "start_time": "2022-01-23T18:50:22.223Z"
   },
   {
    "duration": 10,
    "start_time": "2022-01-23T18:50:23.399Z"
   },
   {
    "duration": 261,
    "start_time": "2022-01-23T18:50:24.777Z"
   },
   {
    "duration": 84,
    "start_time": "2022-01-23T18:51:00.458Z"
   },
   {
    "duration": 11,
    "start_time": "2022-01-23T18:51:00.631Z"
   },
   {
    "duration": 332,
    "start_time": "2022-01-23T18:51:00.784Z"
   },
   {
    "duration": 172,
    "start_time": "2022-01-23T18:51:00.946Z"
   },
   {
    "duration": 4,
    "start_time": "2022-01-23T18:51:28.635Z"
   },
   {
    "duration": 6,
    "start_time": "2022-01-23T18:51:38.549Z"
   },
   {
    "duration": 76,
    "start_time": "2022-01-23T18:51:53.374Z"
   },
   {
    "duration": 10,
    "start_time": "2022-01-23T18:51:59.977Z"
   },
   {
    "duration": 345,
    "start_time": "2022-01-23T19:01:58.964Z"
   },
   {
    "duration": 7,
    "start_time": "2022-01-23T19:01:59.497Z"
   },
   {
    "duration": 7,
    "start_time": "2022-01-23T19:01:59.685Z"
   },
   {
    "duration": 20,
    "start_time": "2022-01-23T19:01:59.859Z"
   },
   {
    "duration": 73,
    "start_time": "2022-01-23T19:02:00.062Z"
   },
   {
    "duration": 11,
    "start_time": "2022-01-23T19:02:00.190Z"
   },
   {
    "duration": 11,
    "start_time": "2022-01-23T19:02:00.355Z"
   },
   {
    "duration": 458,
    "start_time": "2022-01-23T19:02:00.524Z"
   },
   {
    "duration": 189,
    "start_time": "2022-01-23T19:02:00.795Z"
   },
   {
    "duration": 1240,
    "start_time": "2022-01-23T19:02:09.339Z"
   },
   {
    "duration": 23,
    "start_time": "2022-01-23T19:02:10.582Z"
   },
   {
    "duration": 33,
    "start_time": "2022-01-23T19:02:10.609Z"
   },
   {
    "duration": 49,
    "start_time": "2022-01-23T19:02:10.644Z"
   },
   {
    "duration": 39,
    "start_time": "2022-01-23T19:02:10.695Z"
   },
   {
    "duration": 90,
    "start_time": "2022-01-23T19:02:10.736Z"
   },
   {
    "duration": 20,
    "start_time": "2022-01-23T19:02:10.829Z"
   },
   {
    "duration": 60,
    "start_time": "2022-01-23T19:02:10.852Z"
   },
   {
    "duration": 46,
    "start_time": "2022-01-23T19:02:10.914Z"
   },
   {
    "duration": 2255,
    "start_time": "2022-01-23T19:02:10.962Z"
   },
   {
    "duration": 2171,
    "start_time": "2022-01-23T19:02:13.219Z"
   },
   {
    "duration": 1506,
    "start_time": "2022-01-23T19:02:15.392Z"
   },
   {
    "duration": 341,
    "start_time": "2022-01-23T19:02:16.900Z"
   },
   {
    "duration": 198,
    "start_time": "2022-01-23T19:02:17.045Z"
   },
   {
    "duration": 198,
    "start_time": "2022-01-23T19:02:17.046Z"
   },
   {
    "duration": 198,
    "start_time": "2022-01-23T19:02:17.047Z"
   },
   {
    "duration": 199,
    "start_time": "2022-01-23T19:02:17.047Z"
   },
   {
    "duration": 199,
    "start_time": "2022-01-23T19:02:17.048Z"
   },
   {
    "duration": 199,
    "start_time": "2022-01-23T19:02:17.049Z"
   },
   {
    "duration": 200,
    "start_time": "2022-01-23T19:02:17.049Z"
   },
   {
    "duration": 200,
    "start_time": "2022-01-23T19:02:17.050Z"
   },
   {
    "duration": 255,
    "start_time": "2022-01-23T19:02:31.945Z"
   },
   {
    "duration": 258,
    "start_time": "2022-01-23T19:02:39.856Z"
   },
   {
    "duration": 273,
    "start_time": "2022-01-23T19:03:06.494Z"
   },
   {
    "duration": 3,
    "start_time": "2022-01-23T19:03:09.374Z"
   },
   {
    "duration": 22,
    "start_time": "2022-01-23T19:03:09.524Z"
   },
   {
    "duration": 12,
    "start_time": "2022-01-23T19:03:09.677Z"
   },
   {
    "duration": 7,
    "start_time": "2022-01-23T19:03:10.159Z"
   },
   {
    "duration": 7,
    "start_time": "2022-01-23T19:03:10.484Z"
   },
   {
    "duration": 45,
    "start_time": "2022-01-23T19:03:10.651Z"
   },
   {
    "duration": 7,
    "start_time": "2022-01-23T19:03:10.823Z"
   },
   {
    "duration": 8,
    "start_time": "2022-01-23T19:03:11.314Z"
   },
   {
    "duration": 13,
    "start_time": "2022-01-23T19:03:11.623Z"
   },
   {
    "duration": 2066,
    "start_time": "2022-01-23T19:03:11.787Z"
   },
   {
    "duration": 2243,
    "start_time": "2022-01-23T19:03:13.855Z"
   },
   {
    "duration": 1354,
    "start_time": "2022-01-23T19:03:16.100Z"
   },
   {
    "duration": 6,
    "start_time": "2022-01-23T19:03:17.461Z"
   },
   {
    "duration": 8,
    "start_time": "2022-01-23T19:03:22.371Z"
   },
   {
    "duration": 8,
    "start_time": "2022-01-23T19:03:22.539Z"
   },
   {
    "duration": 12,
    "start_time": "2022-01-23T19:03:22.692Z"
   },
   {
    "duration": 66,
    "start_time": "2022-01-23T19:03:22.842Z"
   },
   {
    "duration": 11,
    "start_time": "2022-01-23T19:03:23.007Z"
   },
   {
    "duration": 119,
    "start_time": "2022-01-23T19:03:23.166Z"
   },
   {
    "duration": 256,
    "start_time": "2022-01-23T19:03:23.338Z"
   },
   {
    "duration": 213,
    "start_time": "2022-01-23T19:03:23.384Z"
   },
   {
    "duration": 251,
    "start_time": "2022-01-23T19:04:09.146Z"
   },
   {
    "duration": 4,
    "start_time": "2022-01-23T19:04:18.136Z"
   },
   {
    "duration": 4,
    "start_time": "2022-01-23T19:04:21.635Z"
   },
   {
    "duration": 23,
    "start_time": "2022-01-23T19:04:21.790Z"
   },
   {
    "duration": 12,
    "start_time": "2022-01-23T19:04:21.955Z"
   },
   {
    "duration": 9,
    "start_time": "2022-01-23T19:04:22.434Z"
   },
   {
    "duration": 7,
    "start_time": "2022-01-23T19:04:22.759Z"
   },
   {
    "duration": 46,
    "start_time": "2022-01-23T19:04:22.919Z"
   },
   {
    "duration": 6,
    "start_time": "2022-01-23T19:04:23.084Z"
   },
   {
    "duration": 7,
    "start_time": "2022-01-23T19:04:23.597Z"
   },
   {
    "duration": 12,
    "start_time": "2022-01-23T19:04:23.744Z"
   },
   {
    "duration": 2376,
    "start_time": "2022-01-23T19:04:23.913Z"
   },
   {
    "duration": 2281,
    "start_time": "2022-01-23T19:04:26.291Z"
   },
   {
    "duration": 1372,
    "start_time": "2022-01-23T19:04:28.574Z"
   },
   {
    "duration": 13,
    "start_time": "2022-01-23T19:04:29.948Z"
   },
   {
    "duration": 24,
    "start_time": "2022-01-23T19:04:29.963Z"
   },
   {
    "duration": 39,
    "start_time": "2022-01-23T19:04:29.988Z"
   },
   {
    "duration": 41,
    "start_time": "2022-01-23T19:04:30.029Z"
   },
   {
    "duration": 72,
    "start_time": "2022-01-23T19:04:30.073Z"
   },
   {
    "duration": 11,
    "start_time": "2022-01-23T19:04:30.148Z"
   },
   {
    "duration": 37,
    "start_time": "2022-01-23T19:04:30.161Z"
   },
   {
    "duration": 65,
    "start_time": "2022-01-23T19:04:30.200Z"
   },
   {
    "duration": 44,
    "start_time": "2022-01-23T19:04:30.267Z"
   },
   {
    "duration": 9,
    "start_time": "2022-01-23T19:04:48.452Z"
   },
   {
    "duration": 305,
    "start_time": "2022-01-23T19:05:44.009Z"
   },
   {
    "duration": 9,
    "start_time": "2022-01-23T19:05:44.315Z"
   },
   {
    "duration": 11,
    "start_time": "2022-01-23T19:05:44.345Z"
   },
   {
    "duration": 124,
    "start_time": "2022-01-24T15:57:51.402Z"
   },
   {
    "duration": 1518,
    "start_time": "2022-01-24T16:01:18.606Z"
   },
   {
    "duration": 27,
    "start_time": "2022-01-24T16:01:21.015Z"
   },
   {
    "duration": 23,
    "start_time": "2022-01-24T16:01:21.198Z"
   },
   {
    "duration": 12,
    "start_time": "2022-01-24T16:01:21.670Z"
   },
   {
    "duration": 10,
    "start_time": "2022-01-24T16:01:21.981Z"
   },
   {
    "duration": 70,
    "start_time": "2022-01-24T16:01:22.134Z"
   },
   {
    "duration": 7,
    "start_time": "2022-01-24T16:01:22.302Z"
   },
   {
    "duration": 10,
    "start_time": "2022-01-24T16:01:22.843Z"
   },
   {
    "duration": 20,
    "start_time": "2022-01-24T16:01:22.953Z"
   },
   {
    "duration": 3717,
    "start_time": "2022-01-24T16:01:23.117Z"
   },
   {
    "duration": 3528,
    "start_time": "2022-01-24T16:01:26.837Z"
   },
   {
    "duration": 2095,
    "start_time": "2022-01-24T16:01:30.368Z"
   },
   {
    "duration": 7,
    "start_time": "2022-01-24T16:01:32.465Z"
   },
   {
    "duration": 10,
    "start_time": "2022-01-24T16:01:32.474Z"
   },
   {
    "duration": 8,
    "start_time": "2022-01-24T16:01:32.487Z"
   },
   {
    "duration": 20,
    "start_time": "2022-01-24T16:01:32.497Z"
   },
   {
    "duration": 502,
    "start_time": "2022-01-24T16:01:32.520Z"
   },
   {
    "duration": 16,
    "start_time": "2022-01-24T16:01:33.024Z"
   },
   {
    "duration": 17,
    "start_time": "2022-01-24T16:01:33.058Z"
   },
   {
    "duration": 995,
    "start_time": "2022-01-24T16:01:42.274Z"
   },
   {
    "duration": 144558,
    "start_time": "2022-01-24T16:02:09.772Z"
   },
   {
    "duration": 116,
    "start_time": "2022-01-24T16:09:20.125Z"
   },
   {
    "duration": 1560,
    "start_time": "2022-01-24T16:11:28.676Z"
   },
   {
    "duration": 27,
    "start_time": "2022-01-24T16:11:30.239Z"
   },
   {
    "duration": 24,
    "start_time": "2022-01-24T16:11:30.270Z"
   },
   {
    "duration": 20,
    "start_time": "2022-01-24T16:11:30.297Z"
   },
   {
    "duration": 40,
    "start_time": "2022-01-24T16:11:30.319Z"
   },
   {
    "duration": 75,
    "start_time": "2022-01-24T16:11:30.362Z"
   },
   {
    "duration": 25,
    "start_time": "2022-01-24T16:11:30.440Z"
   },
   {
    "duration": 9,
    "start_time": "2022-01-24T16:11:30.469Z"
   },
   {
    "duration": 19,
    "start_time": "2022-01-24T16:11:30.480Z"
   },
   {
    "duration": 3762,
    "start_time": "2022-01-24T16:11:30.502Z"
   },
   {
    "duration": 3600,
    "start_time": "2022-01-24T16:11:34.267Z"
   },
   {
    "duration": 1939,
    "start_time": "2022-01-24T16:11:37.869Z"
   },
   {
    "duration": 8,
    "start_time": "2022-01-24T16:11:39.811Z"
   },
   {
    "duration": 37,
    "start_time": "2022-01-24T16:11:39.822Z"
   },
   {
    "duration": 11,
    "start_time": "2022-01-24T16:11:39.862Z"
   },
   {
    "duration": 27,
    "start_time": "2022-01-24T16:11:39.875Z"
   },
   {
    "duration": 544,
    "start_time": "2022-01-24T16:11:39.905Z"
   },
   {
    "duration": 18,
    "start_time": "2022-01-24T16:11:40.452Z"
   },
   {
    "duration": 18,
    "start_time": "2022-01-24T16:11:40.472Z"
   },
   {
    "duration": 149582,
    "start_time": "2022-01-24T16:11:40.494Z"
   },
   {
    "duration": 1781,
    "start_time": "2022-01-24T16:14:10.079Z"
   },
   {
    "duration": 1618,
    "start_time": "2022-01-24T16:14:31.742Z"
   },
   {
    "duration": 18,
    "start_time": "2022-01-24T16:14:38.188Z"
   },
   {
    "duration": 18,
    "start_time": "2022-01-24T16:15:03.421Z"
   },
   {
    "duration": 25,
    "start_time": "2022-01-24T16:15:09.650Z"
   },
   {
    "duration": 27,
    "start_time": "2022-01-24T16:15:23.829Z"
   },
   {
    "duration": 20,
    "start_time": "2022-01-24T16:15:32.047Z"
   },
   {
    "duration": 2569,
    "start_time": "2022-01-24T16:15:54.723Z"
   },
   {
    "duration": 157,
    "start_time": "2022-01-24T16:16:06.460Z"
   },
   {
    "duration": 120,
    "start_time": "2022-01-24T16:16:10.519Z"
   },
   {
    "duration": 3229,
    "start_time": "2022-01-24T16:16:13.888Z"
   },
   {
    "duration": 30,
    "start_time": "2022-01-24T16:16:20.723Z"
   },
   {
    "duration": 25,
    "start_time": "2022-01-24T16:17:00.218Z"
   },
   {
    "duration": 23,
    "start_time": "2022-01-24T16:17:03.328Z"
   },
   {
    "duration": 1514,
    "start_time": "2022-01-24T16:18:02.154Z"
   },
   {
    "duration": 24,
    "start_time": "2022-01-24T16:18:04.759Z"
   },
   {
    "duration": 115,
    "start_time": "2022-01-24T16:19:45.649Z"
   },
   {
    "duration": 384,
    "start_time": "2022-01-24T16:22:19.238Z"
   },
   {
    "duration": 641,
    "start_time": "2022-01-24T16:22:25.938Z"
   },
   {
    "duration": 70,
    "start_time": "2022-01-24T16:27:12.682Z"
   },
   {
    "duration": 41,
    "start_time": "2022-01-24T16:29:41.299Z"
   },
   {
    "duration": 92,
    "start_time": "2022-01-24T16:29:59.902Z"
   },
   {
    "duration": 80,
    "start_time": "2022-01-24T16:32:00.193Z"
   },
   {
    "duration": 10245,
    "start_time": "2022-01-24T16:32:01.037Z"
   },
   {
    "duration": 10257,
    "start_time": "2022-01-24T16:33:16.261Z"
   },
   {
    "duration": 49,
    "start_time": "2022-01-24T16:34:23.702Z"
   },
   {
    "duration": 2315,
    "start_time": "2022-01-24T16:35:04.781Z"
   },
   {
    "duration": 2290,
    "start_time": "2022-01-24T16:35:18.514Z"
   },
   {
    "duration": 4071,
    "start_time": "2022-01-24T16:35:38.927Z"
   },
   {
    "duration": 2190,
    "start_time": "2022-01-24T16:36:38.920Z"
   },
   {
    "duration": 2210,
    "start_time": "2022-01-24T16:36:48.844Z"
   },
   {
    "duration": 2988,
    "start_time": "2022-01-24T16:37:06.537Z"
   },
   {
    "duration": 2786,
    "start_time": "2022-01-24T16:37:17.136Z"
   },
   {
    "duration": 2005,
    "start_time": "2022-01-24T16:37:33.877Z"
   },
   {
    "duration": 2316,
    "start_time": "2022-01-24T16:37:59.791Z"
   },
   {
    "duration": 2017,
    "start_time": "2022-01-24T16:38:09.891Z"
   },
   {
    "duration": 2243,
    "start_time": "2022-01-24T16:38:19.605Z"
   },
   {
    "duration": 2058,
    "start_time": "2022-01-24T16:39:21.230Z"
   },
   {
    "duration": 4358,
    "start_time": "2022-01-24T16:39:26.821Z"
   },
   {
    "duration": 2090,
    "start_time": "2022-01-24T16:39:32.317Z"
   },
   {
    "duration": 2993,
    "start_time": "2022-01-24T16:39:37.912Z"
   },
   {
    "duration": 350,
    "start_time": "2022-01-24T16:43:21.410Z"
   },
   {
    "duration": 394,
    "start_time": "2022-01-24T16:43:30.321Z"
   },
   {
    "duration": 14,
    "start_time": "2022-01-24T16:43:42.909Z"
   },
   {
    "duration": 28,
    "start_time": "2022-01-24T16:44:04.781Z"
   },
   {
    "duration": 455,
    "start_time": "2022-01-24T16:44:34.140Z"
   },
   {
    "duration": 417,
    "start_time": "2022-01-24T16:44:52.905Z"
   },
   {
    "duration": 339,
    "start_time": "2022-01-24T16:45:15.648Z"
   },
   {
    "duration": 13,
    "start_time": "2022-01-24T16:45:23.263Z"
   },
   {
    "duration": 366,
    "start_time": "2022-01-24T16:46:03.451Z"
   },
   {
    "duration": 422,
    "start_time": "2022-01-24T16:46:29.965Z"
   },
   {
    "duration": 9,
    "start_time": "2022-01-24T16:46:36.099Z"
   },
   {
    "duration": 16,
    "start_time": "2022-01-24T16:46:40.905Z"
   },
   {
    "duration": 387,
    "start_time": "2022-01-24T16:46:45.195Z"
   },
   {
    "duration": 350,
    "start_time": "2022-01-24T16:46:48.255Z"
   },
   {
    "duration": 397,
    "start_time": "2022-01-24T16:46:50.732Z"
   },
   {
    "duration": 23,
    "start_time": "2022-01-24T16:46:56.207Z"
   },
   {
    "duration": 10,
    "start_time": "2022-01-24T16:47:25.984Z"
   },
   {
    "duration": 14,
    "start_time": "2022-01-24T16:47:28.732Z"
   },
   {
    "duration": 117,
    "start_time": "2022-01-24T16:47:47.944Z"
   },
   {
    "duration": 8,
    "start_time": "2022-01-24T16:48:08.982Z"
   },
   {
    "duration": 10,
    "start_time": "2022-01-24T16:48:15.151Z"
   },
   {
    "duration": 18,
    "start_time": "2022-01-24T16:48:35.257Z"
   },
   {
    "duration": 356,
    "start_time": "2022-01-24T16:50:06.315Z"
   },
   {
    "duration": 406,
    "start_time": "2022-01-24T16:50:14.509Z"
   },
   {
    "duration": 350,
    "start_time": "2022-01-24T16:50:43.075Z"
   },
   {
    "duration": 366,
    "start_time": "2022-01-24T16:50:58.396Z"
   },
   {
    "duration": 8628,
    "start_time": "2022-01-24T16:51:05.586Z"
   },
   {
    "duration": 366,
    "start_time": "2022-01-24T16:51:34.754Z"
   },
   {
    "duration": 1449,
    "start_time": "2022-01-24T16:51:52.965Z"
   },
   {
    "duration": 1462,
    "start_time": "2022-01-24T16:52:28.062Z"
   },
   {
    "duration": 20,
    "start_time": "2022-01-24T17:02:49.955Z"
   },
   {
    "duration": 17,
    "start_time": "2022-01-24T17:03:00.816Z"
   },
   {
    "duration": 17,
    "start_time": "2022-01-24T17:03:11.512Z"
   },
   {
    "duration": 346,
    "start_time": "2022-01-24T17:03:43.687Z"
   },
   {
    "duration": 389,
    "start_time": "2022-01-24T17:03:59.338Z"
   },
   {
    "duration": 352,
    "start_time": "2022-01-24T17:04:04.945Z"
   },
   {
    "duration": 7,
    "start_time": "2022-01-24T17:04:26.093Z"
   },
   {
    "duration": 364,
    "start_time": "2022-01-24T17:04:33.826Z"
   },
   {
    "duration": 18,
    "start_time": "2022-01-24T17:05:04.270Z"
   },
   {
    "duration": 18,
    "start_time": "2022-01-24T17:05:14.842Z"
   },
   {
    "duration": 20,
    "start_time": "2022-01-24T17:05:43.723Z"
   },
   {
    "duration": 21,
    "start_time": "2022-01-24T17:05:48.024Z"
   },
   {
    "duration": 17,
    "start_time": "2022-01-24T17:06:05.755Z"
   },
   {
    "duration": 15,
    "start_time": "2022-01-24T17:06:11.133Z"
   },
   {
    "duration": 17,
    "start_time": "2022-01-24T17:06:14.667Z"
   },
   {
    "duration": 21,
    "start_time": "2022-01-24T17:07:09.976Z"
   },
   {
    "duration": 22,
    "start_time": "2022-01-24T17:08:00.730Z"
   },
   {
    "duration": 22,
    "start_time": "2022-01-24T17:08:10.775Z"
   },
   {
    "duration": 22,
    "start_time": "2022-01-24T17:08:16.407Z"
   },
   {
    "duration": 3465,
    "start_time": "2022-01-24T17:10:21.938Z"
   }
  ],
  "kernelspec": {
   "display_name": "Python 3",
   "language": "python",
   "name": "python3"
  },
  "language_info": {
   "codemirror_mode": {
    "name": "ipython",
    "version": 3
   },
   "file_extension": ".py",
   "mimetype": "text/x-python",
   "name": "python",
   "nbconvert_exporter": "python",
   "pygments_lexer": "ipython3",
   "version": "3.8.8"
  },
  "toc": {
   "base_numbering": 1,
   "nav_menu": {},
   "number_sections": true,
   "sideBar": true,
   "skip_h1_title": true,
   "title_cell": "Table of Contents",
   "title_sidebar": "Contents",
   "toc_cell": false,
   "toc_position": {},
   "toc_section_display": true,
   "toc_window_display": false
  }
 },
 "nbformat": 4,
 "nbformat_minor": 2
}
