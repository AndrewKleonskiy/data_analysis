{
 "cells": [
  {
   "cell_type": "markdown",
   "id": "5d6ab99f",
   "metadata": {},
   "source": [
    "# Исследование объявлений о продаже квартир\n",
    "В вашем распоряжении данные сервиса Яндекс.  \n",
    "Недвижимость — архив объявлений о продаже квартир в Санкт-Петербурге и соседних населённых пунктах  \n",
    "за несколько лет. Нужно научиться определять рыночную стоимость объектов недвижимости.   \n",
    "Ваша задача — установить параметры.   \n",
    "Это позволит построить автоматизированную систему: она отследит аномалии и мошенническую деятельность.  \n",
    "По каждой квартире на продажу доступны два вида данных.  \n",
    "Первые вписаны пользователем, вторые — получены автоматически на основе картографических данных.  \n",
    "Например, расстояние до центра, аэропорта, ближайшего парка и водоёма.\n",
    "\n",
    "### Описание данных\n",
    "\n",
    "airports_nearest — расстояние до ближайшего аэропорта в метрах (м)  \n",
    "balcony — число балконов  \n",
    "ceiling_height — высота потолков (м)  \n",
    "cityCenters_nearest — расстояние до центра города (м)  \n",
    "days_exposition — сколько дней было размещено объявление (от публикации до снятия)  \n",
    "first_day_exposition — дата публикации  \n",
    "floor — этаж  \n",
    "floors_total — всего этажей в доме  \n",
    "is_apartment — апартаменты (булев тип)  \n",
    "kitchen_area — площадь кухни в квадратных метрах (м²)  \n",
    "last_price — цена на момент снятия с публикации  \n",
    "living_area — жилая площадь в квадратных метрах(м²)  \n",
    "locality_name — название населённого пункта  \n",
    "open_plan — свободная планировка (булев тип)  \n",
    "parks_around3000 — число парков в радиусе 3 км  \n",
    "parks_nearest — расстояние до ближайшего парка (м)  \n",
    "ponds_around3000 — число водоёмов в радиусе 3 км  \n",
    "ponds_nearest — расстояние до ближайшего водоёма (м)  \n",
    "rooms — число комнат  \n",
    "studio — квартира-студия (булев тип)  \n",
    "total_area — площадь квартиры в квадратных метрах (м²)  \n",
    "total_images — число фотографий квартиры в объявлении  \n",
    "\n"
   ]
  },
  {
   "cell_type": "markdown",
   "id": "9515f4d1",
   "metadata": {},
   "source": [
    "## Изучение данных из файла"
   ]
  },
  {
   "cell_type": "code",
   "execution_count": 1,
   "id": "266368f9",
   "metadata": {},
   "outputs": [
    {
     "name": "stdout",
     "output_type": "stream",
     "text": [
      "<class 'pandas.core.frame.DataFrame'>\n",
      "RangeIndex: 23699 entries, 0 to 23698\n",
      "Data columns (total 22 columns):\n",
      "total_images            23699 non-null int64\n",
      "last_price              23699 non-null float64\n",
      "total_area              23699 non-null float64\n",
      "first_day_exposition    23699 non-null object\n",
      "rooms                   23699 non-null int64\n",
      "ceiling_height          14504 non-null float64\n",
      "floors_total            23613 non-null float64\n",
      "living_area             21796 non-null float64\n",
      "floor                   23699 non-null int64\n",
      "is_apartment            2775 non-null object\n",
      "studio                  23699 non-null bool\n",
      "open_plan               23699 non-null bool\n",
      "kitchen_area            21421 non-null float64\n",
      "balcony                 12180 non-null float64\n",
      "locality_name           23650 non-null object\n",
      "airports_nearest        18157 non-null float64\n",
      "cityCenters_nearest     18180 non-null float64\n",
      "parks_around3000        18181 non-null float64\n",
      "parks_nearest           8079 non-null float64\n",
      "ponds_around3000        18181 non-null float64\n",
      "ponds_nearest           9110 non-null float64\n",
      "days_exposition         20518 non-null float64\n",
      "dtypes: bool(2), float64(14), int64(3), object(3)\n",
      "memory usage: 3.7+ MB\n",
      "<class 'pandas.core.frame.DataFrame'>\n",
      "RangeIndex: 23699 entries, 0 to 23698\n",
      "Data columns (total 22 columns):\n",
      "total_images            23699 non-null int64\n",
      "last_price              23699 non-null float64\n",
      "total_area              23699 non-null float64\n",
      "first_day_exposition    23699 non-null object\n",
      "rooms                   23699 non-null int64\n",
      "ceiling_height          14504 non-null float64\n",
      "floors_total            23613 non-null float64\n",
      "living_area             21796 non-null float64\n",
      "floor                   23699 non-null int64\n",
      "is_apartment            2775 non-null object\n",
      "studio                  23699 non-null bool\n",
      "open_plan               23699 non-null bool\n",
      "kitchen_area            21421 non-null float64\n",
      "balcony                 12180 non-null float64\n",
      "locality_name           23650 non-null object\n",
      "airports_nearest        18157 non-null float64\n",
      "cityCenters_nearest     18180 non-null float64\n",
      "parks_around3000        18181 non-null float64\n",
      "parks_nearest           8079 non-null float64\n",
      "ponds_around3000        18181 non-null float64\n",
      "ponds_nearest           9110 non-null float64\n",
      "days_exposition         20518 non-null float64\n",
      "dtypes: bool(2), float64(14), int64(3), object(3)\n",
      "memory usage: 3.7+ MB\n"
     ]
    },
    {
     "data": {
      "text/html": [
       "<div>\n",
       "<style scoped>\n",
       "    .dataframe tbody tr th:only-of-type {\n",
       "        vertical-align: middle;\n",
       "    }\n",
       "\n",
       "    .dataframe tbody tr th {\n",
       "        vertical-align: top;\n",
       "    }\n",
       "\n",
       "    .dataframe thead th {\n",
       "        text-align: right;\n",
       "    }\n",
       "</style>\n",
       "<table border=\"1\" class=\"dataframe\">\n",
       "  <thead>\n",
       "    <tr style=\"text-align: right;\">\n",
       "      <th></th>\n",
       "      <th>total_images</th>\n",
       "      <th>last_price</th>\n",
       "      <th>total_area</th>\n",
       "      <th>rooms</th>\n",
       "      <th>ceiling_height</th>\n",
       "      <th>floors_total</th>\n",
       "      <th>living_area</th>\n",
       "      <th>floor</th>\n",
       "      <th>kitchen_area</th>\n",
       "      <th>balcony</th>\n",
       "      <th>airports_nearest</th>\n",
       "      <th>cityCenters_nearest</th>\n",
       "      <th>parks_around3000</th>\n",
       "      <th>parks_nearest</th>\n",
       "      <th>ponds_around3000</th>\n",
       "      <th>ponds_nearest</th>\n",
       "      <th>days_exposition</th>\n",
       "    </tr>\n",
       "  </thead>\n",
       "  <tbody>\n",
       "    <tr>\n",
       "      <td>count</td>\n",
       "      <td>23699.000000</td>\n",
       "      <td>2.369900e+04</td>\n",
       "      <td>23699.000000</td>\n",
       "      <td>23699.000000</td>\n",
       "      <td>14504.000000</td>\n",
       "      <td>23613.000000</td>\n",
       "      <td>21796.000000</td>\n",
       "      <td>23699.000000</td>\n",
       "      <td>21421.000000</td>\n",
       "      <td>12180.000000</td>\n",
       "      <td>18157.000000</td>\n",
       "      <td>18180.000000</td>\n",
       "      <td>18181.000000</td>\n",
       "      <td>8079.000000</td>\n",
       "      <td>18181.000000</td>\n",
       "      <td>9110.000000</td>\n",
       "      <td>20518.000000</td>\n",
       "    </tr>\n",
       "    <tr>\n",
       "      <td>mean</td>\n",
       "      <td>9.858475</td>\n",
       "      <td>6.541549e+06</td>\n",
       "      <td>60.348651</td>\n",
       "      <td>2.070636</td>\n",
       "      <td>2.771499</td>\n",
       "      <td>10.673824</td>\n",
       "      <td>34.457852</td>\n",
       "      <td>5.892358</td>\n",
       "      <td>10.569807</td>\n",
       "      <td>1.150082</td>\n",
       "      <td>28793.672193</td>\n",
       "      <td>14191.277833</td>\n",
       "      <td>0.611408</td>\n",
       "      <td>490.804555</td>\n",
       "      <td>0.770255</td>\n",
       "      <td>517.980900</td>\n",
       "      <td>180.888634</td>\n",
       "    </tr>\n",
       "    <tr>\n",
       "      <td>std</td>\n",
       "      <td>5.682529</td>\n",
       "      <td>1.088701e+07</td>\n",
       "      <td>35.654083</td>\n",
       "      <td>1.078405</td>\n",
       "      <td>1.261056</td>\n",
       "      <td>6.597173</td>\n",
       "      <td>22.030445</td>\n",
       "      <td>4.885249</td>\n",
       "      <td>5.905438</td>\n",
       "      <td>1.071300</td>\n",
       "      <td>12630.880622</td>\n",
       "      <td>8608.386210</td>\n",
       "      <td>0.802074</td>\n",
       "      <td>342.317995</td>\n",
       "      <td>0.938346</td>\n",
       "      <td>277.720643</td>\n",
       "      <td>219.727988</td>\n",
       "    </tr>\n",
       "    <tr>\n",
       "      <td>min</td>\n",
       "      <td>0.000000</td>\n",
       "      <td>1.219000e+04</td>\n",
       "      <td>12.000000</td>\n",
       "      <td>0.000000</td>\n",
       "      <td>1.000000</td>\n",
       "      <td>1.000000</td>\n",
       "      <td>2.000000</td>\n",
       "      <td>1.000000</td>\n",
       "      <td>1.300000</td>\n",
       "      <td>0.000000</td>\n",
       "      <td>0.000000</td>\n",
       "      <td>181.000000</td>\n",
       "      <td>0.000000</td>\n",
       "      <td>1.000000</td>\n",
       "      <td>0.000000</td>\n",
       "      <td>13.000000</td>\n",
       "      <td>1.000000</td>\n",
       "    </tr>\n",
       "    <tr>\n",
       "      <td>25%</td>\n",
       "      <td>6.000000</td>\n",
       "      <td>3.400000e+06</td>\n",
       "      <td>40.000000</td>\n",
       "      <td>1.000000</td>\n",
       "      <td>2.520000</td>\n",
       "      <td>5.000000</td>\n",
       "      <td>18.600000</td>\n",
       "      <td>2.000000</td>\n",
       "      <td>7.000000</td>\n",
       "      <td>0.000000</td>\n",
       "      <td>18585.000000</td>\n",
       "      <td>9238.000000</td>\n",
       "      <td>0.000000</td>\n",
       "      <td>288.000000</td>\n",
       "      <td>0.000000</td>\n",
       "      <td>294.000000</td>\n",
       "      <td>45.000000</td>\n",
       "    </tr>\n",
       "    <tr>\n",
       "      <td>50%</td>\n",
       "      <td>9.000000</td>\n",
       "      <td>4.650000e+06</td>\n",
       "      <td>52.000000</td>\n",
       "      <td>2.000000</td>\n",
       "      <td>2.650000</td>\n",
       "      <td>9.000000</td>\n",
       "      <td>30.000000</td>\n",
       "      <td>4.000000</td>\n",
       "      <td>9.100000</td>\n",
       "      <td>1.000000</td>\n",
       "      <td>26726.000000</td>\n",
       "      <td>13098.500000</td>\n",
       "      <td>0.000000</td>\n",
       "      <td>455.000000</td>\n",
       "      <td>1.000000</td>\n",
       "      <td>502.000000</td>\n",
       "      <td>95.000000</td>\n",
       "    </tr>\n",
       "    <tr>\n",
       "      <td>75%</td>\n",
       "      <td>14.000000</td>\n",
       "      <td>6.800000e+06</td>\n",
       "      <td>69.900000</td>\n",
       "      <td>3.000000</td>\n",
       "      <td>2.800000</td>\n",
       "      <td>16.000000</td>\n",
       "      <td>42.300000</td>\n",
       "      <td>8.000000</td>\n",
       "      <td>12.000000</td>\n",
       "      <td>2.000000</td>\n",
       "      <td>37273.000000</td>\n",
       "      <td>16293.000000</td>\n",
       "      <td>1.000000</td>\n",
       "      <td>612.000000</td>\n",
       "      <td>1.000000</td>\n",
       "      <td>729.000000</td>\n",
       "      <td>232.000000</td>\n",
       "    </tr>\n",
       "    <tr>\n",
       "      <td>max</td>\n",
       "      <td>50.000000</td>\n",
       "      <td>7.630000e+08</td>\n",
       "      <td>900.000000</td>\n",
       "      <td>19.000000</td>\n",
       "      <td>100.000000</td>\n",
       "      <td>60.000000</td>\n",
       "      <td>409.700000</td>\n",
       "      <td>33.000000</td>\n",
       "      <td>112.000000</td>\n",
       "      <td>5.000000</td>\n",
       "      <td>84869.000000</td>\n",
       "      <td>65968.000000</td>\n",
       "      <td>3.000000</td>\n",
       "      <td>3190.000000</td>\n",
       "      <td>3.000000</td>\n",
       "      <td>1344.000000</td>\n",
       "      <td>1580.000000</td>\n",
       "    </tr>\n",
       "  </tbody>\n",
       "</table>\n",
       "</div>"
      ],
      "text/plain": [
       "       total_images    last_price    total_area         rooms  ceiling_height  \\\n",
       "count  23699.000000  2.369900e+04  23699.000000  23699.000000    14504.000000   \n",
       "mean       9.858475  6.541549e+06     60.348651      2.070636        2.771499   \n",
       "std        5.682529  1.088701e+07     35.654083      1.078405        1.261056   \n",
       "min        0.000000  1.219000e+04     12.000000      0.000000        1.000000   \n",
       "25%        6.000000  3.400000e+06     40.000000      1.000000        2.520000   \n",
       "50%        9.000000  4.650000e+06     52.000000      2.000000        2.650000   \n",
       "75%       14.000000  6.800000e+06     69.900000      3.000000        2.800000   \n",
       "max       50.000000  7.630000e+08    900.000000     19.000000      100.000000   \n",
       "\n",
       "       floors_total   living_area         floor  kitchen_area       balcony  \\\n",
       "count  23613.000000  21796.000000  23699.000000  21421.000000  12180.000000   \n",
       "mean      10.673824     34.457852      5.892358     10.569807      1.150082   \n",
       "std        6.597173     22.030445      4.885249      5.905438      1.071300   \n",
       "min        1.000000      2.000000      1.000000      1.300000      0.000000   \n",
       "25%        5.000000     18.600000      2.000000      7.000000      0.000000   \n",
       "50%        9.000000     30.000000      4.000000      9.100000      1.000000   \n",
       "75%       16.000000     42.300000      8.000000     12.000000      2.000000   \n",
       "max       60.000000    409.700000     33.000000    112.000000      5.000000   \n",
       "\n",
       "       airports_nearest  cityCenters_nearest  parks_around3000  parks_nearest  \\\n",
       "count      18157.000000         18180.000000      18181.000000    8079.000000   \n",
       "mean       28793.672193         14191.277833          0.611408     490.804555   \n",
       "std        12630.880622          8608.386210          0.802074     342.317995   \n",
       "min            0.000000           181.000000          0.000000       1.000000   \n",
       "25%        18585.000000          9238.000000          0.000000     288.000000   \n",
       "50%        26726.000000         13098.500000          0.000000     455.000000   \n",
       "75%        37273.000000         16293.000000          1.000000     612.000000   \n",
       "max        84869.000000         65968.000000          3.000000    3190.000000   \n",
       "\n",
       "       ponds_around3000  ponds_nearest  days_exposition  \n",
       "count      18181.000000    9110.000000     20518.000000  \n",
       "mean           0.770255     517.980900       180.888634  \n",
       "std            0.938346     277.720643       219.727988  \n",
       "min            0.000000      13.000000         1.000000  \n",
       "25%            0.000000     294.000000        45.000000  \n",
       "50%            1.000000     502.000000        95.000000  \n",
       "75%            1.000000     729.000000       232.000000  \n",
       "max            3.000000    1344.000000      1580.000000  "
      ]
     },
     "execution_count": 1,
     "metadata": {},
     "output_type": "execute_result"
    }
   ],
   "source": [
    "import pandas as pd\n",
    "\n",
    "try:\n",
    "    \n",
    "    df = pd.read_csv('/Users/andrejkleonskij/Downloads/real_estate_data.csv',sep = '\\t')\n",
    "\n",
    "except:\n",
    "    \n",
    "\n",
    "    df = pd.read_csv('/datasets/real_estate_data.csv', sep = '\\t')\n",
    "    \n",
    "    \n",
    "df.info()\n",
    "df.head(5)\n",
    "df.info()\n",
    "df.describe()"
   ]
  },
  {
   "cell_type": "markdown",
   "id": "d3698b08",
   "metadata": {},
   "source": [
    "### Вывод\n",
    "Открыли ДатаСет и вывели датафрейм, также вывели информацию с помощью метода info и describe\n",
    "По информации видно, что датафрейм состоит из 21 столбца, в 14 из которызх есть пропущенные значения"
   ]
  },
  {
   "cell_type": "markdown",
   "id": "1d7d37e4",
   "metadata": {},
   "source": [
    "### Шаг 2. Предобработка данных"
   ]
  },
  {
   "cell_type": "code",
   "execution_count": 2,
   "id": "9c581dab",
   "metadata": {},
   "outputs": [
    {
     "data": {
      "text/html": [
       "<div>\n",
       "<style scoped>\n",
       "    .dataframe tbody tr th:only-of-type {\n",
       "        vertical-align: middle;\n",
       "    }\n",
       "\n",
       "    .dataframe tbody tr th {\n",
       "        vertical-align: top;\n",
       "    }\n",
       "\n",
       "    .dataframe thead th {\n",
       "        text-align: right;\n",
       "    }\n",
       "</style>\n",
       "<table border=\"1\" class=\"dataframe\">\n",
       "  <thead>\n",
       "    <tr style=\"text-align: right;\">\n",
       "      <th></th>\n",
       "      <th>total_images</th>\n",
       "      <th>last_price</th>\n",
       "      <th>total_area</th>\n",
       "      <th>first_day_exposition</th>\n",
       "      <th>rooms</th>\n",
       "      <th>ceiling_height</th>\n",
       "      <th>floors_total</th>\n",
       "      <th>living_area</th>\n",
       "      <th>floor</th>\n",
       "      <th>is_apartment</th>\n",
       "      <th>...</th>\n",
       "      <th>kitchen_area</th>\n",
       "      <th>balcony</th>\n",
       "      <th>locality_name</th>\n",
       "      <th>airports_nearest</th>\n",
       "      <th>cityCenters_nearest</th>\n",
       "      <th>parks_around3000</th>\n",
       "      <th>parks_nearest</th>\n",
       "      <th>ponds_around3000</th>\n",
       "      <th>ponds_nearest</th>\n",
       "      <th>days_exposition</th>\n",
       "    </tr>\n",
       "  </thead>\n",
       "  <tbody>\n",
       "    <tr>\n",
       "      <td>1</td>\n",
       "      <td>7</td>\n",
       "      <td>3350000.0</td>\n",
       "      <td>40.4</td>\n",
       "      <td>2018-12-04T00:00:00</td>\n",
       "      <td>1</td>\n",
       "      <td>NaN</td>\n",
       "      <td>11.0</td>\n",
       "      <td>18.6</td>\n",
       "      <td>1</td>\n",
       "      <td>NaN</td>\n",
       "      <td>...</td>\n",
       "      <td>11.0</td>\n",
       "      <td>2.0</td>\n",
       "      <td>посёлок Шушары</td>\n",
       "      <td>12817.0</td>\n",
       "      <td>18603.0</td>\n",
       "      <td>0.0</td>\n",
       "      <td>NaN</td>\n",
       "      <td>0.0</td>\n",
       "      <td>NaN</td>\n",
       "      <td>81.0</td>\n",
       "    </tr>\n",
       "    <tr>\n",
       "      <td>2</td>\n",
       "      <td>10</td>\n",
       "      <td>5196000.0</td>\n",
       "      <td>56.0</td>\n",
       "      <td>2015-08-20T00:00:00</td>\n",
       "      <td>2</td>\n",
       "      <td>NaN</td>\n",
       "      <td>5.0</td>\n",
       "      <td>34.3</td>\n",
       "      <td>4</td>\n",
       "      <td>NaN</td>\n",
       "      <td>...</td>\n",
       "      <td>8.3</td>\n",
       "      <td>0.0</td>\n",
       "      <td>Санкт-Петербург</td>\n",
       "      <td>21741.0</td>\n",
       "      <td>13933.0</td>\n",
       "      <td>1.0</td>\n",
       "      <td>90.0</td>\n",
       "      <td>2.0</td>\n",
       "      <td>574.0</td>\n",
       "      <td>558.0</td>\n",
       "    </tr>\n",
       "    <tr>\n",
       "      <td>3</td>\n",
       "      <td>0</td>\n",
       "      <td>64900000.0</td>\n",
       "      <td>159.0</td>\n",
       "      <td>2015-07-24T00:00:00</td>\n",
       "      <td>3</td>\n",
       "      <td>NaN</td>\n",
       "      <td>14.0</td>\n",
       "      <td>NaN</td>\n",
       "      <td>9</td>\n",
       "      <td>NaN</td>\n",
       "      <td>...</td>\n",
       "      <td>NaN</td>\n",
       "      <td>0.0</td>\n",
       "      <td>Санкт-Петербург</td>\n",
       "      <td>28098.0</td>\n",
       "      <td>6800.0</td>\n",
       "      <td>2.0</td>\n",
       "      <td>84.0</td>\n",
       "      <td>3.0</td>\n",
       "      <td>234.0</td>\n",
       "      <td>424.0</td>\n",
       "    </tr>\n",
       "    <tr>\n",
       "      <td>5</td>\n",
       "      <td>10</td>\n",
       "      <td>2890000.0</td>\n",
       "      <td>30.4</td>\n",
       "      <td>2018-09-10T00:00:00</td>\n",
       "      <td>1</td>\n",
       "      <td>NaN</td>\n",
       "      <td>12.0</td>\n",
       "      <td>14.4</td>\n",
       "      <td>5</td>\n",
       "      <td>NaN</td>\n",
       "      <td>...</td>\n",
       "      <td>9.1</td>\n",
       "      <td>NaN</td>\n",
       "      <td>городской посёлок Янино-1</td>\n",
       "      <td>NaN</td>\n",
       "      <td>NaN</td>\n",
       "      <td>NaN</td>\n",
       "      <td>NaN</td>\n",
       "      <td>NaN</td>\n",
       "      <td>NaN</td>\n",
       "      <td>55.0</td>\n",
       "    </tr>\n",
       "    <tr>\n",
       "      <td>6</td>\n",
       "      <td>6</td>\n",
       "      <td>3700000.0</td>\n",
       "      <td>37.3</td>\n",
       "      <td>2017-11-02T00:00:00</td>\n",
       "      <td>1</td>\n",
       "      <td>NaN</td>\n",
       "      <td>26.0</td>\n",
       "      <td>10.6</td>\n",
       "      <td>6</td>\n",
       "      <td>NaN</td>\n",
       "      <td>...</td>\n",
       "      <td>14.4</td>\n",
       "      <td>1.0</td>\n",
       "      <td>посёлок Парголово</td>\n",
       "      <td>52996.0</td>\n",
       "      <td>19143.0</td>\n",
       "      <td>0.0</td>\n",
       "      <td>NaN</td>\n",
       "      <td>0.0</td>\n",
       "      <td>NaN</td>\n",
       "      <td>155.0</td>\n",
       "    </tr>\n",
       "    <tr>\n",
       "      <td>...</td>\n",
       "      <td>...</td>\n",
       "      <td>...</td>\n",
       "      <td>...</td>\n",
       "      <td>...</td>\n",
       "      <td>...</td>\n",
       "      <td>...</td>\n",
       "      <td>...</td>\n",
       "      <td>...</td>\n",
       "      <td>...</td>\n",
       "      <td>...</td>\n",
       "      <td>...</td>\n",
       "      <td>...</td>\n",
       "      <td>...</td>\n",
       "      <td>...</td>\n",
       "      <td>...</td>\n",
       "      <td>...</td>\n",
       "      <td>...</td>\n",
       "      <td>...</td>\n",
       "      <td>...</td>\n",
       "      <td>...</td>\n",
       "      <td>...</td>\n",
       "    </tr>\n",
       "    <tr>\n",
       "      <td>23687</td>\n",
       "      <td>6</td>\n",
       "      <td>3200000.0</td>\n",
       "      <td>39.0</td>\n",
       "      <td>2017-12-16T00:00:00</td>\n",
       "      <td>1</td>\n",
       "      <td>NaN</td>\n",
       "      <td>9.0</td>\n",
       "      <td>20.0</td>\n",
       "      <td>6</td>\n",
       "      <td>NaN</td>\n",
       "      <td>...</td>\n",
       "      <td>11.0</td>\n",
       "      <td>2.0</td>\n",
       "      <td>Санкт-Петербург</td>\n",
       "      <td>40837.0</td>\n",
       "      <td>16704.0</td>\n",
       "      <td>0.0</td>\n",
       "      <td>NaN</td>\n",
       "      <td>0.0</td>\n",
       "      <td>NaN</td>\n",
       "      <td>38.0</td>\n",
       "    </tr>\n",
       "    <tr>\n",
       "      <td>23690</td>\n",
       "      <td>3</td>\n",
       "      <td>5500000.0</td>\n",
       "      <td>52.0</td>\n",
       "      <td>2018-07-19T00:00:00</td>\n",
       "      <td>2</td>\n",
       "      <td>NaN</td>\n",
       "      <td>5.0</td>\n",
       "      <td>31.0</td>\n",
       "      <td>2</td>\n",
       "      <td>NaN</td>\n",
       "      <td>...</td>\n",
       "      <td>6.0</td>\n",
       "      <td>NaN</td>\n",
       "      <td>Санкт-Петербург</td>\n",
       "      <td>20151.0</td>\n",
       "      <td>6263.0</td>\n",
       "      <td>1.0</td>\n",
       "      <td>300.0</td>\n",
       "      <td>0.0</td>\n",
       "      <td>NaN</td>\n",
       "      <td>15.0</td>\n",
       "    </tr>\n",
       "    <tr>\n",
       "      <td>23692</td>\n",
       "      <td>2</td>\n",
       "      <td>1350000.0</td>\n",
       "      <td>30.0</td>\n",
       "      <td>2017-07-07T00:00:00</td>\n",
       "      <td>1</td>\n",
       "      <td>NaN</td>\n",
       "      <td>5.0</td>\n",
       "      <td>17.5</td>\n",
       "      <td>4</td>\n",
       "      <td>NaN</td>\n",
       "      <td>...</td>\n",
       "      <td>6.0</td>\n",
       "      <td>NaN</td>\n",
       "      <td>Тихвин</td>\n",
       "      <td>NaN</td>\n",
       "      <td>NaN</td>\n",
       "      <td>NaN</td>\n",
       "      <td>NaN</td>\n",
       "      <td>NaN</td>\n",
       "      <td>NaN</td>\n",
       "      <td>413.0</td>\n",
       "    </tr>\n",
       "    <tr>\n",
       "      <td>23695</td>\n",
       "      <td>14</td>\n",
       "      <td>3100000.0</td>\n",
       "      <td>59.0</td>\n",
       "      <td>2018-01-15T00:00:00</td>\n",
       "      <td>3</td>\n",
       "      <td>NaN</td>\n",
       "      <td>5.0</td>\n",
       "      <td>38.0</td>\n",
       "      <td>4</td>\n",
       "      <td>NaN</td>\n",
       "      <td>...</td>\n",
       "      <td>8.5</td>\n",
       "      <td>NaN</td>\n",
       "      <td>Тосно</td>\n",
       "      <td>NaN</td>\n",
       "      <td>NaN</td>\n",
       "      <td>NaN</td>\n",
       "      <td>NaN</td>\n",
       "      <td>NaN</td>\n",
       "      <td>NaN</td>\n",
       "      <td>45.0</td>\n",
       "    </tr>\n",
       "    <tr>\n",
       "      <td>23696</td>\n",
       "      <td>18</td>\n",
       "      <td>2500000.0</td>\n",
       "      <td>56.7</td>\n",
       "      <td>2018-02-11T00:00:00</td>\n",
       "      <td>2</td>\n",
       "      <td>NaN</td>\n",
       "      <td>3.0</td>\n",
       "      <td>29.7</td>\n",
       "      <td>1</td>\n",
       "      <td>NaN</td>\n",
       "      <td>...</td>\n",
       "      <td>NaN</td>\n",
       "      <td>NaN</td>\n",
       "      <td>село Рождествено</td>\n",
       "      <td>NaN</td>\n",
       "      <td>NaN</td>\n",
       "      <td>NaN</td>\n",
       "      <td>NaN</td>\n",
       "      <td>NaN</td>\n",
       "      <td>NaN</td>\n",
       "      <td>NaN</td>\n",
       "    </tr>\n",
       "  </tbody>\n",
       "</table>\n",
       "<p>9195 rows × 22 columns</p>\n",
       "</div>"
      ],
      "text/plain": [
       "       total_images  last_price  total_area first_day_exposition  rooms  \\\n",
       "1                 7   3350000.0        40.4  2018-12-04T00:00:00      1   \n",
       "2                10   5196000.0        56.0  2015-08-20T00:00:00      2   \n",
       "3                 0  64900000.0       159.0  2015-07-24T00:00:00      3   \n",
       "5                10   2890000.0        30.4  2018-09-10T00:00:00      1   \n",
       "6                 6   3700000.0        37.3  2017-11-02T00:00:00      1   \n",
       "...             ...         ...         ...                  ...    ...   \n",
       "23687             6   3200000.0        39.0  2017-12-16T00:00:00      1   \n",
       "23690             3   5500000.0        52.0  2018-07-19T00:00:00      2   \n",
       "23692             2   1350000.0        30.0  2017-07-07T00:00:00      1   \n",
       "23695            14   3100000.0        59.0  2018-01-15T00:00:00      3   \n",
       "23696            18   2500000.0        56.7  2018-02-11T00:00:00      2   \n",
       "\n",
       "       ceiling_height  floors_total  living_area  floor is_apartment  ...  \\\n",
       "1                 NaN          11.0         18.6      1          NaN  ...   \n",
       "2                 NaN           5.0         34.3      4          NaN  ...   \n",
       "3                 NaN          14.0          NaN      9          NaN  ...   \n",
       "5                 NaN          12.0         14.4      5          NaN  ...   \n",
       "6                 NaN          26.0         10.6      6          NaN  ...   \n",
       "...               ...           ...          ...    ...          ...  ...   \n",
       "23687             NaN           9.0         20.0      6          NaN  ...   \n",
       "23690             NaN           5.0         31.0      2          NaN  ...   \n",
       "23692             NaN           5.0         17.5      4          NaN  ...   \n",
       "23695             NaN           5.0         38.0      4          NaN  ...   \n",
       "23696             NaN           3.0         29.7      1          NaN  ...   \n",
       "\n",
       "       kitchen_area  balcony              locality_name  airports_nearest  \\\n",
       "1              11.0      2.0             посёлок Шушары           12817.0   \n",
       "2               8.3      0.0            Санкт-Петербург           21741.0   \n",
       "3               NaN      0.0            Санкт-Петербург           28098.0   \n",
       "5               9.1      NaN  городской посёлок Янино-1               NaN   \n",
       "6              14.4      1.0          посёлок Парголово           52996.0   \n",
       "...             ...      ...                        ...               ...   \n",
       "23687          11.0      2.0            Санкт-Петербург           40837.0   \n",
       "23690           6.0      NaN            Санкт-Петербург           20151.0   \n",
       "23692           6.0      NaN                     Тихвин               NaN   \n",
       "23695           8.5      NaN                      Тосно               NaN   \n",
       "23696           NaN      NaN           село Рождествено               NaN   \n",
       "\n",
       "      cityCenters_nearest  parks_around3000  parks_nearest  ponds_around3000  \\\n",
       "1                 18603.0               0.0            NaN               0.0   \n",
       "2                 13933.0               1.0           90.0               2.0   \n",
       "3                  6800.0               2.0           84.0               3.0   \n",
       "5                     NaN               NaN            NaN               NaN   \n",
       "6                 19143.0               0.0            NaN               0.0   \n",
       "...                   ...               ...            ...               ...   \n",
       "23687             16704.0               0.0            NaN               0.0   \n",
       "23690              6263.0               1.0          300.0               0.0   \n",
       "23692                 NaN               NaN            NaN               NaN   \n",
       "23695                 NaN               NaN            NaN               NaN   \n",
       "23696                 NaN               NaN            NaN               NaN   \n",
       "\n",
       "       ponds_nearest  days_exposition  \n",
       "1                NaN             81.0  \n",
       "2              574.0            558.0  \n",
       "3              234.0            424.0  \n",
       "5                NaN             55.0  \n",
       "6                NaN            155.0  \n",
       "...              ...              ...  \n",
       "23687            NaN             38.0  \n",
       "23690            NaN             15.0  \n",
       "23692            NaN            413.0  \n",
       "23695            NaN             45.0  \n",
       "23696            NaN              NaN  \n",
       "\n",
       "[9195 rows x 22 columns]"
      ]
     },
     "execution_count": 2,
     "metadata": {},
     "output_type": "execute_result"
    }
   ],
   "source": [
    "\n",
    "df[df['ceiling_height'].isnull()]"
   ]
  },
  {
   "cell_type": "markdown",
   "id": "b7f73e3a",
   "metadata": {},
   "source": [
    "#В describe можно увидеть некоторые странные значения, такие как 0 комнат или 100 метровые потолки, менять данные не будем, оставим так как есть"
   ]
  },
  {
   "cell_type": "code",
   "execution_count": 3,
   "id": "7ff5e4a9",
   "metadata": {},
   "outputs": [
    {
     "data": {
      "text/html": [
       "<div>\n",
       "<style scoped>\n",
       "    .dataframe tbody tr th:only-of-type {\n",
       "        vertical-align: middle;\n",
       "    }\n",
       "\n",
       "    .dataframe tbody tr th {\n",
       "        vertical-align: top;\n",
       "    }\n",
       "\n",
       "    .dataframe thead th {\n",
       "        text-align: right;\n",
       "    }\n",
       "</style>\n",
       "<table border=\"1\" class=\"dataframe\">\n",
       "  <thead>\n",
       "    <tr style=\"text-align: right;\">\n",
       "      <th></th>\n",
       "      <th>total_images</th>\n",
       "      <th>last_price</th>\n",
       "      <th>total_area</th>\n",
       "      <th>first_day_exposition</th>\n",
       "      <th>rooms</th>\n",
       "      <th>ceiling_height</th>\n",
       "      <th>floors_total</th>\n",
       "      <th>living_area</th>\n",
       "      <th>floor</th>\n",
       "      <th>is_apartment</th>\n",
       "      <th>...</th>\n",
       "      <th>kitchen_area</th>\n",
       "      <th>balcony</th>\n",
       "      <th>locality_name</th>\n",
       "      <th>airports_nearest</th>\n",
       "      <th>cityCenters_nearest</th>\n",
       "      <th>parks_around3000</th>\n",
       "      <th>parks_nearest</th>\n",
       "      <th>ponds_around3000</th>\n",
       "      <th>ponds_nearest</th>\n",
       "      <th>days_exposition</th>\n",
       "    </tr>\n",
       "  </thead>\n",
       "  <tbody>\n",
       "    <tr>\n",
       "      <td>3</td>\n",
       "      <td>0</td>\n",
       "      <td>64900000.0</td>\n",
       "      <td>159.00</td>\n",
       "      <td>2015-07-24T00:00:00</td>\n",
       "      <td>3</td>\n",
       "      <td>NaN</td>\n",
       "      <td>14.0</td>\n",
       "      <td>NaN</td>\n",
       "      <td>9</td>\n",
       "      <td>NaN</td>\n",
       "      <td>...</td>\n",
       "      <td>NaN</td>\n",
       "      <td>0.0</td>\n",
       "      <td>Санкт-Петербург</td>\n",
       "      <td>28098.0</td>\n",
       "      <td>6800.0</td>\n",
       "      <td>2.0</td>\n",
       "      <td>84.0</td>\n",
       "      <td>3.0</td>\n",
       "      <td>234.0</td>\n",
       "      <td>424.0</td>\n",
       "    </tr>\n",
       "    <tr>\n",
       "      <td>7</td>\n",
       "      <td>5</td>\n",
       "      <td>7915000.0</td>\n",
       "      <td>71.60</td>\n",
       "      <td>2019-04-18T00:00:00</td>\n",
       "      <td>2</td>\n",
       "      <td>NaN</td>\n",
       "      <td>24.0</td>\n",
       "      <td>NaN</td>\n",
       "      <td>22</td>\n",
       "      <td>NaN</td>\n",
       "      <td>...</td>\n",
       "      <td>18.9</td>\n",
       "      <td>2.0</td>\n",
       "      <td>Санкт-Петербург</td>\n",
       "      <td>23982.0</td>\n",
       "      <td>11634.0</td>\n",
       "      <td>0.0</td>\n",
       "      <td>NaN</td>\n",
       "      <td>0.0</td>\n",
       "      <td>NaN</td>\n",
       "      <td>NaN</td>\n",
       "    </tr>\n",
       "    <tr>\n",
       "      <td>30</td>\n",
       "      <td>12</td>\n",
       "      <td>2200000.0</td>\n",
       "      <td>32.80</td>\n",
       "      <td>2018-02-19T00:00:00</td>\n",
       "      <td>1</td>\n",
       "      <td>NaN</td>\n",
       "      <td>9.0</td>\n",
       "      <td>NaN</td>\n",
       "      <td>2</td>\n",
       "      <td>NaN</td>\n",
       "      <td>...</td>\n",
       "      <td>NaN</td>\n",
       "      <td>NaN</td>\n",
       "      <td>Коммунар</td>\n",
       "      <td>NaN</td>\n",
       "      <td>NaN</td>\n",
       "      <td>NaN</td>\n",
       "      <td>NaN</td>\n",
       "      <td>NaN</td>\n",
       "      <td>NaN</td>\n",
       "      <td>63.0</td>\n",
       "    </tr>\n",
       "    <tr>\n",
       "      <td>37</td>\n",
       "      <td>10</td>\n",
       "      <td>1990000.0</td>\n",
       "      <td>45.80</td>\n",
       "      <td>2017-10-28T00:00:00</td>\n",
       "      <td>2</td>\n",
       "      <td>2.50</td>\n",
       "      <td>5.0</td>\n",
       "      <td>NaN</td>\n",
       "      <td>1</td>\n",
       "      <td>NaN</td>\n",
       "      <td>...</td>\n",
       "      <td>NaN</td>\n",
       "      <td>NaN</td>\n",
       "      <td>поселок городского типа Красный Бор</td>\n",
       "      <td>NaN</td>\n",
       "      <td>NaN</td>\n",
       "      <td>NaN</td>\n",
       "      <td>NaN</td>\n",
       "      <td>NaN</td>\n",
       "      <td>NaN</td>\n",
       "      <td>196.0</td>\n",
       "    </tr>\n",
       "    <tr>\n",
       "      <td>44</td>\n",
       "      <td>13</td>\n",
       "      <td>5350000.0</td>\n",
       "      <td>40.00</td>\n",
       "      <td>2018-11-18T00:00:00</td>\n",
       "      <td>1</td>\n",
       "      <td>NaN</td>\n",
       "      <td>22.0</td>\n",
       "      <td>NaN</td>\n",
       "      <td>3</td>\n",
       "      <td>NaN</td>\n",
       "      <td>...</td>\n",
       "      <td>NaN</td>\n",
       "      <td>1.0</td>\n",
       "      <td>Санкт-Петербург</td>\n",
       "      <td>30471.0</td>\n",
       "      <td>11603.0</td>\n",
       "      <td>1.0</td>\n",
       "      <td>620.0</td>\n",
       "      <td>1.0</td>\n",
       "      <td>1152.0</td>\n",
       "      <td>NaN</td>\n",
       "    </tr>\n",
       "    <tr>\n",
       "      <td>...</td>\n",
       "      <td>...</td>\n",
       "      <td>...</td>\n",
       "      <td>...</td>\n",
       "      <td>...</td>\n",
       "      <td>...</td>\n",
       "      <td>...</td>\n",
       "      <td>...</td>\n",
       "      <td>...</td>\n",
       "      <td>...</td>\n",
       "      <td>...</td>\n",
       "      <td>...</td>\n",
       "      <td>...</td>\n",
       "      <td>...</td>\n",
       "      <td>...</td>\n",
       "      <td>...</td>\n",
       "      <td>...</td>\n",
       "      <td>...</td>\n",
       "      <td>...</td>\n",
       "      <td>...</td>\n",
       "      <td>...</td>\n",
       "      <td>...</td>\n",
       "    </tr>\n",
       "    <tr>\n",
       "      <td>23642</td>\n",
       "      <td>14</td>\n",
       "      <td>5950000.0</td>\n",
       "      <td>80.30</td>\n",
       "      <td>2018-07-03T00:00:00</td>\n",
       "      <td>3</td>\n",
       "      <td>2.70</td>\n",
       "      <td>12.0</td>\n",
       "      <td>NaN</td>\n",
       "      <td>5</td>\n",
       "      <td>NaN</td>\n",
       "      <td>...</td>\n",
       "      <td>NaN</td>\n",
       "      <td>NaN</td>\n",
       "      <td>Колпино</td>\n",
       "      <td>27933.0</td>\n",
       "      <td>33719.0</td>\n",
       "      <td>0.0</td>\n",
       "      <td>NaN</td>\n",
       "      <td>2.0</td>\n",
       "      <td>562.0</td>\n",
       "      <td>60.0</td>\n",
       "    </tr>\n",
       "    <tr>\n",
       "      <td>23663</td>\n",
       "      <td>12</td>\n",
       "      <td>6400000.0</td>\n",
       "      <td>88.00</td>\n",
       "      <td>2018-01-12T00:00:00</td>\n",
       "      <td>4</td>\n",
       "      <td>2.55</td>\n",
       "      <td>10.0</td>\n",
       "      <td>NaN</td>\n",
       "      <td>1</td>\n",
       "      <td>NaN</td>\n",
       "      <td>...</td>\n",
       "      <td>NaN</td>\n",
       "      <td>NaN</td>\n",
       "      <td>Санкт-Петербург</td>\n",
       "      <td>33642.0</td>\n",
       "      <td>13943.0</td>\n",
       "      <td>0.0</td>\n",
       "      <td>NaN</td>\n",
       "      <td>2.0</td>\n",
       "      <td>844.0</td>\n",
       "      <td>59.0</td>\n",
       "    </tr>\n",
       "    <tr>\n",
       "      <td>23670</td>\n",
       "      <td>9</td>\n",
       "      <td>2450000.0</td>\n",
       "      <td>45.60</td>\n",
       "      <td>2018-02-08T00:00:00</td>\n",
       "      <td>1</td>\n",
       "      <td>2.80</td>\n",
       "      <td>9.0</td>\n",
       "      <td>NaN</td>\n",
       "      <td>2</td>\n",
       "      <td>NaN</td>\n",
       "      <td>...</td>\n",
       "      <td>NaN</td>\n",
       "      <td>NaN</td>\n",
       "      <td>поселок городского типа Синявино</td>\n",
       "      <td>NaN</td>\n",
       "      <td>NaN</td>\n",
       "      <td>NaN</td>\n",
       "      <td>NaN</td>\n",
       "      <td>NaN</td>\n",
       "      <td>NaN</td>\n",
       "      <td>45.0</td>\n",
       "    </tr>\n",
       "    <tr>\n",
       "      <td>23679</td>\n",
       "      <td>0</td>\n",
       "      <td>2500000.0</td>\n",
       "      <td>35.00</td>\n",
       "      <td>2017-12-08T00:00:00</td>\n",
       "      <td>1</td>\n",
       "      <td>NaN</td>\n",
       "      <td>9.0</td>\n",
       "      <td>NaN</td>\n",
       "      <td>4</td>\n",
       "      <td>NaN</td>\n",
       "      <td>...</td>\n",
       "      <td>NaN</td>\n",
       "      <td>NaN</td>\n",
       "      <td>Сосновый Бор</td>\n",
       "      <td>NaN</td>\n",
       "      <td>NaN</td>\n",
       "      <td>NaN</td>\n",
       "      <td>NaN</td>\n",
       "      <td>NaN</td>\n",
       "      <td>NaN</td>\n",
       "      <td>45.0</td>\n",
       "    </tr>\n",
       "    <tr>\n",
       "      <td>23697</td>\n",
       "      <td>13</td>\n",
       "      <td>11475000.0</td>\n",
       "      <td>76.75</td>\n",
       "      <td>2017-03-28T00:00:00</td>\n",
       "      <td>2</td>\n",
       "      <td>3.00</td>\n",
       "      <td>17.0</td>\n",
       "      <td>NaN</td>\n",
       "      <td>12</td>\n",
       "      <td>NaN</td>\n",
       "      <td>...</td>\n",
       "      <td>23.3</td>\n",
       "      <td>2.0</td>\n",
       "      <td>Санкт-Петербург</td>\n",
       "      <td>39140.0</td>\n",
       "      <td>10364.0</td>\n",
       "      <td>2.0</td>\n",
       "      <td>173.0</td>\n",
       "      <td>3.0</td>\n",
       "      <td>196.0</td>\n",
       "      <td>602.0</td>\n",
       "    </tr>\n",
       "  </tbody>\n",
       "</table>\n",
       "<p>1903 rows × 22 columns</p>\n",
       "</div>"
      ],
      "text/plain": [
       "       total_images  last_price  total_area first_day_exposition  rooms  \\\n",
       "3                 0  64900000.0      159.00  2015-07-24T00:00:00      3   \n",
       "7                 5   7915000.0       71.60  2019-04-18T00:00:00      2   \n",
       "30               12   2200000.0       32.80  2018-02-19T00:00:00      1   \n",
       "37               10   1990000.0       45.80  2017-10-28T00:00:00      2   \n",
       "44               13   5350000.0       40.00  2018-11-18T00:00:00      1   \n",
       "...             ...         ...         ...                  ...    ...   \n",
       "23642            14   5950000.0       80.30  2018-07-03T00:00:00      3   \n",
       "23663            12   6400000.0       88.00  2018-01-12T00:00:00      4   \n",
       "23670             9   2450000.0       45.60  2018-02-08T00:00:00      1   \n",
       "23679             0   2500000.0       35.00  2017-12-08T00:00:00      1   \n",
       "23697            13  11475000.0       76.75  2017-03-28T00:00:00      2   \n",
       "\n",
       "       ceiling_height  floors_total  living_area  floor is_apartment  ...  \\\n",
       "3                 NaN          14.0          NaN      9          NaN  ...   \n",
       "7                 NaN          24.0          NaN     22          NaN  ...   \n",
       "30                NaN           9.0          NaN      2          NaN  ...   \n",
       "37               2.50           5.0          NaN      1          NaN  ...   \n",
       "44                NaN          22.0          NaN      3          NaN  ...   \n",
       "...               ...           ...          ...    ...          ...  ...   \n",
       "23642            2.70          12.0          NaN      5          NaN  ...   \n",
       "23663            2.55          10.0          NaN      1          NaN  ...   \n",
       "23670            2.80           9.0          NaN      2          NaN  ...   \n",
       "23679             NaN           9.0          NaN      4          NaN  ...   \n",
       "23697            3.00          17.0          NaN     12          NaN  ...   \n",
       "\n",
       "       kitchen_area  balcony                        locality_name  \\\n",
       "3               NaN      0.0                      Санкт-Петербург   \n",
       "7              18.9      2.0                      Санкт-Петербург   \n",
       "30              NaN      NaN                             Коммунар   \n",
       "37              NaN      NaN  поселок городского типа Красный Бор   \n",
       "44              NaN      1.0                      Санкт-Петербург   \n",
       "...             ...      ...                                  ...   \n",
       "23642           NaN      NaN                              Колпино   \n",
       "23663           NaN      NaN                      Санкт-Петербург   \n",
       "23670           NaN      NaN     поселок городского типа Синявино   \n",
       "23679           NaN      NaN                         Сосновый Бор   \n",
       "23697          23.3      2.0                      Санкт-Петербург   \n",
       "\n",
       "       airports_nearest cityCenters_nearest  parks_around3000  parks_nearest  \\\n",
       "3               28098.0              6800.0               2.0           84.0   \n",
       "7               23982.0             11634.0               0.0            NaN   \n",
       "30                  NaN                 NaN               NaN            NaN   \n",
       "37                  NaN                 NaN               NaN            NaN   \n",
       "44              30471.0             11603.0               1.0          620.0   \n",
       "...                 ...                 ...               ...            ...   \n",
       "23642           27933.0             33719.0               0.0            NaN   \n",
       "23663           33642.0             13943.0               0.0            NaN   \n",
       "23670               NaN                 NaN               NaN            NaN   \n",
       "23679               NaN                 NaN               NaN            NaN   \n",
       "23697           39140.0             10364.0               2.0          173.0   \n",
       "\n",
       "       ponds_around3000  ponds_nearest  days_exposition  \n",
       "3                   3.0          234.0            424.0  \n",
       "7                   0.0            NaN              NaN  \n",
       "30                  NaN            NaN             63.0  \n",
       "37                  NaN            NaN            196.0  \n",
       "44                  1.0         1152.0              NaN  \n",
       "...                 ...            ...              ...  \n",
       "23642               2.0          562.0             60.0  \n",
       "23663               2.0          844.0             59.0  \n",
       "23670               NaN            NaN             45.0  \n",
       "23679               NaN            NaN             45.0  \n",
       "23697               3.0          196.0            602.0  \n",
       "\n",
       "[1903 rows x 22 columns]"
      ]
     },
     "execution_count": 3,
     "metadata": {},
     "output_type": "execute_result"
    }
   ],
   "source": [
    "df[df['living_area'].isnull()]"
   ]
  },
  {
   "cell_type": "markdown",
   "id": "db76ea4c",
   "metadata": {},
   "source": [
    "Заменим пропуски в жилой площади, исходя из медианы жилой площади в разбивке по комнатам"
   ]
  },
  {
   "cell_type": "code",
   "execution_count": 4,
   "id": "48700922",
   "metadata": {},
   "outputs": [],
   "source": [
    "group_rooms = df.groupby('rooms')['living_area'].median()\n",
    "\n",
    "for i in group_rooms.index:\n",
    "\n",
    "    df.loc[(df['rooms'] == i) & (df['living_area'].isnull()), 'living_area'] = group_rooms[i]\n"
   ]
  },
  {
   "cell_type": "code",
   "execution_count": 5,
   "id": "cfa36bdb",
   "metadata": {},
   "outputs": [
    {
     "data": {
      "text/html": [
       "<div>\n",
       "<style scoped>\n",
       "    .dataframe tbody tr th:only-of-type {\n",
       "        vertical-align: middle;\n",
       "    }\n",
       "\n",
       "    .dataframe tbody tr th {\n",
       "        vertical-align: top;\n",
       "    }\n",
       "\n",
       "    .dataframe thead th {\n",
       "        text-align: right;\n",
       "    }\n",
       "</style>\n",
       "<table border=\"1\" class=\"dataframe\">\n",
       "  <thead>\n",
       "    <tr style=\"text-align: right;\">\n",
       "      <th></th>\n",
       "      <th>total_images</th>\n",
       "      <th>last_price</th>\n",
       "      <th>total_area</th>\n",
       "      <th>first_day_exposition</th>\n",
       "      <th>rooms</th>\n",
       "      <th>ceiling_height</th>\n",
       "      <th>floors_total</th>\n",
       "      <th>living_area</th>\n",
       "      <th>floor</th>\n",
       "      <th>is_apartment</th>\n",
       "      <th>...</th>\n",
       "      <th>kitchen_area</th>\n",
       "      <th>balcony</th>\n",
       "      <th>locality_name</th>\n",
       "      <th>airports_nearest</th>\n",
       "      <th>cityCenters_nearest</th>\n",
       "      <th>parks_around3000</th>\n",
       "      <th>parks_nearest</th>\n",
       "      <th>ponds_around3000</th>\n",
       "      <th>ponds_nearest</th>\n",
       "      <th>days_exposition</th>\n",
       "    </tr>\n",
       "  </thead>\n",
       "  <tbody>\n",
       "    <tr>\n",
       "      <td>186</td>\n",
       "      <td>12</td>\n",
       "      <td>11640000.0</td>\n",
       "      <td>65.2</td>\n",
       "      <td>2018-10-02T00:00:00</td>\n",
       "      <td>2</td>\n",
       "      <td>NaN</td>\n",
       "      <td>NaN</td>\n",
       "      <td>30.80</td>\n",
       "      <td>4</td>\n",
       "      <td>NaN</td>\n",
       "      <td>...</td>\n",
       "      <td>12.00</td>\n",
       "      <td>NaN</td>\n",
       "      <td>Санкт-Петербург</td>\n",
       "      <td>39197.0</td>\n",
       "      <td>12373.0</td>\n",
       "      <td>1.0</td>\n",
       "      <td>123.0</td>\n",
       "      <td>0.0</td>\n",
       "      <td>NaN</td>\n",
       "      <td>49.0</td>\n",
       "    </tr>\n",
       "    <tr>\n",
       "      <td>237</td>\n",
       "      <td>4</td>\n",
       "      <td>2438033.0</td>\n",
       "      <td>28.1</td>\n",
       "      <td>2016-11-23T00:00:00</td>\n",
       "      <td>1</td>\n",
       "      <td>NaN</td>\n",
       "      <td>NaN</td>\n",
       "      <td>20.75</td>\n",
       "      <td>1</td>\n",
       "      <td>NaN</td>\n",
       "      <td>...</td>\n",
       "      <td>NaN</td>\n",
       "      <td>0.0</td>\n",
       "      <td>Санкт-Петербург</td>\n",
       "      <td>22041.0</td>\n",
       "      <td>17369.0</td>\n",
       "      <td>0.0</td>\n",
       "      <td>NaN</td>\n",
       "      <td>1.0</td>\n",
       "      <td>374.0</td>\n",
       "      <td>251.0</td>\n",
       "    </tr>\n",
       "    <tr>\n",
       "      <td>457</td>\n",
       "      <td>4</td>\n",
       "      <td>9788348.0</td>\n",
       "      <td>70.8</td>\n",
       "      <td>2015-08-01T00:00:00</td>\n",
       "      <td>2</td>\n",
       "      <td>NaN</td>\n",
       "      <td>NaN</td>\n",
       "      <td>38.40</td>\n",
       "      <td>12</td>\n",
       "      <td>NaN</td>\n",
       "      <td>...</td>\n",
       "      <td>10.63</td>\n",
       "      <td>0.0</td>\n",
       "      <td>Санкт-Петербург</td>\n",
       "      <td>37364.0</td>\n",
       "      <td>8322.0</td>\n",
       "      <td>2.0</td>\n",
       "      <td>309.0</td>\n",
       "      <td>2.0</td>\n",
       "      <td>706.0</td>\n",
       "      <td>727.0</td>\n",
       "    </tr>\n",
       "    <tr>\n",
       "      <td>671</td>\n",
       "      <td>4</td>\n",
       "      <td>6051191.0</td>\n",
       "      <td>93.6</td>\n",
       "      <td>2017-04-06T00:00:00</td>\n",
       "      <td>3</td>\n",
       "      <td>NaN</td>\n",
       "      <td>NaN</td>\n",
       "      <td>47.10</td>\n",
       "      <td>8</td>\n",
       "      <td>NaN</td>\n",
       "      <td>...</td>\n",
       "      <td>16.80</td>\n",
       "      <td>0.0</td>\n",
       "      <td>Санкт-Петербург</td>\n",
       "      <td>22041.0</td>\n",
       "      <td>17369.0</td>\n",
       "      <td>0.0</td>\n",
       "      <td>NaN</td>\n",
       "      <td>1.0</td>\n",
       "      <td>374.0</td>\n",
       "      <td>123.0</td>\n",
       "    </tr>\n",
       "    <tr>\n",
       "      <td>1757</td>\n",
       "      <td>5</td>\n",
       "      <td>3600000.0</td>\n",
       "      <td>39.0</td>\n",
       "      <td>2017-04-22T00:00:00</td>\n",
       "      <td>1</td>\n",
       "      <td>NaN</td>\n",
       "      <td>NaN</td>\n",
       "      <td>17.60</td>\n",
       "      <td>9</td>\n",
       "      <td>NaN</td>\n",
       "      <td>...</td>\n",
       "      <td>NaN</td>\n",
       "      <td>0.0</td>\n",
       "      <td>Санкт-Петербург</td>\n",
       "      <td>22735.0</td>\n",
       "      <td>11618.0</td>\n",
       "      <td>1.0</td>\n",
       "      <td>835.0</td>\n",
       "      <td>1.0</td>\n",
       "      <td>652.0</td>\n",
       "      <td>77.0</td>\n",
       "    </tr>\n",
       "    <tr>\n",
       "      <td>...</td>\n",
       "      <td>...</td>\n",
       "      <td>...</td>\n",
       "      <td>...</td>\n",
       "      <td>...</td>\n",
       "      <td>...</td>\n",
       "      <td>...</td>\n",
       "      <td>...</td>\n",
       "      <td>...</td>\n",
       "      <td>...</td>\n",
       "      <td>...</td>\n",
       "      <td>...</td>\n",
       "      <td>...</td>\n",
       "      <td>...</td>\n",
       "      <td>...</td>\n",
       "      <td>...</td>\n",
       "      <td>...</td>\n",
       "      <td>...</td>\n",
       "      <td>...</td>\n",
       "      <td>...</td>\n",
       "      <td>...</td>\n",
       "      <td>...</td>\n",
       "    </tr>\n",
       "    <tr>\n",
       "      <td>22542</td>\n",
       "      <td>5</td>\n",
       "      <td>8500000.0</td>\n",
       "      <td>63.5</td>\n",
       "      <td>2017-05-24T00:00:00</td>\n",
       "      <td>2</td>\n",
       "      <td>2.8</td>\n",
       "      <td>NaN</td>\n",
       "      <td>30.50</td>\n",
       "      <td>3</td>\n",
       "      <td>NaN</td>\n",
       "      <td>...</td>\n",
       "      <td>NaN</td>\n",
       "      <td>NaN</td>\n",
       "      <td>Санкт-Петербург</td>\n",
       "      <td>51340.0</td>\n",
       "      <td>15363.0</td>\n",
       "      <td>0.0</td>\n",
       "      <td>NaN</td>\n",
       "      <td>1.0</td>\n",
       "      <td>853.0</td>\n",
       "      <td>512.0</td>\n",
       "    </tr>\n",
       "    <tr>\n",
       "      <td>22656</td>\n",
       "      <td>4</td>\n",
       "      <td>4574160.0</td>\n",
       "      <td>64.5</td>\n",
       "      <td>2017-04-02T00:00:00</td>\n",
       "      <td>2</td>\n",
       "      <td>NaN</td>\n",
       "      <td>NaN</td>\n",
       "      <td>31.70</td>\n",
       "      <td>20</td>\n",
       "      <td>NaN</td>\n",
       "      <td>...</td>\n",
       "      <td>14.40</td>\n",
       "      <td>0.0</td>\n",
       "      <td>Санкт-Петербург</td>\n",
       "      <td>22041.0</td>\n",
       "      <td>17369.0</td>\n",
       "      <td>0.0</td>\n",
       "      <td>NaN</td>\n",
       "      <td>1.0</td>\n",
       "      <td>374.0</td>\n",
       "      <td>127.0</td>\n",
       "    </tr>\n",
       "    <tr>\n",
       "      <td>22808</td>\n",
       "      <td>0</td>\n",
       "      <td>14569263.0</td>\n",
       "      <td>110.4</td>\n",
       "      <td>2016-11-20T00:00:00</td>\n",
       "      <td>3</td>\n",
       "      <td>NaN</td>\n",
       "      <td>NaN</td>\n",
       "      <td>45.38</td>\n",
       "      <td>6</td>\n",
       "      <td>NaN</td>\n",
       "      <td>...</td>\n",
       "      <td>23.42</td>\n",
       "      <td>0.0</td>\n",
       "      <td>Санкт-Петербург</td>\n",
       "      <td>19095.0</td>\n",
       "      <td>4529.0</td>\n",
       "      <td>0.0</td>\n",
       "      <td>NaN</td>\n",
       "      <td>0.0</td>\n",
       "      <td>NaN</td>\n",
       "      <td>260.0</td>\n",
       "    </tr>\n",
       "    <tr>\n",
       "      <td>23590</td>\n",
       "      <td>0</td>\n",
       "      <td>21187872.0</td>\n",
       "      <td>123.3</td>\n",
       "      <td>2017-04-25T00:00:00</td>\n",
       "      <td>3</td>\n",
       "      <td>NaN</td>\n",
       "      <td>NaN</td>\n",
       "      <td>50.40</td>\n",
       "      <td>18</td>\n",
       "      <td>NaN</td>\n",
       "      <td>...</td>\n",
       "      <td>23.60</td>\n",
       "      <td>0.0</td>\n",
       "      <td>Санкт-Петербург</td>\n",
       "      <td>19095.0</td>\n",
       "      <td>4529.0</td>\n",
       "      <td>0.0</td>\n",
       "      <td>NaN</td>\n",
       "      <td>0.0</td>\n",
       "      <td>NaN</td>\n",
       "      <td>104.0</td>\n",
       "    </tr>\n",
       "    <tr>\n",
       "      <td>23658</td>\n",
       "      <td>6</td>\n",
       "      <td>3063600.0</td>\n",
       "      <td>43.8</td>\n",
       "      <td>2016-11-28T00:00:00</td>\n",
       "      <td>1</td>\n",
       "      <td>2.7</td>\n",
       "      <td>NaN</td>\n",
       "      <td>14.00</td>\n",
       "      <td>8</td>\n",
       "      <td>NaN</td>\n",
       "      <td>...</td>\n",
       "      <td>15.50</td>\n",
       "      <td>2.0</td>\n",
       "      <td>Санкт-Петербург</td>\n",
       "      <td>8426.0</td>\n",
       "      <td>12082.0</td>\n",
       "      <td>2.0</td>\n",
       "      <td>24.0</td>\n",
       "      <td>1.0</td>\n",
       "      <td>271.0</td>\n",
       "      <td>246.0</td>\n",
       "    </tr>\n",
       "  </tbody>\n",
       "</table>\n",
       "<p>86 rows × 22 columns</p>\n",
       "</div>"
      ],
      "text/plain": [
       "       total_images  last_price  total_area first_day_exposition  rooms  \\\n",
       "186              12  11640000.0        65.2  2018-10-02T00:00:00      2   \n",
       "237               4   2438033.0        28.1  2016-11-23T00:00:00      1   \n",
       "457               4   9788348.0        70.8  2015-08-01T00:00:00      2   \n",
       "671               4   6051191.0        93.6  2017-04-06T00:00:00      3   \n",
       "1757              5   3600000.0        39.0  2017-04-22T00:00:00      1   \n",
       "...             ...         ...         ...                  ...    ...   \n",
       "22542             5   8500000.0        63.5  2017-05-24T00:00:00      2   \n",
       "22656             4   4574160.0        64.5  2017-04-02T00:00:00      2   \n",
       "22808             0  14569263.0       110.4  2016-11-20T00:00:00      3   \n",
       "23590             0  21187872.0       123.3  2017-04-25T00:00:00      3   \n",
       "23658             6   3063600.0        43.8  2016-11-28T00:00:00      1   \n",
       "\n",
       "       ceiling_height  floors_total  living_area  floor is_apartment  ...  \\\n",
       "186               NaN           NaN        30.80      4          NaN  ...   \n",
       "237               NaN           NaN        20.75      1          NaN  ...   \n",
       "457               NaN           NaN        38.40     12          NaN  ...   \n",
       "671               NaN           NaN        47.10      8          NaN  ...   \n",
       "1757              NaN           NaN        17.60      9          NaN  ...   \n",
       "...               ...           ...          ...    ...          ...  ...   \n",
       "22542             2.8           NaN        30.50      3          NaN  ...   \n",
       "22656             NaN           NaN        31.70     20          NaN  ...   \n",
       "22808             NaN           NaN        45.38      6          NaN  ...   \n",
       "23590             NaN           NaN        50.40     18          NaN  ...   \n",
       "23658             2.7           NaN        14.00      8          NaN  ...   \n",
       "\n",
       "       kitchen_area  balcony    locality_name  airports_nearest  \\\n",
       "186           12.00      NaN  Санкт-Петербург           39197.0   \n",
       "237             NaN      0.0  Санкт-Петербург           22041.0   \n",
       "457           10.63      0.0  Санкт-Петербург           37364.0   \n",
       "671           16.80      0.0  Санкт-Петербург           22041.0   \n",
       "1757            NaN      0.0  Санкт-Петербург           22735.0   \n",
       "...             ...      ...              ...               ...   \n",
       "22542           NaN      NaN  Санкт-Петербург           51340.0   \n",
       "22656         14.40      0.0  Санкт-Петербург           22041.0   \n",
       "22808         23.42      0.0  Санкт-Петербург           19095.0   \n",
       "23590         23.60      0.0  Санкт-Петербург           19095.0   \n",
       "23658         15.50      2.0  Санкт-Петербург            8426.0   \n",
       "\n",
       "      cityCenters_nearest  parks_around3000  parks_nearest  ponds_around3000  \\\n",
       "186               12373.0               1.0          123.0               0.0   \n",
       "237               17369.0               0.0            NaN               1.0   \n",
       "457                8322.0               2.0          309.0               2.0   \n",
       "671               17369.0               0.0            NaN               1.0   \n",
       "1757              11618.0               1.0          835.0               1.0   \n",
       "...                   ...               ...            ...               ...   \n",
       "22542             15363.0               0.0            NaN               1.0   \n",
       "22656             17369.0               0.0            NaN               1.0   \n",
       "22808              4529.0               0.0            NaN               0.0   \n",
       "23590              4529.0               0.0            NaN               0.0   \n",
       "23658             12082.0               2.0           24.0               1.0   \n",
       "\n",
       "       ponds_nearest  days_exposition  \n",
       "186              NaN             49.0  \n",
       "237            374.0            251.0  \n",
       "457            706.0            727.0  \n",
       "671            374.0            123.0  \n",
       "1757           652.0             77.0  \n",
       "...              ...              ...  \n",
       "22542          853.0            512.0  \n",
       "22656          374.0            127.0  \n",
       "22808            NaN            260.0  \n",
       "23590            NaN            104.0  \n",
       "23658          271.0            246.0  \n",
       "\n",
       "[86 rows x 22 columns]"
      ]
     },
     "execution_count": 5,
     "metadata": {},
     "output_type": "execute_result"
    }
   ],
   "source": [
    "df[df.floors_total.isnull()]"
   ]
  },
  {
   "cell_type": "markdown",
   "id": "744e84fb",
   "metadata": {},
   "source": [
    "Пропуски с количеством этажей заполнять не будем, хотя мы знаем на каком этаже находится квартира и значит этажей минимум столько же"
   ]
  },
  {
   "cell_type": "code",
   "execution_count": 6,
   "id": "536061c5",
   "metadata": {},
   "outputs": [
    {
     "data": {
      "text/html": [
       "<div>\n",
       "<style scoped>\n",
       "    .dataframe tbody tr th:only-of-type {\n",
       "        vertical-align: middle;\n",
       "    }\n",
       "\n",
       "    .dataframe tbody tr th {\n",
       "        vertical-align: top;\n",
       "    }\n",
       "\n",
       "    .dataframe thead th {\n",
       "        text-align: right;\n",
       "    }\n",
       "</style>\n",
       "<table border=\"1\" class=\"dataframe\">\n",
       "  <thead>\n",
       "    <tr style=\"text-align: right;\">\n",
       "      <th></th>\n",
       "      <th>total_images</th>\n",
       "      <th>last_price</th>\n",
       "      <th>total_area</th>\n",
       "      <th>first_day_exposition</th>\n",
       "      <th>rooms</th>\n",
       "      <th>ceiling_height</th>\n",
       "      <th>floors_total</th>\n",
       "      <th>living_area</th>\n",
       "      <th>floor</th>\n",
       "      <th>is_apartment</th>\n",
       "      <th>...</th>\n",
       "      <th>kitchen_area</th>\n",
       "      <th>balcony</th>\n",
       "      <th>locality_name</th>\n",
       "      <th>airports_nearest</th>\n",
       "      <th>cityCenters_nearest</th>\n",
       "      <th>parks_around3000</th>\n",
       "      <th>parks_nearest</th>\n",
       "      <th>ponds_around3000</th>\n",
       "      <th>ponds_nearest</th>\n",
       "      <th>days_exposition</th>\n",
       "    </tr>\n",
       "  </thead>\n",
       "  <tbody>\n",
       "    <tr>\n",
       "      <td>0</td>\n",
       "      <td>20</td>\n",
       "      <td>13000000.0</td>\n",
       "      <td>108.00</td>\n",
       "      <td>2019-03-07T00:00:00</td>\n",
       "      <td>3</td>\n",
       "      <td>2.70</td>\n",
       "      <td>16.0</td>\n",
       "      <td>51.0</td>\n",
       "      <td>8</td>\n",
       "      <td>NaN</td>\n",
       "      <td>...</td>\n",
       "      <td>25.00</td>\n",
       "      <td>NaN</td>\n",
       "      <td>Санкт-Петербург</td>\n",
       "      <td>18863.0</td>\n",
       "      <td>16028.0</td>\n",
       "      <td>1.0</td>\n",
       "      <td>482.0</td>\n",
       "      <td>2.0</td>\n",
       "      <td>755.0</td>\n",
       "      <td>NaN</td>\n",
       "    </tr>\n",
       "    <tr>\n",
       "      <td>1</td>\n",
       "      <td>7</td>\n",
       "      <td>3350000.0</td>\n",
       "      <td>40.40</td>\n",
       "      <td>2018-12-04T00:00:00</td>\n",
       "      <td>1</td>\n",
       "      <td>NaN</td>\n",
       "      <td>11.0</td>\n",
       "      <td>18.6</td>\n",
       "      <td>1</td>\n",
       "      <td>NaN</td>\n",
       "      <td>...</td>\n",
       "      <td>11.00</td>\n",
       "      <td>2.0</td>\n",
       "      <td>посёлок Шушары</td>\n",
       "      <td>12817.0</td>\n",
       "      <td>18603.0</td>\n",
       "      <td>0.0</td>\n",
       "      <td>NaN</td>\n",
       "      <td>0.0</td>\n",
       "      <td>NaN</td>\n",
       "      <td>81.0</td>\n",
       "    </tr>\n",
       "    <tr>\n",
       "      <td>2</td>\n",
       "      <td>10</td>\n",
       "      <td>5196000.0</td>\n",
       "      <td>56.00</td>\n",
       "      <td>2015-08-20T00:00:00</td>\n",
       "      <td>2</td>\n",
       "      <td>NaN</td>\n",
       "      <td>5.0</td>\n",
       "      <td>34.3</td>\n",
       "      <td>4</td>\n",
       "      <td>NaN</td>\n",
       "      <td>...</td>\n",
       "      <td>8.30</td>\n",
       "      <td>0.0</td>\n",
       "      <td>Санкт-Петербург</td>\n",
       "      <td>21741.0</td>\n",
       "      <td>13933.0</td>\n",
       "      <td>1.0</td>\n",
       "      <td>90.0</td>\n",
       "      <td>2.0</td>\n",
       "      <td>574.0</td>\n",
       "      <td>558.0</td>\n",
       "    </tr>\n",
       "    <tr>\n",
       "      <td>3</td>\n",
       "      <td>0</td>\n",
       "      <td>64900000.0</td>\n",
       "      <td>159.00</td>\n",
       "      <td>2015-07-24T00:00:00</td>\n",
       "      <td>3</td>\n",
       "      <td>NaN</td>\n",
       "      <td>14.0</td>\n",
       "      <td>45.0</td>\n",
       "      <td>9</td>\n",
       "      <td>NaN</td>\n",
       "      <td>...</td>\n",
       "      <td>NaN</td>\n",
       "      <td>0.0</td>\n",
       "      <td>Санкт-Петербург</td>\n",
       "      <td>28098.0</td>\n",
       "      <td>6800.0</td>\n",
       "      <td>2.0</td>\n",
       "      <td>84.0</td>\n",
       "      <td>3.0</td>\n",
       "      <td>234.0</td>\n",
       "      <td>424.0</td>\n",
       "    </tr>\n",
       "    <tr>\n",
       "      <td>4</td>\n",
       "      <td>2</td>\n",
       "      <td>10000000.0</td>\n",
       "      <td>100.00</td>\n",
       "      <td>2018-06-19T00:00:00</td>\n",
       "      <td>2</td>\n",
       "      <td>3.03</td>\n",
       "      <td>14.0</td>\n",
       "      <td>32.0</td>\n",
       "      <td>13</td>\n",
       "      <td>NaN</td>\n",
       "      <td>...</td>\n",
       "      <td>41.00</td>\n",
       "      <td>NaN</td>\n",
       "      <td>Санкт-Петербург</td>\n",
       "      <td>31856.0</td>\n",
       "      <td>8098.0</td>\n",
       "      <td>2.0</td>\n",
       "      <td>112.0</td>\n",
       "      <td>1.0</td>\n",
       "      <td>48.0</td>\n",
       "      <td>121.0</td>\n",
       "    </tr>\n",
       "    <tr>\n",
       "      <td>...</td>\n",
       "      <td>...</td>\n",
       "      <td>...</td>\n",
       "      <td>...</td>\n",
       "      <td>...</td>\n",
       "      <td>...</td>\n",
       "      <td>...</td>\n",
       "      <td>...</td>\n",
       "      <td>...</td>\n",
       "      <td>...</td>\n",
       "      <td>...</td>\n",
       "      <td>...</td>\n",
       "      <td>...</td>\n",
       "      <td>...</td>\n",
       "      <td>...</td>\n",
       "      <td>...</td>\n",
       "      <td>...</td>\n",
       "      <td>...</td>\n",
       "      <td>...</td>\n",
       "      <td>...</td>\n",
       "      <td>...</td>\n",
       "      <td>...</td>\n",
       "    </tr>\n",
       "    <tr>\n",
       "      <td>23694</td>\n",
       "      <td>9</td>\n",
       "      <td>9700000.0</td>\n",
       "      <td>133.81</td>\n",
       "      <td>2017-03-21T00:00:00</td>\n",
       "      <td>3</td>\n",
       "      <td>3.70</td>\n",
       "      <td>5.0</td>\n",
       "      <td>73.3</td>\n",
       "      <td>3</td>\n",
       "      <td>NaN</td>\n",
       "      <td>...</td>\n",
       "      <td>13.83</td>\n",
       "      <td>NaN</td>\n",
       "      <td>Санкт-Петербург</td>\n",
       "      <td>24665.0</td>\n",
       "      <td>4232.0</td>\n",
       "      <td>1.0</td>\n",
       "      <td>796.0</td>\n",
       "      <td>3.0</td>\n",
       "      <td>381.0</td>\n",
       "      <td>NaN</td>\n",
       "    </tr>\n",
       "    <tr>\n",
       "      <td>23695</td>\n",
       "      <td>14</td>\n",
       "      <td>3100000.0</td>\n",
       "      <td>59.00</td>\n",
       "      <td>2018-01-15T00:00:00</td>\n",
       "      <td>3</td>\n",
       "      <td>NaN</td>\n",
       "      <td>5.0</td>\n",
       "      <td>38.0</td>\n",
       "      <td>4</td>\n",
       "      <td>NaN</td>\n",
       "      <td>...</td>\n",
       "      <td>8.50</td>\n",
       "      <td>NaN</td>\n",
       "      <td>Тосно</td>\n",
       "      <td>NaN</td>\n",
       "      <td>NaN</td>\n",
       "      <td>NaN</td>\n",
       "      <td>NaN</td>\n",
       "      <td>NaN</td>\n",
       "      <td>NaN</td>\n",
       "      <td>45.0</td>\n",
       "    </tr>\n",
       "    <tr>\n",
       "      <td>23696</td>\n",
       "      <td>18</td>\n",
       "      <td>2500000.0</td>\n",
       "      <td>56.70</td>\n",
       "      <td>2018-02-11T00:00:00</td>\n",
       "      <td>2</td>\n",
       "      <td>NaN</td>\n",
       "      <td>3.0</td>\n",
       "      <td>29.7</td>\n",
       "      <td>1</td>\n",
       "      <td>NaN</td>\n",
       "      <td>...</td>\n",
       "      <td>NaN</td>\n",
       "      <td>NaN</td>\n",
       "      <td>село Рождествено</td>\n",
       "      <td>NaN</td>\n",
       "      <td>NaN</td>\n",
       "      <td>NaN</td>\n",
       "      <td>NaN</td>\n",
       "      <td>NaN</td>\n",
       "      <td>NaN</td>\n",
       "      <td>NaN</td>\n",
       "    </tr>\n",
       "    <tr>\n",
       "      <td>23697</td>\n",
       "      <td>13</td>\n",
       "      <td>11475000.0</td>\n",
       "      <td>76.75</td>\n",
       "      <td>2017-03-28T00:00:00</td>\n",
       "      <td>2</td>\n",
       "      <td>3.00</td>\n",
       "      <td>17.0</td>\n",
       "      <td>30.5</td>\n",
       "      <td>12</td>\n",
       "      <td>NaN</td>\n",
       "      <td>...</td>\n",
       "      <td>23.30</td>\n",
       "      <td>2.0</td>\n",
       "      <td>Санкт-Петербург</td>\n",
       "      <td>39140.0</td>\n",
       "      <td>10364.0</td>\n",
       "      <td>2.0</td>\n",
       "      <td>173.0</td>\n",
       "      <td>3.0</td>\n",
       "      <td>196.0</td>\n",
       "      <td>602.0</td>\n",
       "    </tr>\n",
       "    <tr>\n",
       "      <td>23698</td>\n",
       "      <td>4</td>\n",
       "      <td>1350000.0</td>\n",
       "      <td>32.30</td>\n",
       "      <td>2017-07-21T00:00:00</td>\n",
       "      <td>1</td>\n",
       "      <td>2.50</td>\n",
       "      <td>5.0</td>\n",
       "      <td>12.3</td>\n",
       "      <td>1</td>\n",
       "      <td>NaN</td>\n",
       "      <td>...</td>\n",
       "      <td>9.00</td>\n",
       "      <td>NaN</td>\n",
       "      <td>поселок Новый Учхоз</td>\n",
       "      <td>NaN</td>\n",
       "      <td>NaN</td>\n",
       "      <td>NaN</td>\n",
       "      <td>NaN</td>\n",
       "      <td>NaN</td>\n",
       "      <td>NaN</td>\n",
       "      <td>NaN</td>\n",
       "    </tr>\n",
       "  </tbody>\n",
       "</table>\n",
       "<p>20924 rows × 22 columns</p>\n",
       "</div>"
      ],
      "text/plain": [
       "       total_images  last_price  total_area first_day_exposition  rooms  \\\n",
       "0                20  13000000.0      108.00  2019-03-07T00:00:00      3   \n",
       "1                 7   3350000.0       40.40  2018-12-04T00:00:00      1   \n",
       "2                10   5196000.0       56.00  2015-08-20T00:00:00      2   \n",
       "3                 0  64900000.0      159.00  2015-07-24T00:00:00      3   \n",
       "4                 2  10000000.0      100.00  2018-06-19T00:00:00      2   \n",
       "...             ...         ...         ...                  ...    ...   \n",
       "23694             9   9700000.0      133.81  2017-03-21T00:00:00      3   \n",
       "23695            14   3100000.0       59.00  2018-01-15T00:00:00      3   \n",
       "23696            18   2500000.0       56.70  2018-02-11T00:00:00      2   \n",
       "23697            13  11475000.0       76.75  2017-03-28T00:00:00      2   \n",
       "23698             4   1350000.0       32.30  2017-07-21T00:00:00      1   \n",
       "\n",
       "       ceiling_height  floors_total  living_area  floor is_apartment  ...  \\\n",
       "0                2.70          16.0         51.0      8          NaN  ...   \n",
       "1                 NaN          11.0         18.6      1          NaN  ...   \n",
       "2                 NaN           5.0         34.3      4          NaN  ...   \n",
       "3                 NaN          14.0         45.0      9          NaN  ...   \n",
       "4                3.03          14.0         32.0     13          NaN  ...   \n",
       "...               ...           ...          ...    ...          ...  ...   \n",
       "23694            3.70           5.0         73.3      3          NaN  ...   \n",
       "23695             NaN           5.0         38.0      4          NaN  ...   \n",
       "23696             NaN           3.0         29.7      1          NaN  ...   \n",
       "23697            3.00          17.0         30.5     12          NaN  ...   \n",
       "23698            2.50           5.0         12.3      1          NaN  ...   \n",
       "\n",
       "       kitchen_area  balcony        locality_name  airports_nearest  \\\n",
       "0             25.00      NaN      Санкт-Петербург           18863.0   \n",
       "1             11.00      2.0       посёлок Шушары           12817.0   \n",
       "2              8.30      0.0      Санкт-Петербург           21741.0   \n",
       "3               NaN      0.0      Санкт-Петербург           28098.0   \n",
       "4             41.00      NaN      Санкт-Петербург           31856.0   \n",
       "...             ...      ...                  ...               ...   \n",
       "23694         13.83      NaN      Санкт-Петербург           24665.0   \n",
       "23695          8.50      NaN                Тосно               NaN   \n",
       "23696           NaN      NaN     село Рождествено               NaN   \n",
       "23697         23.30      2.0      Санкт-Петербург           39140.0   \n",
       "23698          9.00      NaN  поселок Новый Учхоз               NaN   \n",
       "\n",
       "      cityCenters_nearest  parks_around3000  parks_nearest  ponds_around3000  \\\n",
       "0                 16028.0               1.0          482.0               2.0   \n",
       "1                 18603.0               0.0            NaN               0.0   \n",
       "2                 13933.0               1.0           90.0               2.0   \n",
       "3                  6800.0               2.0           84.0               3.0   \n",
       "4                  8098.0               2.0          112.0               1.0   \n",
       "...                   ...               ...            ...               ...   \n",
       "23694              4232.0               1.0          796.0               3.0   \n",
       "23695                 NaN               NaN            NaN               NaN   \n",
       "23696                 NaN               NaN            NaN               NaN   \n",
       "23697             10364.0               2.0          173.0               3.0   \n",
       "23698                 NaN               NaN            NaN               NaN   \n",
       "\n",
       "       ponds_nearest  days_exposition  \n",
       "0              755.0              NaN  \n",
       "1                NaN             81.0  \n",
       "2              574.0            558.0  \n",
       "3              234.0            424.0  \n",
       "4               48.0            121.0  \n",
       "...              ...              ...  \n",
       "23694          381.0              NaN  \n",
       "23695            NaN             45.0  \n",
       "23696            NaN              NaN  \n",
       "23697          196.0            602.0  \n",
       "23698            NaN              NaN  \n",
       "\n",
       "[20924 rows x 22 columns]"
      ]
     },
     "execution_count": 6,
     "metadata": {},
     "output_type": "execute_result"
    }
   ],
   "source": [
    "df.is_apartment.value_counts()\n",
    "df[df.is_apartment.isnull()]"
   ]
  },
  {
   "cell_type": "markdown",
   "id": "ae479444",
   "metadata": {},
   "source": [
    "Пропуски с апартаментами тоже заполнять не будем, не достаточно информации"
   ]
  },
  {
   "cell_type": "code",
   "execution_count": 7,
   "id": "fc1c8337",
   "metadata": {},
   "outputs": [
    {
     "data": {
      "text/html": [
       "<div>\n",
       "<style scoped>\n",
       "    .dataframe tbody tr th:only-of-type {\n",
       "        vertical-align: middle;\n",
       "    }\n",
       "\n",
       "    .dataframe tbody tr th {\n",
       "        vertical-align: top;\n",
       "    }\n",
       "\n",
       "    .dataframe thead th {\n",
       "        text-align: right;\n",
       "    }\n",
       "</style>\n",
       "<table border=\"1\" class=\"dataframe\">\n",
       "  <thead>\n",
       "    <tr style=\"text-align: right;\">\n",
       "      <th></th>\n",
       "      <th>total_images</th>\n",
       "      <th>last_price</th>\n",
       "      <th>total_area</th>\n",
       "      <th>first_day_exposition</th>\n",
       "      <th>rooms</th>\n",
       "      <th>ceiling_height</th>\n",
       "      <th>floors_total</th>\n",
       "      <th>living_area</th>\n",
       "      <th>floor</th>\n",
       "      <th>is_apartment</th>\n",
       "      <th>...</th>\n",
       "      <th>kitchen_area</th>\n",
       "      <th>balcony</th>\n",
       "      <th>locality_name</th>\n",
       "      <th>airports_nearest</th>\n",
       "      <th>cityCenters_nearest</th>\n",
       "      <th>parks_around3000</th>\n",
       "      <th>parks_nearest</th>\n",
       "      <th>ponds_around3000</th>\n",
       "      <th>ponds_nearest</th>\n",
       "      <th>days_exposition</th>\n",
       "    </tr>\n",
       "  </thead>\n",
       "  <tbody>\n",
       "    <tr>\n",
       "      <td>3</td>\n",
       "      <td>0</td>\n",
       "      <td>64900000.0</td>\n",
       "      <td>159.0</td>\n",
       "      <td>2015-07-24T00:00:00</td>\n",
       "      <td>3</td>\n",
       "      <td>NaN</td>\n",
       "      <td>14.0</td>\n",
       "      <td>45.0</td>\n",
       "      <td>9</td>\n",
       "      <td>NaN</td>\n",
       "      <td>...</td>\n",
       "      <td>NaN</td>\n",
       "      <td>0.0</td>\n",
       "      <td>Санкт-Петербург</td>\n",
       "      <td>28098.0</td>\n",
       "      <td>6800.0</td>\n",
       "      <td>2.0</td>\n",
       "      <td>84.0</td>\n",
       "      <td>3.0</td>\n",
       "      <td>234.0</td>\n",
       "      <td>424.0</td>\n",
       "    </tr>\n",
       "    <tr>\n",
       "      <td>30</td>\n",
       "      <td>12</td>\n",
       "      <td>2200000.0</td>\n",
       "      <td>32.8</td>\n",
       "      <td>2018-02-19T00:00:00</td>\n",
       "      <td>1</td>\n",
       "      <td>NaN</td>\n",
       "      <td>9.0</td>\n",
       "      <td>17.6</td>\n",
       "      <td>2</td>\n",
       "      <td>NaN</td>\n",
       "      <td>...</td>\n",
       "      <td>NaN</td>\n",
       "      <td>NaN</td>\n",
       "      <td>Коммунар</td>\n",
       "      <td>NaN</td>\n",
       "      <td>NaN</td>\n",
       "      <td>NaN</td>\n",
       "      <td>NaN</td>\n",
       "      <td>NaN</td>\n",
       "      <td>NaN</td>\n",
       "      <td>63.0</td>\n",
       "    </tr>\n",
       "    <tr>\n",
       "      <td>37</td>\n",
       "      <td>10</td>\n",
       "      <td>1990000.0</td>\n",
       "      <td>45.8</td>\n",
       "      <td>2017-10-28T00:00:00</td>\n",
       "      <td>2</td>\n",
       "      <td>2.50</td>\n",
       "      <td>5.0</td>\n",
       "      <td>30.5</td>\n",
       "      <td>1</td>\n",
       "      <td>NaN</td>\n",
       "      <td>...</td>\n",
       "      <td>NaN</td>\n",
       "      <td>NaN</td>\n",
       "      <td>поселок городского типа Красный Бор</td>\n",
       "      <td>NaN</td>\n",
       "      <td>NaN</td>\n",
       "      <td>NaN</td>\n",
       "      <td>NaN</td>\n",
       "      <td>NaN</td>\n",
       "      <td>NaN</td>\n",
       "      <td>196.0</td>\n",
       "    </tr>\n",
       "    <tr>\n",
       "      <td>44</td>\n",
       "      <td>13</td>\n",
       "      <td>5350000.0</td>\n",
       "      <td>40.0</td>\n",
       "      <td>2018-11-18T00:00:00</td>\n",
       "      <td>1</td>\n",
       "      <td>NaN</td>\n",
       "      <td>22.0</td>\n",
       "      <td>17.6</td>\n",
       "      <td>3</td>\n",
       "      <td>NaN</td>\n",
       "      <td>...</td>\n",
       "      <td>NaN</td>\n",
       "      <td>1.0</td>\n",
       "      <td>Санкт-Петербург</td>\n",
       "      <td>30471.0</td>\n",
       "      <td>11603.0</td>\n",
       "      <td>1.0</td>\n",
       "      <td>620.0</td>\n",
       "      <td>1.0</td>\n",
       "      <td>1152.0</td>\n",
       "      <td>NaN</td>\n",
       "    </tr>\n",
       "    <tr>\n",
       "      <td>59</td>\n",
       "      <td>15</td>\n",
       "      <td>6300000.0</td>\n",
       "      <td>46.5</td>\n",
       "      <td>2017-03-06T00:00:00</td>\n",
       "      <td>1</td>\n",
       "      <td>NaN</td>\n",
       "      <td>13.0</td>\n",
       "      <td>17.6</td>\n",
       "      <td>13</td>\n",
       "      <td>NaN</td>\n",
       "      <td>...</td>\n",
       "      <td>NaN</td>\n",
       "      <td>NaN</td>\n",
       "      <td>Санкт-Петербург</td>\n",
       "      <td>11125.0</td>\n",
       "      <td>14501.0</td>\n",
       "      <td>0.0</td>\n",
       "      <td>NaN</td>\n",
       "      <td>0.0</td>\n",
       "      <td>NaN</td>\n",
       "      <td>336.0</td>\n",
       "    </tr>\n",
       "    <tr>\n",
       "      <td>...</td>\n",
       "      <td>...</td>\n",
       "      <td>...</td>\n",
       "      <td>...</td>\n",
       "      <td>...</td>\n",
       "      <td>...</td>\n",
       "      <td>...</td>\n",
       "      <td>...</td>\n",
       "      <td>...</td>\n",
       "      <td>...</td>\n",
       "      <td>...</td>\n",
       "      <td>...</td>\n",
       "      <td>...</td>\n",
       "      <td>...</td>\n",
       "      <td>...</td>\n",
       "      <td>...</td>\n",
       "      <td>...</td>\n",
       "      <td>...</td>\n",
       "      <td>...</td>\n",
       "      <td>...</td>\n",
       "      <td>...</td>\n",
       "      <td>...</td>\n",
       "    </tr>\n",
       "    <tr>\n",
       "      <td>23655</td>\n",
       "      <td>1</td>\n",
       "      <td>2414306.0</td>\n",
       "      <td>40.5</td>\n",
       "      <td>2016-09-08T00:00:00</td>\n",
       "      <td>1</td>\n",
       "      <td>2.56</td>\n",
       "      <td>18.0</td>\n",
       "      <td>19.6</td>\n",
       "      <td>10</td>\n",
       "      <td>False</td>\n",
       "      <td>...</td>\n",
       "      <td>NaN</td>\n",
       "      <td>NaN</td>\n",
       "      <td>Никольское</td>\n",
       "      <td>NaN</td>\n",
       "      <td>NaN</td>\n",
       "      <td>NaN</td>\n",
       "      <td>NaN</td>\n",
       "      <td>NaN</td>\n",
       "      <td>NaN</td>\n",
       "      <td>627.0</td>\n",
       "    </tr>\n",
       "    <tr>\n",
       "      <td>23663</td>\n",
       "      <td>12</td>\n",
       "      <td>6400000.0</td>\n",
       "      <td>88.0</td>\n",
       "      <td>2018-01-12T00:00:00</td>\n",
       "      <td>4</td>\n",
       "      <td>2.55</td>\n",
       "      <td>10.0</td>\n",
       "      <td>63.6</td>\n",
       "      <td>1</td>\n",
       "      <td>NaN</td>\n",
       "      <td>...</td>\n",
       "      <td>NaN</td>\n",
       "      <td>NaN</td>\n",
       "      <td>Санкт-Петербург</td>\n",
       "      <td>33642.0</td>\n",
       "      <td>13943.0</td>\n",
       "      <td>0.0</td>\n",
       "      <td>NaN</td>\n",
       "      <td>2.0</td>\n",
       "      <td>844.0</td>\n",
       "      <td>59.0</td>\n",
       "    </tr>\n",
       "    <tr>\n",
       "      <td>23670</td>\n",
       "      <td>9</td>\n",
       "      <td>2450000.0</td>\n",
       "      <td>45.6</td>\n",
       "      <td>2018-02-08T00:00:00</td>\n",
       "      <td>1</td>\n",
       "      <td>2.80</td>\n",
       "      <td>9.0</td>\n",
       "      <td>17.6</td>\n",
       "      <td>2</td>\n",
       "      <td>NaN</td>\n",
       "      <td>...</td>\n",
       "      <td>NaN</td>\n",
       "      <td>NaN</td>\n",
       "      <td>поселок городского типа Синявино</td>\n",
       "      <td>NaN</td>\n",
       "      <td>NaN</td>\n",
       "      <td>NaN</td>\n",
       "      <td>NaN</td>\n",
       "      <td>NaN</td>\n",
       "      <td>NaN</td>\n",
       "      <td>45.0</td>\n",
       "    </tr>\n",
       "    <tr>\n",
       "      <td>23679</td>\n",
       "      <td>0</td>\n",
       "      <td>2500000.0</td>\n",
       "      <td>35.0</td>\n",
       "      <td>2017-12-08T00:00:00</td>\n",
       "      <td>1</td>\n",
       "      <td>NaN</td>\n",
       "      <td>9.0</td>\n",
       "      <td>17.6</td>\n",
       "      <td>4</td>\n",
       "      <td>NaN</td>\n",
       "      <td>...</td>\n",
       "      <td>NaN</td>\n",
       "      <td>NaN</td>\n",
       "      <td>Сосновый Бор</td>\n",
       "      <td>NaN</td>\n",
       "      <td>NaN</td>\n",
       "      <td>NaN</td>\n",
       "      <td>NaN</td>\n",
       "      <td>NaN</td>\n",
       "      <td>NaN</td>\n",
       "      <td>45.0</td>\n",
       "    </tr>\n",
       "    <tr>\n",
       "      <td>23696</td>\n",
       "      <td>18</td>\n",
       "      <td>2500000.0</td>\n",
       "      <td>56.7</td>\n",
       "      <td>2018-02-11T00:00:00</td>\n",
       "      <td>2</td>\n",
       "      <td>NaN</td>\n",
       "      <td>3.0</td>\n",
       "      <td>29.7</td>\n",
       "      <td>1</td>\n",
       "      <td>NaN</td>\n",
       "      <td>...</td>\n",
       "      <td>NaN</td>\n",
       "      <td>NaN</td>\n",
       "      <td>село Рождествено</td>\n",
       "      <td>NaN</td>\n",
       "      <td>NaN</td>\n",
       "      <td>NaN</td>\n",
       "      <td>NaN</td>\n",
       "      <td>NaN</td>\n",
       "      <td>NaN</td>\n",
       "      <td>NaN</td>\n",
       "    </tr>\n",
       "  </tbody>\n",
       "</table>\n",
       "<p>2278 rows × 22 columns</p>\n",
       "</div>"
      ],
      "text/plain": [
       "       total_images  last_price  total_area first_day_exposition  rooms  \\\n",
       "3                 0  64900000.0       159.0  2015-07-24T00:00:00      3   \n",
       "30               12   2200000.0        32.8  2018-02-19T00:00:00      1   \n",
       "37               10   1990000.0        45.8  2017-10-28T00:00:00      2   \n",
       "44               13   5350000.0        40.0  2018-11-18T00:00:00      1   \n",
       "59               15   6300000.0        46.5  2017-03-06T00:00:00      1   \n",
       "...             ...         ...         ...                  ...    ...   \n",
       "23655             1   2414306.0        40.5  2016-09-08T00:00:00      1   \n",
       "23663            12   6400000.0        88.0  2018-01-12T00:00:00      4   \n",
       "23670             9   2450000.0        45.6  2018-02-08T00:00:00      1   \n",
       "23679             0   2500000.0        35.0  2017-12-08T00:00:00      1   \n",
       "23696            18   2500000.0        56.7  2018-02-11T00:00:00      2   \n",
       "\n",
       "       ceiling_height  floors_total  living_area  floor is_apartment  ...  \\\n",
       "3                 NaN          14.0         45.0      9          NaN  ...   \n",
       "30                NaN           9.0         17.6      2          NaN  ...   \n",
       "37               2.50           5.0         30.5      1          NaN  ...   \n",
       "44                NaN          22.0         17.6      3          NaN  ...   \n",
       "59                NaN          13.0         17.6     13          NaN  ...   \n",
       "...               ...           ...          ...    ...          ...  ...   \n",
       "23655            2.56          18.0         19.6     10        False  ...   \n",
       "23663            2.55          10.0         63.6      1          NaN  ...   \n",
       "23670            2.80           9.0         17.6      2          NaN  ...   \n",
       "23679             NaN           9.0         17.6      4          NaN  ...   \n",
       "23696             NaN           3.0         29.7      1          NaN  ...   \n",
       "\n",
       "       kitchen_area  balcony                        locality_name  \\\n",
       "3               NaN      0.0                      Санкт-Петербург   \n",
       "30              NaN      NaN                             Коммунар   \n",
       "37              NaN      NaN  поселок городского типа Красный Бор   \n",
       "44              NaN      1.0                      Санкт-Петербург   \n",
       "59              NaN      NaN                      Санкт-Петербург   \n",
       "...             ...      ...                                  ...   \n",
       "23655           NaN      NaN                           Никольское   \n",
       "23663           NaN      NaN                      Санкт-Петербург   \n",
       "23670           NaN      NaN     поселок городского типа Синявино   \n",
       "23679           NaN      NaN                         Сосновый Бор   \n",
       "23696           NaN      NaN                     село Рождествено   \n",
       "\n",
       "       airports_nearest cityCenters_nearest  parks_around3000  parks_nearest  \\\n",
       "3               28098.0              6800.0               2.0           84.0   \n",
       "30                  NaN                 NaN               NaN            NaN   \n",
       "37                  NaN                 NaN               NaN            NaN   \n",
       "44              30471.0             11603.0               1.0          620.0   \n",
       "59              11125.0             14501.0               0.0            NaN   \n",
       "...                 ...                 ...               ...            ...   \n",
       "23655               NaN                 NaN               NaN            NaN   \n",
       "23663           33642.0             13943.0               0.0            NaN   \n",
       "23670               NaN                 NaN               NaN            NaN   \n",
       "23679               NaN                 NaN               NaN            NaN   \n",
       "23696               NaN                 NaN               NaN            NaN   \n",
       "\n",
       "       ponds_around3000  ponds_nearest  days_exposition  \n",
       "3                   3.0          234.0            424.0  \n",
       "30                  NaN            NaN             63.0  \n",
       "37                  NaN            NaN            196.0  \n",
       "44                  1.0         1152.0              NaN  \n",
       "59                  0.0            NaN            336.0  \n",
       "...                 ...            ...              ...  \n",
       "23655               NaN            NaN            627.0  \n",
       "23663               2.0          844.0             59.0  \n",
       "23670               NaN            NaN             45.0  \n",
       "23679               NaN            NaN             45.0  \n",
       "23696               NaN            NaN              NaN  \n",
       "\n",
       "[2278 rows x 22 columns]"
      ]
     },
     "execution_count": 7,
     "metadata": {},
     "output_type": "execute_result"
    }
   ],
   "source": [
    "df[df.kitchen_area.isnull()]"
   ]
  },
  {
   "cell_type": "markdown",
   "id": "566a6d67",
   "metadata": {},
   "source": [
    "Сделали медиану по группам также для kitchen area, остались пропуски где количество комнат 0"
   ]
  },
  {
   "cell_type": "code",
   "execution_count": 8,
   "id": "46e66c8b",
   "metadata": {},
   "outputs": [],
   "source": [
    "group_rooms1 = df.groupby('rooms')['kitchen_area'].median()\n",
    "\n",
    "\n",
    "for i in group_rooms1.index:\n",
    "\n",
    "    df.loc[(df['rooms'] == i) & (df['kitchen_area'].isnull()), 'kitchen_area'] = group_rooms1[i]\n",
    "\n"
   ]
  },
  {
   "cell_type": "code",
   "execution_count": 9,
   "id": "d78cbd62",
   "metadata": {},
   "outputs": [
    {
     "data": {
      "text/html": [
       "<div>\n",
       "<style scoped>\n",
       "    .dataframe tbody tr th:only-of-type {\n",
       "        vertical-align: middle;\n",
       "    }\n",
       "\n",
       "    .dataframe tbody tr th {\n",
       "        vertical-align: top;\n",
       "    }\n",
       "\n",
       "    .dataframe thead th {\n",
       "        text-align: right;\n",
       "    }\n",
       "</style>\n",
       "<table border=\"1\" class=\"dataframe\">\n",
       "  <thead>\n",
       "    <tr style=\"text-align: right;\">\n",
       "      <th></th>\n",
       "      <th>total_images</th>\n",
       "      <th>last_price</th>\n",
       "      <th>total_area</th>\n",
       "      <th>first_day_exposition</th>\n",
       "      <th>rooms</th>\n",
       "      <th>ceiling_height</th>\n",
       "      <th>floors_total</th>\n",
       "      <th>living_area</th>\n",
       "      <th>floor</th>\n",
       "      <th>is_apartment</th>\n",
       "      <th>...</th>\n",
       "      <th>kitchen_area</th>\n",
       "      <th>balcony</th>\n",
       "      <th>locality_name</th>\n",
       "      <th>airports_nearest</th>\n",
       "      <th>cityCenters_nearest</th>\n",
       "      <th>parks_around3000</th>\n",
       "      <th>parks_nearest</th>\n",
       "      <th>ponds_around3000</th>\n",
       "      <th>ponds_nearest</th>\n",
       "      <th>days_exposition</th>\n",
       "    </tr>\n",
       "  </thead>\n",
       "  <tbody>\n",
       "    <tr>\n",
       "      <td>0</td>\n",
       "      <td>20</td>\n",
       "      <td>13000000.0</td>\n",
       "      <td>108.00</td>\n",
       "      <td>2019-03-07T00:00:00</td>\n",
       "      <td>3</td>\n",
       "      <td>2.70</td>\n",
       "      <td>16.0</td>\n",
       "      <td>51.00</td>\n",
       "      <td>8</td>\n",
       "      <td>NaN</td>\n",
       "      <td>...</td>\n",
       "      <td>25.00</td>\n",
       "      <td>NaN</td>\n",
       "      <td>Санкт-Петербург</td>\n",
       "      <td>18863.0</td>\n",
       "      <td>16028.0</td>\n",
       "      <td>1.0</td>\n",
       "      <td>482.0</td>\n",
       "      <td>2.0</td>\n",
       "      <td>755.0</td>\n",
       "      <td>NaN</td>\n",
       "    </tr>\n",
       "    <tr>\n",
       "      <td>4</td>\n",
       "      <td>2</td>\n",
       "      <td>10000000.0</td>\n",
       "      <td>100.00</td>\n",
       "      <td>2018-06-19T00:00:00</td>\n",
       "      <td>2</td>\n",
       "      <td>3.03</td>\n",
       "      <td>14.0</td>\n",
       "      <td>32.00</td>\n",
       "      <td>13</td>\n",
       "      <td>NaN</td>\n",
       "      <td>...</td>\n",
       "      <td>41.00</td>\n",
       "      <td>NaN</td>\n",
       "      <td>Санкт-Петербург</td>\n",
       "      <td>31856.0</td>\n",
       "      <td>8098.0</td>\n",
       "      <td>2.0</td>\n",
       "      <td>112.0</td>\n",
       "      <td>1.0</td>\n",
       "      <td>48.0</td>\n",
       "      <td>121.0</td>\n",
       "    </tr>\n",
       "    <tr>\n",
       "      <td>5</td>\n",
       "      <td>10</td>\n",
       "      <td>2890000.0</td>\n",
       "      <td>30.40</td>\n",
       "      <td>2018-09-10T00:00:00</td>\n",
       "      <td>1</td>\n",
       "      <td>NaN</td>\n",
       "      <td>12.0</td>\n",
       "      <td>14.40</td>\n",
       "      <td>5</td>\n",
       "      <td>NaN</td>\n",
       "      <td>...</td>\n",
       "      <td>9.10</td>\n",
       "      <td>NaN</td>\n",
       "      <td>городской посёлок Янино-1</td>\n",
       "      <td>NaN</td>\n",
       "      <td>NaN</td>\n",
       "      <td>NaN</td>\n",
       "      <td>NaN</td>\n",
       "      <td>NaN</td>\n",
       "      <td>NaN</td>\n",
       "      <td>55.0</td>\n",
       "    </tr>\n",
       "    <tr>\n",
       "      <td>8</td>\n",
       "      <td>20</td>\n",
       "      <td>2900000.0</td>\n",
       "      <td>33.16</td>\n",
       "      <td>2018-05-23T00:00:00</td>\n",
       "      <td>1</td>\n",
       "      <td>NaN</td>\n",
       "      <td>27.0</td>\n",
       "      <td>15.43</td>\n",
       "      <td>26</td>\n",
       "      <td>NaN</td>\n",
       "      <td>...</td>\n",
       "      <td>8.81</td>\n",
       "      <td>NaN</td>\n",
       "      <td>посёлок Мурино</td>\n",
       "      <td>NaN</td>\n",
       "      <td>NaN</td>\n",
       "      <td>NaN</td>\n",
       "      <td>NaN</td>\n",
       "      <td>NaN</td>\n",
       "      <td>NaN</td>\n",
       "      <td>189.0</td>\n",
       "    </tr>\n",
       "    <tr>\n",
       "      <td>10</td>\n",
       "      <td>5</td>\n",
       "      <td>5050000.0</td>\n",
       "      <td>39.60</td>\n",
       "      <td>2017-11-16T00:00:00</td>\n",
       "      <td>1</td>\n",
       "      <td>2.67</td>\n",
       "      <td>12.0</td>\n",
       "      <td>20.30</td>\n",
       "      <td>3</td>\n",
       "      <td>NaN</td>\n",
       "      <td>...</td>\n",
       "      <td>8.50</td>\n",
       "      <td>NaN</td>\n",
       "      <td>Санкт-Петербург</td>\n",
       "      <td>38357.0</td>\n",
       "      <td>13878.0</td>\n",
       "      <td>1.0</td>\n",
       "      <td>310.0</td>\n",
       "      <td>2.0</td>\n",
       "      <td>553.0</td>\n",
       "      <td>137.0</td>\n",
       "    </tr>\n",
       "    <tr>\n",
       "      <td>...</td>\n",
       "      <td>...</td>\n",
       "      <td>...</td>\n",
       "      <td>...</td>\n",
       "      <td>...</td>\n",
       "      <td>...</td>\n",
       "      <td>...</td>\n",
       "      <td>...</td>\n",
       "      <td>...</td>\n",
       "      <td>...</td>\n",
       "      <td>...</td>\n",
       "      <td>...</td>\n",
       "      <td>...</td>\n",
       "      <td>...</td>\n",
       "      <td>...</td>\n",
       "      <td>...</td>\n",
       "      <td>...</td>\n",
       "      <td>...</td>\n",
       "      <td>...</td>\n",
       "      <td>...</td>\n",
       "      <td>...</td>\n",
       "      <td>...</td>\n",
       "    </tr>\n",
       "    <tr>\n",
       "      <td>23692</td>\n",
       "      <td>2</td>\n",
       "      <td>1350000.0</td>\n",
       "      <td>30.00</td>\n",
       "      <td>2017-07-07T00:00:00</td>\n",
       "      <td>1</td>\n",
       "      <td>NaN</td>\n",
       "      <td>5.0</td>\n",
       "      <td>17.50</td>\n",
       "      <td>4</td>\n",
       "      <td>NaN</td>\n",
       "      <td>...</td>\n",
       "      <td>6.00</td>\n",
       "      <td>NaN</td>\n",
       "      <td>Тихвин</td>\n",
       "      <td>NaN</td>\n",
       "      <td>NaN</td>\n",
       "      <td>NaN</td>\n",
       "      <td>NaN</td>\n",
       "      <td>NaN</td>\n",
       "      <td>NaN</td>\n",
       "      <td>413.0</td>\n",
       "    </tr>\n",
       "    <tr>\n",
       "      <td>23694</td>\n",
       "      <td>9</td>\n",
       "      <td>9700000.0</td>\n",
       "      <td>133.81</td>\n",
       "      <td>2017-03-21T00:00:00</td>\n",
       "      <td>3</td>\n",
       "      <td>3.70</td>\n",
       "      <td>5.0</td>\n",
       "      <td>73.30</td>\n",
       "      <td>3</td>\n",
       "      <td>NaN</td>\n",
       "      <td>...</td>\n",
       "      <td>13.83</td>\n",
       "      <td>NaN</td>\n",
       "      <td>Санкт-Петербург</td>\n",
       "      <td>24665.0</td>\n",
       "      <td>4232.0</td>\n",
       "      <td>1.0</td>\n",
       "      <td>796.0</td>\n",
       "      <td>3.0</td>\n",
       "      <td>381.0</td>\n",
       "      <td>NaN</td>\n",
       "    </tr>\n",
       "    <tr>\n",
       "      <td>23695</td>\n",
       "      <td>14</td>\n",
       "      <td>3100000.0</td>\n",
       "      <td>59.00</td>\n",
       "      <td>2018-01-15T00:00:00</td>\n",
       "      <td>3</td>\n",
       "      <td>NaN</td>\n",
       "      <td>5.0</td>\n",
       "      <td>38.00</td>\n",
       "      <td>4</td>\n",
       "      <td>NaN</td>\n",
       "      <td>...</td>\n",
       "      <td>8.50</td>\n",
       "      <td>NaN</td>\n",
       "      <td>Тосно</td>\n",
       "      <td>NaN</td>\n",
       "      <td>NaN</td>\n",
       "      <td>NaN</td>\n",
       "      <td>NaN</td>\n",
       "      <td>NaN</td>\n",
       "      <td>NaN</td>\n",
       "      <td>45.0</td>\n",
       "    </tr>\n",
       "    <tr>\n",
       "      <td>23696</td>\n",
       "      <td>18</td>\n",
       "      <td>2500000.0</td>\n",
       "      <td>56.70</td>\n",
       "      <td>2018-02-11T00:00:00</td>\n",
       "      <td>2</td>\n",
       "      <td>NaN</td>\n",
       "      <td>3.0</td>\n",
       "      <td>29.70</td>\n",
       "      <td>1</td>\n",
       "      <td>NaN</td>\n",
       "      <td>...</td>\n",
       "      <td>8.80</td>\n",
       "      <td>NaN</td>\n",
       "      <td>село Рождествено</td>\n",
       "      <td>NaN</td>\n",
       "      <td>NaN</td>\n",
       "      <td>NaN</td>\n",
       "      <td>NaN</td>\n",
       "      <td>NaN</td>\n",
       "      <td>NaN</td>\n",
       "      <td>NaN</td>\n",
       "    </tr>\n",
       "    <tr>\n",
       "      <td>23698</td>\n",
       "      <td>4</td>\n",
       "      <td>1350000.0</td>\n",
       "      <td>32.30</td>\n",
       "      <td>2017-07-21T00:00:00</td>\n",
       "      <td>1</td>\n",
       "      <td>2.50</td>\n",
       "      <td>5.0</td>\n",
       "      <td>12.30</td>\n",
       "      <td>1</td>\n",
       "      <td>NaN</td>\n",
       "      <td>...</td>\n",
       "      <td>9.00</td>\n",
       "      <td>NaN</td>\n",
       "      <td>поселок Новый Учхоз</td>\n",
       "      <td>NaN</td>\n",
       "      <td>NaN</td>\n",
       "      <td>NaN</td>\n",
       "      <td>NaN</td>\n",
       "      <td>NaN</td>\n",
       "      <td>NaN</td>\n",
       "      <td>NaN</td>\n",
       "    </tr>\n",
       "  </tbody>\n",
       "</table>\n",
       "<p>11519 rows × 22 columns</p>\n",
       "</div>"
      ],
      "text/plain": [
       "       total_images  last_price  total_area first_day_exposition  rooms  \\\n",
       "0                20  13000000.0      108.00  2019-03-07T00:00:00      3   \n",
       "4                 2  10000000.0      100.00  2018-06-19T00:00:00      2   \n",
       "5                10   2890000.0       30.40  2018-09-10T00:00:00      1   \n",
       "8                20   2900000.0       33.16  2018-05-23T00:00:00      1   \n",
       "10                5   5050000.0       39.60  2017-11-16T00:00:00      1   \n",
       "...             ...         ...         ...                  ...    ...   \n",
       "23692             2   1350000.0       30.00  2017-07-07T00:00:00      1   \n",
       "23694             9   9700000.0      133.81  2017-03-21T00:00:00      3   \n",
       "23695            14   3100000.0       59.00  2018-01-15T00:00:00      3   \n",
       "23696            18   2500000.0       56.70  2018-02-11T00:00:00      2   \n",
       "23698             4   1350000.0       32.30  2017-07-21T00:00:00      1   \n",
       "\n",
       "       ceiling_height  floors_total  living_area  floor is_apartment  ...  \\\n",
       "0                2.70          16.0        51.00      8          NaN  ...   \n",
       "4                3.03          14.0        32.00     13          NaN  ...   \n",
       "5                 NaN          12.0        14.40      5          NaN  ...   \n",
       "8                 NaN          27.0        15.43     26          NaN  ...   \n",
       "10               2.67          12.0        20.30      3          NaN  ...   \n",
       "...               ...           ...          ...    ...          ...  ...   \n",
       "23692             NaN           5.0        17.50      4          NaN  ...   \n",
       "23694            3.70           5.0        73.30      3          NaN  ...   \n",
       "23695             NaN           5.0        38.00      4          NaN  ...   \n",
       "23696             NaN           3.0        29.70      1          NaN  ...   \n",
       "23698            2.50           5.0        12.30      1          NaN  ...   \n",
       "\n",
       "       kitchen_area  balcony              locality_name  airports_nearest  \\\n",
       "0             25.00      NaN            Санкт-Петербург           18863.0   \n",
       "4             41.00      NaN            Санкт-Петербург           31856.0   \n",
       "5              9.10      NaN  городской посёлок Янино-1               NaN   \n",
       "8              8.81      NaN             посёлок Мурино               NaN   \n",
       "10             8.50      NaN            Санкт-Петербург           38357.0   \n",
       "...             ...      ...                        ...               ...   \n",
       "23692          6.00      NaN                     Тихвин               NaN   \n",
       "23694         13.83      NaN            Санкт-Петербург           24665.0   \n",
       "23695          8.50      NaN                      Тосно               NaN   \n",
       "23696          8.80      NaN           село Рождествено               NaN   \n",
       "23698          9.00      NaN        поселок Новый Учхоз               NaN   \n",
       "\n",
       "      cityCenters_nearest  parks_around3000  parks_nearest  ponds_around3000  \\\n",
       "0                 16028.0               1.0          482.0               2.0   \n",
       "4                  8098.0               2.0          112.0               1.0   \n",
       "5                     NaN               NaN            NaN               NaN   \n",
       "8                     NaN               NaN            NaN               NaN   \n",
       "10                13878.0               1.0          310.0               2.0   \n",
       "...                   ...               ...            ...               ...   \n",
       "23692                 NaN               NaN            NaN               NaN   \n",
       "23694              4232.0               1.0          796.0               3.0   \n",
       "23695                 NaN               NaN            NaN               NaN   \n",
       "23696                 NaN               NaN            NaN               NaN   \n",
       "23698                 NaN               NaN            NaN               NaN   \n",
       "\n",
       "       ponds_nearest  days_exposition  \n",
       "0              755.0              NaN  \n",
       "4               48.0            121.0  \n",
       "5                NaN             55.0  \n",
       "8                NaN            189.0  \n",
       "10             553.0            137.0  \n",
       "...              ...              ...  \n",
       "23692            NaN            413.0  \n",
       "23694          381.0              NaN  \n",
       "23695            NaN             45.0  \n",
       "23696            NaN              NaN  \n",
       "23698            NaN              NaN  \n",
       "\n",
       "[11519 rows x 22 columns]"
      ]
     },
     "execution_count": 9,
     "metadata": {},
     "output_type": "execute_result"
    }
   ],
   "source": [
    "df[df.balcony.isnull()]"
   ]
  },
  {
   "cell_type": "code",
   "execution_count": 11,
   "id": "3fe1c6c6",
   "metadata": {},
   "outputs": [
    {
     "name": "stdout",
     "output_type": "stream",
     "text": [
      "<class 'pandas.core.frame.DataFrame'>\n",
      "RangeIndex: 23699 entries, 0 to 23698\n",
      "Data columns (total 22 columns):\n",
      "total_images            23699 non-null int64\n",
      "last_price              23699 non-null float64\n",
      "total_area              23699 non-null float64\n",
      "first_day_exposition    23699 non-null object\n",
      "rooms                   23699 non-null int64\n",
      "ceiling_height          14504 non-null float64\n",
      "floors_total            23613 non-null float64\n",
      "living_area             23699 non-null float64\n",
      "floor                   23699 non-null int64\n",
      "is_apartment            2775 non-null object\n",
      "studio                  23699 non-null bool\n",
      "open_plan               23699 non-null bool\n",
      "kitchen_area            23502 non-null float64\n",
      "balcony                 23699 non-null float64\n",
      "locality_name           23650 non-null object\n",
      "airports_nearest        18157 non-null float64\n",
      "cityCenters_nearest     18180 non-null float64\n",
      "parks_around3000        18181 non-null float64\n",
      "parks_nearest           8079 non-null float64\n",
      "ponds_around3000        18181 non-null float64\n",
      "ponds_nearest           9110 non-null float64\n",
      "days_exposition         20518 non-null float64\n",
      "dtypes: bool(2), float64(14), int64(3), object(3)\n",
      "memory usage: 3.7+ MB\n"
     ]
    }
   ],
   "source": [
    "# Заменим null на 1\n",
    "df.loc[df['balcony'].isnull(),'balcony'] = 1\n",
    "df.info()"
   ]
  },
  {
   "cell_type": "code",
   "execution_count": 12,
   "id": "24b3bb07",
   "metadata": {},
   "outputs": [],
   "source": [
    "# Для удобства сменим тип для балконов, цены на целый. И дату объявления типизуруем как datetime\n",
    "df.balcony = df.balcony.astype('int')\n",
    "df.last_price = df.last_price.astype('int')\n",
    "df.first_day_exposition =  pd.to_datetime(df['first_day_exposition'], format='%Y-%m-%dT%H:%M:%S')\n",
    "df['days_exposition'] = df['days_exposition'].fillna(0).astype('int')"
   ]
  },
  {
   "cell_type": "code",
   "execution_count": 13,
   "id": "68f08b0c",
   "metadata": {},
   "outputs": [],
   "source": [
    "# Сгруппируем этажи по общему числу этаже, для пустых значений установим значение - 25, так как оно не сильно завышено но и не занижено\n",
    "group_floor = df.groupby('floor')['floors_total'].median()\n",
    "\n",
    "for i in group_rooms.index:\n",
    "\n",
    "    df.loc[(df['floor'] == i) & (df['floors_total'].isnull()), 'floors_total'] = group_rooms[i]\n",
    "df['floors_total'] = df['floors_total'].fillna(25)"
   ]
  },
  {
   "cell_type": "markdown",
   "id": "063e25e4",
   "metadata": {},
   "source": [
    "Спасибо за подсказку, неправильно привык уже писать, нужно переучаться "
   ]
  },
  {
   "cell_type": "code",
   "execution_count": 14,
   "id": "5f2b56f2",
   "metadata": {},
   "outputs": [
    {
     "name": "stdout",
     "output_type": "stream",
     "text": [
      "<class 'pandas.core.frame.DataFrame'>\n",
      "RangeIndex: 23699 entries, 0 to 23698\n",
      "Data columns (total 22 columns):\n",
      "total_images            23699 non-null int64\n",
      "last_price              23699 non-null int64\n",
      "total_area              23699 non-null float64\n",
      "first_day_exposition    23699 non-null datetime64[ns]\n",
      "rooms                   23699 non-null int64\n",
      "ceiling_height          14504 non-null float64\n",
      "floors_total            23699 non-null int64\n",
      "living_area             23699 non-null float64\n",
      "floor                   23699 non-null int64\n",
      "is_apartment            2775 non-null object\n",
      "studio                  23699 non-null bool\n",
      "open_plan               23699 non-null bool\n",
      "kitchen_area            23502 non-null float64\n",
      "balcony                 23699 non-null int64\n",
      "locality_name           23650 non-null object\n",
      "airports_nearest        18157 non-null float64\n",
      "cityCenters_nearest     18180 non-null float64\n",
      "parks_around3000        18181 non-null float64\n",
      "parks_nearest           8079 non-null float64\n",
      "ponds_around3000        18181 non-null float64\n",
      "ponds_nearest           9110 non-null float64\n",
      "days_exposition         23699 non-null int64\n",
      "dtypes: bool(2), datetime64[ns](1), float64(10), int64(7), object(2)\n",
      "memory usage: 3.7+ MB\n"
     ]
    }
   ],
   "source": [
    "# сменим тип на целое для удобства\n",
    "df.floors_total = df.floors_total.astype('int')\n",
    "df.info()"
   ]
  },
  {
   "cell_type": "markdown",
   "id": "d65d9750",
   "metadata": {},
   "source": [
    "**Вывод**  \n",
    "Заменили пропуски и заменили типы для дальнейшего удобного исследования данных"
   ]
  },
  {
   "cell_type": "markdown",
   "id": "b291772e",
   "metadata": {},
   "source": [
    "## Расчёты и добавление результатов в таблицу"
   ]
  },
  {
   "cell_type": "markdown",
   "id": "a3631e68",
   "metadata": {},
   "source": [
    "Посчитаем цену квадратного метра и округлим ее до целого для красоты:"
   ]
  },
  {
   "cell_type": "code",
   "execution_count": 15,
   "id": "30d2004d",
   "metadata": {},
   "outputs": [
    {
     "data": {
      "text/html": [
       "<div>\n",
       "<style scoped>\n",
       "    .dataframe tbody tr th:only-of-type {\n",
       "        vertical-align: middle;\n",
       "    }\n",
       "\n",
       "    .dataframe tbody tr th {\n",
       "        vertical-align: top;\n",
       "    }\n",
       "\n",
       "    .dataframe thead th {\n",
       "        text-align: right;\n",
       "    }\n",
       "</style>\n",
       "<table border=\"1\" class=\"dataframe\">\n",
       "  <thead>\n",
       "    <tr style=\"text-align: right;\">\n",
       "      <th></th>\n",
       "      <th>total_images</th>\n",
       "      <th>last_price</th>\n",
       "      <th>total_area</th>\n",
       "      <th>first_day_exposition</th>\n",
       "      <th>rooms</th>\n",
       "      <th>ceiling_height</th>\n",
       "      <th>floors_total</th>\n",
       "      <th>living_area</th>\n",
       "      <th>floor</th>\n",
       "      <th>is_apartment</th>\n",
       "      <th>...</th>\n",
       "      <th>balcony</th>\n",
       "      <th>locality_name</th>\n",
       "      <th>airports_nearest</th>\n",
       "      <th>cityCenters_nearest</th>\n",
       "      <th>parks_around3000</th>\n",
       "      <th>parks_nearest</th>\n",
       "      <th>ponds_around3000</th>\n",
       "      <th>ponds_nearest</th>\n",
       "      <th>days_exposition</th>\n",
       "      <th>price_m2</th>\n",
       "    </tr>\n",
       "  </thead>\n",
       "  <tbody>\n",
       "    <tr>\n",
       "      <td>0</td>\n",
       "      <td>20</td>\n",
       "      <td>13000000</td>\n",
       "      <td>108.00</td>\n",
       "      <td>2019-03-07</td>\n",
       "      <td>3</td>\n",
       "      <td>2.70</td>\n",
       "      <td>16</td>\n",
       "      <td>51.00</td>\n",
       "      <td>8</td>\n",
       "      <td>NaN</td>\n",
       "      <td>...</td>\n",
       "      <td>1</td>\n",
       "      <td>Санкт-Петербург</td>\n",
       "      <td>18863.0</td>\n",
       "      <td>16028.0</td>\n",
       "      <td>1.0</td>\n",
       "      <td>482.0</td>\n",
       "      <td>2.0</td>\n",
       "      <td>755.0</td>\n",
       "      <td>0</td>\n",
       "      <td>120370</td>\n",
       "    </tr>\n",
       "    <tr>\n",
       "      <td>1</td>\n",
       "      <td>7</td>\n",
       "      <td>3350000</td>\n",
       "      <td>40.40</td>\n",
       "      <td>2018-12-04</td>\n",
       "      <td>1</td>\n",
       "      <td>NaN</td>\n",
       "      <td>11</td>\n",
       "      <td>18.60</td>\n",
       "      <td>1</td>\n",
       "      <td>NaN</td>\n",
       "      <td>...</td>\n",
       "      <td>2</td>\n",
       "      <td>посёлок Шушары</td>\n",
       "      <td>12817.0</td>\n",
       "      <td>18603.0</td>\n",
       "      <td>0.0</td>\n",
       "      <td>NaN</td>\n",
       "      <td>0.0</td>\n",
       "      <td>NaN</td>\n",
       "      <td>81</td>\n",
       "      <td>82921</td>\n",
       "    </tr>\n",
       "    <tr>\n",
       "      <td>2</td>\n",
       "      <td>10</td>\n",
       "      <td>5196000</td>\n",
       "      <td>56.00</td>\n",
       "      <td>2015-08-20</td>\n",
       "      <td>2</td>\n",
       "      <td>NaN</td>\n",
       "      <td>5</td>\n",
       "      <td>34.30</td>\n",
       "      <td>4</td>\n",
       "      <td>NaN</td>\n",
       "      <td>...</td>\n",
       "      <td>0</td>\n",
       "      <td>Санкт-Петербург</td>\n",
       "      <td>21741.0</td>\n",
       "      <td>13933.0</td>\n",
       "      <td>1.0</td>\n",
       "      <td>90.0</td>\n",
       "      <td>2.0</td>\n",
       "      <td>574.0</td>\n",
       "      <td>558</td>\n",
       "      <td>92786</td>\n",
       "    </tr>\n",
       "    <tr>\n",
       "      <td>3</td>\n",
       "      <td>0</td>\n",
       "      <td>64900000</td>\n",
       "      <td>159.00</td>\n",
       "      <td>2015-07-24</td>\n",
       "      <td>3</td>\n",
       "      <td>NaN</td>\n",
       "      <td>14</td>\n",
       "      <td>45.00</td>\n",
       "      <td>9</td>\n",
       "      <td>NaN</td>\n",
       "      <td>...</td>\n",
       "      <td>0</td>\n",
       "      <td>Санкт-Петербург</td>\n",
       "      <td>28098.0</td>\n",
       "      <td>6800.0</td>\n",
       "      <td>2.0</td>\n",
       "      <td>84.0</td>\n",
       "      <td>3.0</td>\n",
       "      <td>234.0</td>\n",
       "      <td>424</td>\n",
       "      <td>408176</td>\n",
       "    </tr>\n",
       "    <tr>\n",
       "      <td>4</td>\n",
       "      <td>2</td>\n",
       "      <td>10000000</td>\n",
       "      <td>100.00</td>\n",
       "      <td>2018-06-19</td>\n",
       "      <td>2</td>\n",
       "      <td>3.03</td>\n",
       "      <td>14</td>\n",
       "      <td>32.00</td>\n",
       "      <td>13</td>\n",
       "      <td>NaN</td>\n",
       "      <td>...</td>\n",
       "      <td>1</td>\n",
       "      <td>Санкт-Петербург</td>\n",
       "      <td>31856.0</td>\n",
       "      <td>8098.0</td>\n",
       "      <td>2.0</td>\n",
       "      <td>112.0</td>\n",
       "      <td>1.0</td>\n",
       "      <td>48.0</td>\n",
       "      <td>121</td>\n",
       "      <td>100000</td>\n",
       "    </tr>\n",
       "    <tr>\n",
       "      <td>5</td>\n",
       "      <td>10</td>\n",
       "      <td>2890000</td>\n",
       "      <td>30.40</td>\n",
       "      <td>2018-09-10</td>\n",
       "      <td>1</td>\n",
       "      <td>NaN</td>\n",
       "      <td>12</td>\n",
       "      <td>14.40</td>\n",
       "      <td>5</td>\n",
       "      <td>NaN</td>\n",
       "      <td>...</td>\n",
       "      <td>1</td>\n",
       "      <td>городской посёлок Янино-1</td>\n",
       "      <td>NaN</td>\n",
       "      <td>NaN</td>\n",
       "      <td>NaN</td>\n",
       "      <td>NaN</td>\n",
       "      <td>NaN</td>\n",
       "      <td>NaN</td>\n",
       "      <td>55</td>\n",
       "      <td>95066</td>\n",
       "    </tr>\n",
       "    <tr>\n",
       "      <td>6</td>\n",
       "      <td>6</td>\n",
       "      <td>3700000</td>\n",
       "      <td>37.30</td>\n",
       "      <td>2017-11-02</td>\n",
       "      <td>1</td>\n",
       "      <td>NaN</td>\n",
       "      <td>26</td>\n",
       "      <td>10.60</td>\n",
       "      <td>6</td>\n",
       "      <td>NaN</td>\n",
       "      <td>...</td>\n",
       "      <td>1</td>\n",
       "      <td>посёлок Парголово</td>\n",
       "      <td>52996.0</td>\n",
       "      <td>19143.0</td>\n",
       "      <td>0.0</td>\n",
       "      <td>NaN</td>\n",
       "      <td>0.0</td>\n",
       "      <td>NaN</td>\n",
       "      <td>155</td>\n",
       "      <td>99196</td>\n",
       "    </tr>\n",
       "    <tr>\n",
       "      <td>7</td>\n",
       "      <td>5</td>\n",
       "      <td>7915000</td>\n",
       "      <td>71.60</td>\n",
       "      <td>2019-04-18</td>\n",
       "      <td>2</td>\n",
       "      <td>NaN</td>\n",
       "      <td>24</td>\n",
       "      <td>30.50</td>\n",
       "      <td>22</td>\n",
       "      <td>NaN</td>\n",
       "      <td>...</td>\n",
       "      <td>2</td>\n",
       "      <td>Санкт-Петербург</td>\n",
       "      <td>23982.0</td>\n",
       "      <td>11634.0</td>\n",
       "      <td>0.0</td>\n",
       "      <td>NaN</td>\n",
       "      <td>0.0</td>\n",
       "      <td>NaN</td>\n",
       "      <td>0</td>\n",
       "      <td>110545</td>\n",
       "    </tr>\n",
       "    <tr>\n",
       "      <td>8</td>\n",
       "      <td>20</td>\n",
       "      <td>2900000</td>\n",
       "      <td>33.16</td>\n",
       "      <td>2018-05-23</td>\n",
       "      <td>1</td>\n",
       "      <td>NaN</td>\n",
       "      <td>27</td>\n",
       "      <td>15.43</td>\n",
       "      <td>26</td>\n",
       "      <td>NaN</td>\n",
       "      <td>...</td>\n",
       "      <td>1</td>\n",
       "      <td>посёлок Мурино</td>\n",
       "      <td>NaN</td>\n",
       "      <td>NaN</td>\n",
       "      <td>NaN</td>\n",
       "      <td>NaN</td>\n",
       "      <td>NaN</td>\n",
       "      <td>NaN</td>\n",
       "      <td>189</td>\n",
       "      <td>87455</td>\n",
       "    </tr>\n",
       "    <tr>\n",
       "      <td>9</td>\n",
       "      <td>18</td>\n",
       "      <td>5400000</td>\n",
       "      <td>61.00</td>\n",
       "      <td>2017-02-26</td>\n",
       "      <td>3</td>\n",
       "      <td>2.50</td>\n",
       "      <td>9</td>\n",
       "      <td>43.60</td>\n",
       "      <td>7</td>\n",
       "      <td>NaN</td>\n",
       "      <td>...</td>\n",
       "      <td>2</td>\n",
       "      <td>Санкт-Петербург</td>\n",
       "      <td>50898.0</td>\n",
       "      <td>15008.0</td>\n",
       "      <td>0.0</td>\n",
       "      <td>NaN</td>\n",
       "      <td>0.0</td>\n",
       "      <td>NaN</td>\n",
       "      <td>289</td>\n",
       "      <td>88525</td>\n",
       "    </tr>\n",
       "  </tbody>\n",
       "</table>\n",
       "<p>10 rows × 23 columns</p>\n",
       "</div>"
      ],
      "text/plain": [
       "   total_images  last_price  total_area first_day_exposition  rooms  \\\n",
       "0            20    13000000      108.00           2019-03-07      3   \n",
       "1             7     3350000       40.40           2018-12-04      1   \n",
       "2            10     5196000       56.00           2015-08-20      2   \n",
       "3             0    64900000      159.00           2015-07-24      3   \n",
       "4             2    10000000      100.00           2018-06-19      2   \n",
       "5            10     2890000       30.40           2018-09-10      1   \n",
       "6             6     3700000       37.30           2017-11-02      1   \n",
       "7             5     7915000       71.60           2019-04-18      2   \n",
       "8            20     2900000       33.16           2018-05-23      1   \n",
       "9            18     5400000       61.00           2017-02-26      3   \n",
       "\n",
       "   ceiling_height  floors_total  living_area  floor is_apartment  ...  \\\n",
       "0            2.70            16        51.00      8          NaN  ...   \n",
       "1             NaN            11        18.60      1          NaN  ...   \n",
       "2             NaN             5        34.30      4          NaN  ...   \n",
       "3             NaN            14        45.00      9          NaN  ...   \n",
       "4            3.03            14        32.00     13          NaN  ...   \n",
       "5             NaN            12        14.40      5          NaN  ...   \n",
       "6             NaN            26        10.60      6          NaN  ...   \n",
       "7             NaN            24        30.50     22          NaN  ...   \n",
       "8             NaN            27        15.43     26          NaN  ...   \n",
       "9            2.50             9        43.60      7          NaN  ...   \n",
       "\n",
       "   balcony              locality_name  airports_nearest  cityCenters_nearest  \\\n",
       "0        1            Санкт-Петербург           18863.0              16028.0   \n",
       "1        2             посёлок Шушары           12817.0              18603.0   \n",
       "2        0            Санкт-Петербург           21741.0              13933.0   \n",
       "3        0            Санкт-Петербург           28098.0               6800.0   \n",
       "4        1            Санкт-Петербург           31856.0               8098.0   \n",
       "5        1  городской посёлок Янино-1               NaN                  NaN   \n",
       "6        1          посёлок Парголово           52996.0              19143.0   \n",
       "7        2            Санкт-Петербург           23982.0              11634.0   \n",
       "8        1             посёлок Мурино               NaN                  NaN   \n",
       "9        2            Санкт-Петербург           50898.0              15008.0   \n",
       "\n",
       "  parks_around3000  parks_nearest  ponds_around3000  ponds_nearest  \\\n",
       "0              1.0          482.0               2.0          755.0   \n",
       "1              0.0            NaN               0.0            NaN   \n",
       "2              1.0           90.0               2.0          574.0   \n",
       "3              2.0           84.0               3.0          234.0   \n",
       "4              2.0          112.0               1.0           48.0   \n",
       "5              NaN            NaN               NaN            NaN   \n",
       "6              0.0            NaN               0.0            NaN   \n",
       "7              0.0            NaN               0.0            NaN   \n",
       "8              NaN            NaN               NaN            NaN   \n",
       "9              0.0            NaN               0.0            NaN   \n",
       "\n",
       "   days_exposition  price_m2  \n",
       "0                0    120370  \n",
       "1               81     82921  \n",
       "2              558     92786  \n",
       "3              424    408176  \n",
       "4              121    100000  \n",
       "5               55     95066  \n",
       "6              155     99196  \n",
       "7                0    110545  \n",
       "8              189     87455  \n",
       "9              289     88525  \n",
       "\n",
       "[10 rows x 23 columns]"
      ]
     },
     "execution_count": 15,
     "metadata": {},
     "output_type": "execute_result"
    }
   ],
   "source": [
    "df['price_m2'] = round(df.last_price/df.total_area).astype(int)\n",
    "df.head(10)\n"
   ]
  },
  {
   "cell_type": "code",
   "execution_count": 16,
   "id": "08f7cd5e",
   "metadata": {},
   "outputs": [],
   "source": [
    "#Также посчитаем день недели, месяц и год размещения объявления\n",
    "\n",
    "df['weekday'] = df['first_day_exposition'].dt.weekday\n",
    "df['month'] = df['first_day_exposition'].dt.month\n",
    "df['year'] = df['first_day_exposition'].dt.year"
   ]
  },
  {
   "cell_type": "code",
   "execution_count": 17,
   "id": "23c0e867",
   "metadata": {},
   "outputs": [
    {
     "data": {
      "text/html": [
       "<div>\n",
       "<style scoped>\n",
       "    .dataframe tbody tr th:only-of-type {\n",
       "        vertical-align: middle;\n",
       "    }\n",
       "\n",
       "    .dataframe tbody tr th {\n",
       "        vertical-align: top;\n",
       "    }\n",
       "\n",
       "    .dataframe thead th {\n",
       "        text-align: right;\n",
       "    }\n",
       "</style>\n",
       "<table border=\"1\" class=\"dataframe\">\n",
       "  <thead>\n",
       "    <tr style=\"text-align: right;\">\n",
       "      <th></th>\n",
       "      <th>total_images</th>\n",
       "      <th>last_price</th>\n",
       "      <th>total_area</th>\n",
       "      <th>first_day_exposition</th>\n",
       "      <th>rooms</th>\n",
       "      <th>ceiling_height</th>\n",
       "      <th>floors_total</th>\n",
       "      <th>living_area</th>\n",
       "      <th>floor</th>\n",
       "      <th>is_apartment</th>\n",
       "      <th>...</th>\n",
       "      <th>cityCenters_nearest</th>\n",
       "      <th>parks_around3000</th>\n",
       "      <th>parks_nearest</th>\n",
       "      <th>ponds_around3000</th>\n",
       "      <th>ponds_nearest</th>\n",
       "      <th>days_exposition</th>\n",
       "      <th>price_m2</th>\n",
       "      <th>weekday</th>\n",
       "      <th>month</th>\n",
       "      <th>year</th>\n",
       "    </tr>\n",
       "  </thead>\n",
       "  <tbody>\n",
       "    <tr>\n",
       "      <td>0</td>\n",
       "      <td>20</td>\n",
       "      <td>13000000</td>\n",
       "      <td>108.00</td>\n",
       "      <td>2019-03-07</td>\n",
       "      <td>3</td>\n",
       "      <td>2.70</td>\n",
       "      <td>16</td>\n",
       "      <td>51.0</td>\n",
       "      <td>8</td>\n",
       "      <td>NaN</td>\n",
       "      <td>...</td>\n",
       "      <td>16028.0</td>\n",
       "      <td>1.0</td>\n",
       "      <td>482.0</td>\n",
       "      <td>2.0</td>\n",
       "      <td>755.0</td>\n",
       "      <td>0</td>\n",
       "      <td>120370</td>\n",
       "      <td>3</td>\n",
       "      <td>3</td>\n",
       "      <td>2019</td>\n",
       "    </tr>\n",
       "    <tr>\n",
       "      <td>1</td>\n",
       "      <td>7</td>\n",
       "      <td>3350000</td>\n",
       "      <td>40.40</td>\n",
       "      <td>2018-12-04</td>\n",
       "      <td>1</td>\n",
       "      <td>NaN</td>\n",
       "      <td>11</td>\n",
       "      <td>18.6</td>\n",
       "      <td>1</td>\n",
       "      <td>NaN</td>\n",
       "      <td>...</td>\n",
       "      <td>18603.0</td>\n",
       "      <td>0.0</td>\n",
       "      <td>NaN</td>\n",
       "      <td>0.0</td>\n",
       "      <td>NaN</td>\n",
       "      <td>81</td>\n",
       "      <td>82921</td>\n",
       "      <td>1</td>\n",
       "      <td>12</td>\n",
       "      <td>2018</td>\n",
       "    </tr>\n",
       "    <tr>\n",
       "      <td>2</td>\n",
       "      <td>10</td>\n",
       "      <td>5196000</td>\n",
       "      <td>56.00</td>\n",
       "      <td>2015-08-20</td>\n",
       "      <td>2</td>\n",
       "      <td>NaN</td>\n",
       "      <td>5</td>\n",
       "      <td>34.3</td>\n",
       "      <td>4</td>\n",
       "      <td>NaN</td>\n",
       "      <td>...</td>\n",
       "      <td>13933.0</td>\n",
       "      <td>1.0</td>\n",
       "      <td>90.0</td>\n",
       "      <td>2.0</td>\n",
       "      <td>574.0</td>\n",
       "      <td>558</td>\n",
       "      <td>92786</td>\n",
       "      <td>3</td>\n",
       "      <td>8</td>\n",
       "      <td>2015</td>\n",
       "    </tr>\n",
       "    <tr>\n",
       "      <td>3</td>\n",
       "      <td>0</td>\n",
       "      <td>64900000</td>\n",
       "      <td>159.00</td>\n",
       "      <td>2015-07-24</td>\n",
       "      <td>3</td>\n",
       "      <td>NaN</td>\n",
       "      <td>14</td>\n",
       "      <td>45.0</td>\n",
       "      <td>9</td>\n",
       "      <td>NaN</td>\n",
       "      <td>...</td>\n",
       "      <td>6800.0</td>\n",
       "      <td>2.0</td>\n",
       "      <td>84.0</td>\n",
       "      <td>3.0</td>\n",
       "      <td>234.0</td>\n",
       "      <td>424</td>\n",
       "      <td>408176</td>\n",
       "      <td>4</td>\n",
       "      <td>7</td>\n",
       "      <td>2015</td>\n",
       "    </tr>\n",
       "    <tr>\n",
       "      <td>4</td>\n",
       "      <td>2</td>\n",
       "      <td>10000000</td>\n",
       "      <td>100.00</td>\n",
       "      <td>2018-06-19</td>\n",
       "      <td>2</td>\n",
       "      <td>3.03</td>\n",
       "      <td>14</td>\n",
       "      <td>32.0</td>\n",
       "      <td>13</td>\n",
       "      <td>NaN</td>\n",
       "      <td>...</td>\n",
       "      <td>8098.0</td>\n",
       "      <td>2.0</td>\n",
       "      <td>112.0</td>\n",
       "      <td>1.0</td>\n",
       "      <td>48.0</td>\n",
       "      <td>121</td>\n",
       "      <td>100000</td>\n",
       "      <td>1</td>\n",
       "      <td>6</td>\n",
       "      <td>2018</td>\n",
       "    </tr>\n",
       "    <tr>\n",
       "      <td>...</td>\n",
       "      <td>...</td>\n",
       "      <td>...</td>\n",
       "      <td>...</td>\n",
       "      <td>...</td>\n",
       "      <td>...</td>\n",
       "      <td>...</td>\n",
       "      <td>...</td>\n",
       "      <td>...</td>\n",
       "      <td>...</td>\n",
       "      <td>...</td>\n",
       "      <td>...</td>\n",
       "      <td>...</td>\n",
       "      <td>...</td>\n",
       "      <td>...</td>\n",
       "      <td>...</td>\n",
       "      <td>...</td>\n",
       "      <td>...</td>\n",
       "      <td>...</td>\n",
       "      <td>...</td>\n",
       "      <td>...</td>\n",
       "      <td>...</td>\n",
       "    </tr>\n",
       "    <tr>\n",
       "      <td>23694</td>\n",
       "      <td>9</td>\n",
       "      <td>9700000</td>\n",
       "      <td>133.81</td>\n",
       "      <td>2017-03-21</td>\n",
       "      <td>3</td>\n",
       "      <td>3.70</td>\n",
       "      <td>5</td>\n",
       "      <td>73.3</td>\n",
       "      <td>3</td>\n",
       "      <td>NaN</td>\n",
       "      <td>...</td>\n",
       "      <td>4232.0</td>\n",
       "      <td>1.0</td>\n",
       "      <td>796.0</td>\n",
       "      <td>3.0</td>\n",
       "      <td>381.0</td>\n",
       "      <td>0</td>\n",
       "      <td>72491</td>\n",
       "      <td>1</td>\n",
       "      <td>3</td>\n",
       "      <td>2017</td>\n",
       "    </tr>\n",
       "    <tr>\n",
       "      <td>23695</td>\n",
       "      <td>14</td>\n",
       "      <td>3100000</td>\n",
       "      <td>59.00</td>\n",
       "      <td>2018-01-15</td>\n",
       "      <td>3</td>\n",
       "      <td>NaN</td>\n",
       "      <td>5</td>\n",
       "      <td>38.0</td>\n",
       "      <td>4</td>\n",
       "      <td>NaN</td>\n",
       "      <td>...</td>\n",
       "      <td>NaN</td>\n",
       "      <td>NaN</td>\n",
       "      <td>NaN</td>\n",
       "      <td>NaN</td>\n",
       "      <td>NaN</td>\n",
       "      <td>45</td>\n",
       "      <td>52542</td>\n",
       "      <td>0</td>\n",
       "      <td>1</td>\n",
       "      <td>2018</td>\n",
       "    </tr>\n",
       "    <tr>\n",
       "      <td>23696</td>\n",
       "      <td>18</td>\n",
       "      <td>2500000</td>\n",
       "      <td>56.70</td>\n",
       "      <td>2018-02-11</td>\n",
       "      <td>2</td>\n",
       "      <td>NaN</td>\n",
       "      <td>3</td>\n",
       "      <td>29.7</td>\n",
       "      <td>1</td>\n",
       "      <td>NaN</td>\n",
       "      <td>...</td>\n",
       "      <td>NaN</td>\n",
       "      <td>NaN</td>\n",
       "      <td>NaN</td>\n",
       "      <td>NaN</td>\n",
       "      <td>NaN</td>\n",
       "      <td>0</td>\n",
       "      <td>44092</td>\n",
       "      <td>6</td>\n",
       "      <td>2</td>\n",
       "      <td>2018</td>\n",
       "    </tr>\n",
       "    <tr>\n",
       "      <td>23697</td>\n",
       "      <td>13</td>\n",
       "      <td>11475000</td>\n",
       "      <td>76.75</td>\n",
       "      <td>2017-03-28</td>\n",
       "      <td>2</td>\n",
       "      <td>3.00</td>\n",
       "      <td>17</td>\n",
       "      <td>30.5</td>\n",
       "      <td>12</td>\n",
       "      <td>NaN</td>\n",
       "      <td>...</td>\n",
       "      <td>10364.0</td>\n",
       "      <td>2.0</td>\n",
       "      <td>173.0</td>\n",
       "      <td>3.0</td>\n",
       "      <td>196.0</td>\n",
       "      <td>602</td>\n",
       "      <td>149511</td>\n",
       "      <td>1</td>\n",
       "      <td>3</td>\n",
       "      <td>2017</td>\n",
       "    </tr>\n",
       "    <tr>\n",
       "      <td>23698</td>\n",
       "      <td>4</td>\n",
       "      <td>1350000</td>\n",
       "      <td>32.30</td>\n",
       "      <td>2017-07-21</td>\n",
       "      <td>1</td>\n",
       "      <td>2.50</td>\n",
       "      <td>5</td>\n",
       "      <td>12.3</td>\n",
       "      <td>1</td>\n",
       "      <td>NaN</td>\n",
       "      <td>...</td>\n",
       "      <td>NaN</td>\n",
       "      <td>NaN</td>\n",
       "      <td>NaN</td>\n",
       "      <td>NaN</td>\n",
       "      <td>NaN</td>\n",
       "      <td>0</td>\n",
       "      <td>41796</td>\n",
       "      <td>4</td>\n",
       "      <td>7</td>\n",
       "      <td>2017</td>\n",
       "    </tr>\n",
       "  </tbody>\n",
       "</table>\n",
       "<p>23699 rows × 26 columns</p>\n",
       "</div>"
      ],
      "text/plain": [
       "       total_images  last_price  total_area first_day_exposition  rooms  \\\n",
       "0                20    13000000      108.00           2019-03-07      3   \n",
       "1                 7     3350000       40.40           2018-12-04      1   \n",
       "2                10     5196000       56.00           2015-08-20      2   \n",
       "3                 0    64900000      159.00           2015-07-24      3   \n",
       "4                 2    10000000      100.00           2018-06-19      2   \n",
       "...             ...         ...         ...                  ...    ...   \n",
       "23694             9     9700000      133.81           2017-03-21      3   \n",
       "23695            14     3100000       59.00           2018-01-15      3   \n",
       "23696            18     2500000       56.70           2018-02-11      2   \n",
       "23697            13    11475000       76.75           2017-03-28      2   \n",
       "23698             4     1350000       32.30           2017-07-21      1   \n",
       "\n",
       "       ceiling_height  floors_total  living_area  floor is_apartment  ...  \\\n",
       "0                2.70            16         51.0      8          NaN  ...   \n",
       "1                 NaN            11         18.6      1          NaN  ...   \n",
       "2                 NaN             5         34.3      4          NaN  ...   \n",
       "3                 NaN            14         45.0      9          NaN  ...   \n",
       "4                3.03            14         32.0     13          NaN  ...   \n",
       "...               ...           ...          ...    ...          ...  ...   \n",
       "23694            3.70             5         73.3      3          NaN  ...   \n",
       "23695             NaN             5         38.0      4          NaN  ...   \n",
       "23696             NaN             3         29.7      1          NaN  ...   \n",
       "23697            3.00            17         30.5     12          NaN  ...   \n",
       "23698            2.50             5         12.3      1          NaN  ...   \n",
       "\n",
       "       cityCenters_nearest  parks_around3000  parks_nearest  ponds_around3000  \\\n",
       "0                  16028.0               1.0          482.0               2.0   \n",
       "1                  18603.0               0.0            NaN               0.0   \n",
       "2                  13933.0               1.0           90.0               2.0   \n",
       "3                   6800.0               2.0           84.0               3.0   \n",
       "4                   8098.0               2.0          112.0               1.0   \n",
       "...                    ...               ...            ...               ...   \n",
       "23694               4232.0               1.0          796.0               3.0   \n",
       "23695                  NaN               NaN            NaN               NaN   \n",
       "23696                  NaN               NaN            NaN               NaN   \n",
       "23697              10364.0               2.0          173.0               3.0   \n",
       "23698                  NaN               NaN            NaN               NaN   \n",
       "\n",
       "      ponds_nearest  days_exposition  price_m2  weekday  month  year  \n",
       "0             755.0                0    120370        3      3  2019  \n",
       "1               NaN               81     82921        1     12  2018  \n",
       "2             574.0              558     92786        3      8  2015  \n",
       "3             234.0              424    408176        4      7  2015  \n",
       "4              48.0              121    100000        1      6  2018  \n",
       "...             ...              ...       ...      ...    ...   ...  \n",
       "23694         381.0                0     72491        1      3  2017  \n",
       "23695           NaN               45     52542        0      1  2018  \n",
       "23696           NaN                0     44092        6      2  2018  \n",
       "23697         196.0              602    149511        1      3  2017  \n",
       "23698           NaN                0     41796        4      7  2017  \n",
       "\n",
       "[23699 rows x 26 columns]"
      ]
     },
     "execution_count": 17,
     "metadata": {},
     "output_type": "execute_result"
    }
   ],
   "source": [
    "df.head(10)"
   ]
  },
  {
   "cell_type": "code",
   "execution_count": 18,
   "id": "9abe4f61",
   "metadata": {},
   "outputs": [
    {
     "data": {
      "text/html": [
       "<div>\n",
       "<style scoped>\n",
       "    .dataframe tbody tr th:only-of-type {\n",
       "        vertical-align: middle;\n",
       "    }\n",
       "\n",
       "    .dataframe tbody tr th {\n",
       "        vertical-align: top;\n",
       "    }\n",
       "\n",
       "    .dataframe thead th {\n",
       "        text-align: right;\n",
       "    }\n",
       "</style>\n",
       "<table border=\"1\" class=\"dataframe\">\n",
       "  <thead>\n",
       "    <tr style=\"text-align: right;\">\n",
       "      <th></th>\n",
       "      <th>total_images</th>\n",
       "      <th>last_price</th>\n",
       "      <th>total_area</th>\n",
       "      <th>first_day_exposition</th>\n",
       "      <th>rooms</th>\n",
       "      <th>ceiling_height</th>\n",
       "      <th>floors_total</th>\n",
       "      <th>living_area</th>\n",
       "      <th>floor</th>\n",
       "      <th>is_apartment</th>\n",
       "      <th>...</th>\n",
       "      <th>parks_around3000</th>\n",
       "      <th>parks_nearest</th>\n",
       "      <th>ponds_around3000</th>\n",
       "      <th>ponds_nearest</th>\n",
       "      <th>days_exposition</th>\n",
       "      <th>price_m2</th>\n",
       "      <th>weekday</th>\n",
       "      <th>month</th>\n",
       "      <th>year</th>\n",
       "      <th>floor_2</th>\n",
       "    </tr>\n",
       "  </thead>\n",
       "  <tbody>\n",
       "    <tr>\n",
       "      <td>0</td>\n",
       "      <td>20</td>\n",
       "      <td>13000000</td>\n",
       "      <td>108.00</td>\n",
       "      <td>2019-03-07</td>\n",
       "      <td>3</td>\n",
       "      <td>2.70</td>\n",
       "      <td>16</td>\n",
       "      <td>51.0</td>\n",
       "      <td>8</td>\n",
       "      <td>NaN</td>\n",
       "      <td>...</td>\n",
       "      <td>1.0</td>\n",
       "      <td>482.0</td>\n",
       "      <td>2.0</td>\n",
       "      <td>755.0</td>\n",
       "      <td>0</td>\n",
       "      <td>120370</td>\n",
       "      <td>3</td>\n",
       "      <td>3</td>\n",
       "      <td>2019</td>\n",
       "      <td>Другой</td>\n",
       "    </tr>\n",
       "    <tr>\n",
       "      <td>1</td>\n",
       "      <td>7</td>\n",
       "      <td>3350000</td>\n",
       "      <td>40.40</td>\n",
       "      <td>2018-12-04</td>\n",
       "      <td>1</td>\n",
       "      <td>NaN</td>\n",
       "      <td>11</td>\n",
       "      <td>18.6</td>\n",
       "      <td>1</td>\n",
       "      <td>NaN</td>\n",
       "      <td>...</td>\n",
       "      <td>0.0</td>\n",
       "      <td>NaN</td>\n",
       "      <td>0.0</td>\n",
       "      <td>NaN</td>\n",
       "      <td>81</td>\n",
       "      <td>82921</td>\n",
       "      <td>1</td>\n",
       "      <td>12</td>\n",
       "      <td>2018</td>\n",
       "      <td>Первый</td>\n",
       "    </tr>\n",
       "    <tr>\n",
       "      <td>2</td>\n",
       "      <td>10</td>\n",
       "      <td>5196000</td>\n",
       "      <td>56.00</td>\n",
       "      <td>2015-08-20</td>\n",
       "      <td>2</td>\n",
       "      <td>NaN</td>\n",
       "      <td>5</td>\n",
       "      <td>34.3</td>\n",
       "      <td>4</td>\n",
       "      <td>NaN</td>\n",
       "      <td>...</td>\n",
       "      <td>1.0</td>\n",
       "      <td>90.0</td>\n",
       "      <td>2.0</td>\n",
       "      <td>574.0</td>\n",
       "      <td>558</td>\n",
       "      <td>92786</td>\n",
       "      <td>3</td>\n",
       "      <td>8</td>\n",
       "      <td>2015</td>\n",
       "      <td>Другой</td>\n",
       "    </tr>\n",
       "    <tr>\n",
       "      <td>3</td>\n",
       "      <td>0</td>\n",
       "      <td>64900000</td>\n",
       "      <td>159.00</td>\n",
       "      <td>2015-07-24</td>\n",
       "      <td>3</td>\n",
       "      <td>NaN</td>\n",
       "      <td>14</td>\n",
       "      <td>45.0</td>\n",
       "      <td>9</td>\n",
       "      <td>NaN</td>\n",
       "      <td>...</td>\n",
       "      <td>2.0</td>\n",
       "      <td>84.0</td>\n",
       "      <td>3.0</td>\n",
       "      <td>234.0</td>\n",
       "      <td>424</td>\n",
       "      <td>408176</td>\n",
       "      <td>4</td>\n",
       "      <td>7</td>\n",
       "      <td>2015</td>\n",
       "      <td>Другой</td>\n",
       "    </tr>\n",
       "    <tr>\n",
       "      <td>4</td>\n",
       "      <td>2</td>\n",
       "      <td>10000000</td>\n",
       "      <td>100.00</td>\n",
       "      <td>2018-06-19</td>\n",
       "      <td>2</td>\n",
       "      <td>3.03</td>\n",
       "      <td>14</td>\n",
       "      <td>32.0</td>\n",
       "      <td>13</td>\n",
       "      <td>NaN</td>\n",
       "      <td>...</td>\n",
       "      <td>2.0</td>\n",
       "      <td>112.0</td>\n",
       "      <td>1.0</td>\n",
       "      <td>48.0</td>\n",
       "      <td>121</td>\n",
       "      <td>100000</td>\n",
       "      <td>1</td>\n",
       "      <td>6</td>\n",
       "      <td>2018</td>\n",
       "      <td>Другой</td>\n",
       "    </tr>\n",
       "    <tr>\n",
       "      <td>...</td>\n",
       "      <td>...</td>\n",
       "      <td>...</td>\n",
       "      <td>...</td>\n",
       "      <td>...</td>\n",
       "      <td>...</td>\n",
       "      <td>...</td>\n",
       "      <td>...</td>\n",
       "      <td>...</td>\n",
       "      <td>...</td>\n",
       "      <td>...</td>\n",
       "      <td>...</td>\n",
       "      <td>...</td>\n",
       "      <td>...</td>\n",
       "      <td>...</td>\n",
       "      <td>...</td>\n",
       "      <td>...</td>\n",
       "      <td>...</td>\n",
       "      <td>...</td>\n",
       "      <td>...</td>\n",
       "      <td>...</td>\n",
       "      <td>...</td>\n",
       "    </tr>\n",
       "    <tr>\n",
       "      <td>23694</td>\n",
       "      <td>9</td>\n",
       "      <td>9700000</td>\n",
       "      <td>133.81</td>\n",
       "      <td>2017-03-21</td>\n",
       "      <td>3</td>\n",
       "      <td>3.70</td>\n",
       "      <td>5</td>\n",
       "      <td>73.3</td>\n",
       "      <td>3</td>\n",
       "      <td>NaN</td>\n",
       "      <td>...</td>\n",
       "      <td>1.0</td>\n",
       "      <td>796.0</td>\n",
       "      <td>3.0</td>\n",
       "      <td>381.0</td>\n",
       "      <td>0</td>\n",
       "      <td>72491</td>\n",
       "      <td>1</td>\n",
       "      <td>3</td>\n",
       "      <td>2017</td>\n",
       "      <td>Другой</td>\n",
       "    </tr>\n",
       "    <tr>\n",
       "      <td>23695</td>\n",
       "      <td>14</td>\n",
       "      <td>3100000</td>\n",
       "      <td>59.00</td>\n",
       "      <td>2018-01-15</td>\n",
       "      <td>3</td>\n",
       "      <td>NaN</td>\n",
       "      <td>5</td>\n",
       "      <td>38.0</td>\n",
       "      <td>4</td>\n",
       "      <td>NaN</td>\n",
       "      <td>...</td>\n",
       "      <td>NaN</td>\n",
       "      <td>NaN</td>\n",
       "      <td>NaN</td>\n",
       "      <td>NaN</td>\n",
       "      <td>45</td>\n",
       "      <td>52542</td>\n",
       "      <td>0</td>\n",
       "      <td>1</td>\n",
       "      <td>2018</td>\n",
       "      <td>Другой</td>\n",
       "    </tr>\n",
       "    <tr>\n",
       "      <td>23696</td>\n",
       "      <td>18</td>\n",
       "      <td>2500000</td>\n",
       "      <td>56.70</td>\n",
       "      <td>2018-02-11</td>\n",
       "      <td>2</td>\n",
       "      <td>NaN</td>\n",
       "      <td>3</td>\n",
       "      <td>29.7</td>\n",
       "      <td>1</td>\n",
       "      <td>NaN</td>\n",
       "      <td>...</td>\n",
       "      <td>NaN</td>\n",
       "      <td>NaN</td>\n",
       "      <td>NaN</td>\n",
       "      <td>NaN</td>\n",
       "      <td>0</td>\n",
       "      <td>44092</td>\n",
       "      <td>6</td>\n",
       "      <td>2</td>\n",
       "      <td>2018</td>\n",
       "      <td>Первый</td>\n",
       "    </tr>\n",
       "    <tr>\n",
       "      <td>23697</td>\n",
       "      <td>13</td>\n",
       "      <td>11475000</td>\n",
       "      <td>76.75</td>\n",
       "      <td>2017-03-28</td>\n",
       "      <td>2</td>\n",
       "      <td>3.00</td>\n",
       "      <td>17</td>\n",
       "      <td>30.5</td>\n",
       "      <td>12</td>\n",
       "      <td>NaN</td>\n",
       "      <td>...</td>\n",
       "      <td>2.0</td>\n",
       "      <td>173.0</td>\n",
       "      <td>3.0</td>\n",
       "      <td>196.0</td>\n",
       "      <td>602</td>\n",
       "      <td>149511</td>\n",
       "      <td>1</td>\n",
       "      <td>3</td>\n",
       "      <td>2017</td>\n",
       "      <td>Другой</td>\n",
       "    </tr>\n",
       "    <tr>\n",
       "      <td>23698</td>\n",
       "      <td>4</td>\n",
       "      <td>1350000</td>\n",
       "      <td>32.30</td>\n",
       "      <td>2017-07-21</td>\n",
       "      <td>1</td>\n",
       "      <td>2.50</td>\n",
       "      <td>5</td>\n",
       "      <td>12.3</td>\n",
       "      <td>1</td>\n",
       "      <td>NaN</td>\n",
       "      <td>...</td>\n",
       "      <td>NaN</td>\n",
       "      <td>NaN</td>\n",
       "      <td>NaN</td>\n",
       "      <td>NaN</td>\n",
       "      <td>0</td>\n",
       "      <td>41796</td>\n",
       "      <td>4</td>\n",
       "      <td>7</td>\n",
       "      <td>2017</td>\n",
       "      <td>Первый</td>\n",
       "    </tr>\n",
       "  </tbody>\n",
       "</table>\n",
       "<p>23699 rows × 27 columns</p>\n",
       "</div>"
      ],
      "text/plain": [
       "       total_images  last_price  total_area first_day_exposition  rooms  \\\n",
       "0                20    13000000      108.00           2019-03-07      3   \n",
       "1                 7     3350000       40.40           2018-12-04      1   \n",
       "2                10     5196000       56.00           2015-08-20      2   \n",
       "3                 0    64900000      159.00           2015-07-24      3   \n",
       "4                 2    10000000      100.00           2018-06-19      2   \n",
       "...             ...         ...         ...                  ...    ...   \n",
       "23694             9     9700000      133.81           2017-03-21      3   \n",
       "23695            14     3100000       59.00           2018-01-15      3   \n",
       "23696            18     2500000       56.70           2018-02-11      2   \n",
       "23697            13    11475000       76.75           2017-03-28      2   \n",
       "23698             4     1350000       32.30           2017-07-21      1   \n",
       "\n",
       "       ceiling_height  floors_total  living_area  floor is_apartment  ...  \\\n",
       "0                2.70            16         51.0      8          NaN  ...   \n",
       "1                 NaN            11         18.6      1          NaN  ...   \n",
       "2                 NaN             5         34.3      4          NaN  ...   \n",
       "3                 NaN            14         45.0      9          NaN  ...   \n",
       "4                3.03            14         32.0     13          NaN  ...   \n",
       "...               ...           ...          ...    ...          ...  ...   \n",
       "23694            3.70             5         73.3      3          NaN  ...   \n",
       "23695             NaN             5         38.0      4          NaN  ...   \n",
       "23696             NaN             3         29.7      1          NaN  ...   \n",
       "23697            3.00            17         30.5     12          NaN  ...   \n",
       "23698            2.50             5         12.3      1          NaN  ...   \n",
       "\n",
       "       parks_around3000  parks_nearest  ponds_around3000  ponds_nearest  \\\n",
       "0                   1.0          482.0               2.0          755.0   \n",
       "1                   0.0            NaN               0.0            NaN   \n",
       "2                   1.0           90.0               2.0          574.0   \n",
       "3                   2.0           84.0               3.0          234.0   \n",
       "4                   2.0          112.0               1.0           48.0   \n",
       "...                 ...            ...               ...            ...   \n",
       "23694               1.0          796.0               3.0          381.0   \n",
       "23695               NaN            NaN               NaN            NaN   \n",
       "23696               NaN            NaN               NaN            NaN   \n",
       "23697               2.0          173.0               3.0          196.0   \n",
       "23698               NaN            NaN               NaN            NaN   \n",
       "\n",
       "      days_exposition  price_m2  weekday  month  year  floor_2  \n",
       "0                   0    120370        3      3  2019   Другой  \n",
       "1                  81     82921        1     12  2018   Первый  \n",
       "2                 558     92786        3      8  2015   Другой  \n",
       "3                 424    408176        4      7  2015   Другой  \n",
       "4                 121    100000        1      6  2018   Другой  \n",
       "...               ...       ...      ...    ...   ...      ...  \n",
       "23694               0     72491        1      3  2017   Другой  \n",
       "23695              45     52542        0      1  2018   Другой  \n",
       "23696               0     44092        6      2  2018   Первый  \n",
       "23697             602    149511        1      3  2017   Другой  \n",
       "23698               0     41796        4      7  2017   Первый  \n",
       "\n",
       "[23699 rows x 27 columns]"
      ]
     },
     "execution_count": 18,
     "metadata": {},
     "output_type": "execute_result"
    }
   ],
   "source": [
    "# Используем функцию строки для категоризации этажа\n",
    "def floor_1(row):\n",
    "    floor = row['floor']\n",
    "    floors_total =row['floors_total']\n",
    "    \n",
    "    if floor == floors_total:\n",
    "        return 'Последний'\n",
    "    elif floor ==1:\n",
    "         return  'Первый'\n",
    "    else:\n",
    "         return 'Другой'\n",
    "\n",
    "df['floor_2'] = df.apply(floor_1, axis=1)\n",
    "df.head()\n",
    "\n",
    "\n",
    "        "
   ]
  },
  {
   "cell_type": "code",
   "execution_count": 19,
   "id": "ea6d045c",
   "metadata": {},
   "outputs": [],
   "source": [
    "# Находим отношение жилой площади и кухни к общей и округляем\n",
    "df['living_ratio'] = round(df.living_area / df.total_area,2)\n",
    "df['kitchen_ratio'] = round(df.kitchen_area/ df.living_area,2)\n"
   ]
  },
  {
   "cell_type": "markdown",
   "id": "04cbb0bc",
   "metadata": {},
   "source": [
    "### Шаг 4. Исследовательский анализ данных"
   ]
  },
  {
   "cell_type": "code",
   "execution_count": 45,
   "id": "e99ea1a0",
   "metadata": {},
   "outputs": [
    {
     "data": {
      "text/plain": [
       "Text(0.5, 0, 'Area')"
      ]
     },
     "execution_count": 45,
     "metadata": {},
     "output_type": "execute_result"
    },
    {
     "data": {
      "image/png": "[encoded data removed]",
      "text/plain": [
       "<Figure size 720x720 with 1 Axes>"
      ]
     },
     "metadata": {
      "needs_background": "light"
     },
     "output_type": "display_data"
    }
   ],
   "source": [
    "# Исследуем общую площадь\n",
    "import matplotlib.pyplot as plt \n",
    "df.plot(y = 'total_area', kind = 'hist', bins = 100, grid=True, figsize = (10,10), range = (0,300), title = 'Total area')\n",
    "plt.ylabel('Count')\n",
    "plt.xlabel('Area')\n"
   ]
  },
  {
   "cell_type": "code",
   "execution_count": 51,
   "id": "8276cb9e",
   "metadata": {},
   "outputs": [
    {
     "data": {
      "text/plain": [
       "count    2.369900e+04\n",
       "mean     6.541549e+06\n",
       "std      1.088701e+07\n",
       "min      1.219000e+04\n",
       "25%      3.400000e+06\n",
       "50%      4.650000e+06\n",
       "75%      6.800000e+06\n",
       "max      7.630000e+08\n",
       "Name: last_price, dtype: float64"
      ]
     },
     "execution_count": 51,
     "metadata": {},
     "output_type": "execute_result"
    },
    {
     "data": {
      "image/png": "[encoded data removed]",
      "text/plain": [
       "<Figure size 720x720 with 1 Axes>"
      ]
     },
     "metadata": {
      "needs_background": "light"
     },
     "output_type": "display_data"
    }
   ],
   "source": [
    "#Исследуем цену\n",
    "df.plot(y = 'last_price', kind = 'hist', bins = 100, grid=True, range = (0,30000000), figsize = (10,10))\n",
    "plt.ylabel('Count')\n",
    "plt.xlabel('Price')\n",
    "df['last_price'].describe()\n"
   ]
  },
  {
   "cell_type": "code",
   "execution_count": 54,
   "id": "997228b4",
   "metadata": {},
   "outputs": [
    {
     "data": {
      "text/plain": [
       "count    23699.000000\n",
       "mean         2.070636\n",
       "std          1.078405\n",
       "min          0.000000\n",
       "25%          1.000000\n",
       "50%          2.000000\n",
       "75%          3.000000\n",
       "max         19.000000\n",
       "Name: rooms, dtype: float64"
      ]
     },
     "execution_count": 54,
     "metadata": {},
     "output_type": "execute_result"
    },
    {
     "data": {
      "image/png": "[encoded data removed]",
      "text/plain": [
       "<Figure size 720x720 with 1 Axes>"
      ]
     },
     "metadata": {
      "needs_background": "light"
     },
     "output_type": "display_data"
    }
   ],
   "source": [
    "#Исследуем количество комнат\n",
    "df.plot(y = 'rooms', kind = 'hist', bins = 30, grid=True, figsize = (10,10), range = (0,10))\n",
    "plt.ylabel('Count')\n",
    "plt.xlabel('Rooms')\n",
    "df['rooms'].describe()"
   ]
  },
  {
   "cell_type": "code",
   "execution_count": 58,
   "id": "1658f2a3",
   "metadata": {},
   "outputs": [
    {
     "data": {
      "text/plain": [
       "count    14504.000000\n",
       "mean         2.771499\n",
       "std          1.261056\n",
       "min          1.000000\n",
       "25%          2.520000\n",
       "50%          2.650000\n",
       "75%          2.800000\n",
       "max        100.000000\n",
       "Name: ceiling_height, dtype: float64"
      ]
     },
     "execution_count": 58,
     "metadata": {},
     "output_type": "execute_result"
    },
    {
     "data": {
      "image/png": "[encoded data removed]",
      "text/plain": [
       "<Figure size 720x720 with 1 Axes>"
      ]
     },
     "metadata": {
      "needs_background": "light"
     },
     "output_type": "display_data"
    }
   ],
   "source": [
    "#Исследуем высоту потолков\n",
    "df.plot(y = 'ceiling_height', kind = 'hist', bins = 30, range = (2,4.5), grid=True, figsize = (10,10))\n",
    "plt.ylabel('Count')\n",
    "plt.xlabel('ceiling_height')\n",
    "df['ceiling_height'].describe()"
   ]
  },
  {
   "cell_type": "markdown",
   "id": "123349b4",
   "metadata": {},
   "source": [
    "**Вывод:** \n",
    " 1) Общая площадь варируется от 12 метров до 900 квадратов, наиболее часто встречаются квартиры со средней площадью около 60 метров квадратных и медианой 52.  \n",
    " 2) Цены на недвижимость имеют среднее значение в 6,5 млн руб., медиана 4,6 млн руб.  \n",
    " 3) Наиболеее представлены на рынке однокомнатные квартиры, но число комнат в некоторых квартирах достигает 19  \n",
    " 4) Высота потолков в среднем достигает 2,65м но как мы уже заметили присутствуют неадекватные значения в виде 100 метровых потолков, также как и 0 комнат или цена квартиры в 12 тыс рублей)   \n",
    " По этим пунктам очевидно, что наиболее чаще на рынке встречаются однокомнатные квартиры в районе 5 млн руб с площадью около 55 кв метров"
   ]
  },
  {
   "cell_type": "markdown",
   "id": "f852e824",
   "metadata": {},
   "source": [
    "Постарался немного подработать графики, надеюсь так стало лучше😀"
   ]
  },
  {
   "cell_type": "code",
   "execution_count": 75,
   "id": "614d0500",
   "metadata": {},
   "outputs": [
    {
     "data": {
      "text/plain": [
       "count    23699.000000\n",
       "mean       156.608844\n",
       "std        213.546873\n",
       "min          0.000000\n",
       "25%         22.000000\n",
       "50%         74.000000\n",
       "75%        199.000000\n",
       "max       1580.000000\n",
       "Name: days_exposition, dtype: float64"
      ]
     },
     "execution_count": 75,
     "metadata": {},
     "output_type": "execute_result"
    },
    {
     "data": {
      "image/png": "[encoded data removed]",
      "text/plain": [
       "<Figure size 432x288 with 1 Axes>"
      ]
     },
     "metadata": {
      "needs_background": "light"
     },
     "output_type": "display_data"
    },
    {
     "data": {
      "image/png": "[encoded data removed]",
      "text/plain": [
       "<Figure size 720x720 with 1 Axes>"
      ]
     },
     "metadata": {
      "needs_background": "light"
     },
     "output_type": "display_data"
    },
    {
     "data": {
      "image/png": "[encoded data removed]",
      "text/plain": [
       "<Figure size 720x720 with 1 Axes>"
      ]
     },
     "metadata": {
      "needs_background": "light"
     },
     "output_type": "display_data"
    }
   ],
   "source": [
    "#диаграмма размаха\n",
    "import matplotlib.pyplot as plt\n",
    "plt.boxplot(df[df['days_exposition']!=0]['days_exposition'])\n",
    "plt.ylim(1,1580)\n",
    "\n",
    "df.plot(y = 'days_exposition', kind = 'hist', bins = 30, grid = True, range = (1,1400), figsize = (10,10))\n",
    "plt.ylabel('Count')\n",
    "plt.xlabel('Days_exposition')\n",
    "df.plot(y = 'days_exposition', kind = 'hist', bins = 100, grid = True, range = (1,100),figsize = (10,10))\n",
    "plt.ylabel('Count')\n",
    "plt.xlabel('Days_exposition')\n",
    "\n",
    "#среднее значение, медиана и межквартильный размах\n",
    "df[df['days_exposition']!=0]['days_exposition'].describe()\n",
    "#data[data['days_exposition']!=0]['days_exposition'].value_counts()\n",
    "df['days_exposition'].value_counts()\n",
    "df['days_exposition'].describe()"
   ]
  },
  {
   "cell_type": "markdown",
   "id": "93c7eeea",
   "metadata": {},
   "source": [
    "**Вывод**\n",
    "\n",
    "По гистограмме мы видим распределение Пуассона:среднее - 180, медиана - 95 дней.  \n",
    "По второй гистограмме мы видим выбивающиеся значения, с помощьюю метода value_counts понятно что это 7,30, 45, 60, 90 дней - наиболее популярное количество дней для снятия объявления\n"
   ]
  },
  {
   "cell_type": "code",
   "execution_count": 80,
   "id": "a6df130c",
   "metadata": {},
   "outputs": [
    {
     "data": {
      "text/plain": [
       "count    18454.000000\n",
       "mean       195.803349\n",
       "std        226.760010\n",
       "min          1.000000\n",
       "25%         44.000000\n",
       "50%        114.000000\n",
       "75%        259.000000\n",
       "max       1580.000000\n",
       "Name: days_exposition, dtype: float64"
      ]
     },
     "execution_count": 80,
     "metadata": {},
     "output_type": "execute_result"
    },
    {
     "data": {
      "image/png": "[encoded data removed]",
      "text/plain": [
       "<Figure size 432x288 with 1 Axes>"
      ]
     },
     "metadata": {
      "needs_background": "light"
     },
     "output_type": "display_data"
    },
    {
     "data": {
      "image/png": "[encoded data removed]",
      "text/plain": [
       "<Figure size 720x720 with 1 Axes>"
      ]
     },
     "metadata": {
      "needs_background": "light"
     },
     "output_type": "display_data"
    },
    {
     "data": {
      "image/png": "[encoded data removed]",
      "text/plain": [
       "<Figure size 720x720 with 1 Axes>"
      ]
     },
     "metadata": {
      "needs_background": "light"
     },
     "output_type": "display_data"
    }
   ],
   "source": [
    "good_data = df.query('days_exposition != 7 and days_exposition != 30 and days_exposition != 45 and days_exposition != 60 and days_exposition != 90 and days_exposition != 0')\n",
    "#Построим диаграмму размаха \n",
    "plt.boxplot(good_data['days_exposition'])\n",
    "plt.ylim(1,1000)\n",
    "#гистограммы\n",
    "good_data.plot(y = 'days_exposition', kind = 'hist', bins = 30, grid = True, range = (1,1400), figsize = (10,10))\n",
    "plt.ylabel('Count')\n",
    "plt.xlabel('Days_exposition')\n",
    "good_data.plot(y = 'days_exposition', kind = 'hist', bins = 100, grid = True, range = (1,200), figsize = (10,10))\n",
    "plt.ylabel('Count')\n",
    "plt.xlabel('Days_exposition')\n",
    "good_data['days_exposition'].describe()\n"
   ]
  },
  {
   "cell_type": "markdown",
   "id": "5f379049",
   "metadata": {},
   "source": [
    "Построили диаграмму размаха, а также гистограммы, по которым можно сделать следующие выводы:\n",
    "\n",
    "1) В очищенных данных медиана и среднее увеличились, 114 и 195 соответственно против 74 и 156 ранее  \n",
    "2) Межквартальный размах увеличился с 500 до 600 дней"
   ]
  },
  {
   "cell_type": "code",
   "execution_count": 81,
   "id": "7609e2bc",
   "metadata": {},
   "outputs": [
    {
     "name": "stdout",
     "output_type": "stream",
     "text": [
      "0.36334284996489546\n"
     ]
    }
   ],
   "source": [
    "print(df['last_price'].corr(df['rooms']))"
   ]
  },
  {
   "cell_type": "markdown",
   "id": "53278eeb",
   "metadata": {},
   "source": [
    "Коэф Пирсона 0.3 - зависимость слабая, чем больше комнат тем больше стоимость"
   ]
  },
  {
   "cell_type": "code",
   "execution_count": 91,
   "id": "ed87742e",
   "metadata": {},
   "outputs": [
    {
     "data": {
      "text/html": [
       "<div>\n",
       "<style scoped>\n",
       "    .dataframe tbody tr th:only-of-type {\n",
       "        vertical-align: middle;\n",
       "    }\n",
       "\n",
       "    .dataframe tbody tr th {\n",
       "        vertical-align: top;\n",
       "    }\n",
       "\n",
       "    .dataframe thead th {\n",
       "        text-align: right;\n",
       "    }\n",
       "</style>\n",
       "<table border=\"1\" class=\"dataframe\">\n",
       "  <thead>\n",
       "    <tr style=\"text-align: right;\">\n",
       "      <th></th>\n",
       "      <th>mean</th>\n",
       "      <th>count</th>\n",
       "      <th>median</th>\n",
       "    </tr>\n",
       "    <tr>\n",
       "      <th>floor_2</th>\n",
       "      <th></th>\n",
       "      <th></th>\n",
       "      <th></th>\n",
       "    </tr>\n",
       "  </thead>\n",
       "  <tbody>\n",
       "    <tr>\n",
       "      <td>Другой</td>\n",
       "      <td>103486.737590</td>\n",
       "      <td>17446</td>\n",
       "      <td>98295.5</td>\n",
       "    </tr>\n",
       "    <tr>\n",
       "      <td>Первый</td>\n",
       "      <td>82296.087137</td>\n",
       "      <td>2892</td>\n",
       "      <td>81302.5</td>\n",
       "    </tr>\n",
       "    <tr>\n",
       "      <td>Последний</td>\n",
       "      <td>93056.797382</td>\n",
       "      <td>3361</td>\n",
       "      <td>87552.0</td>\n",
       "    </tr>\n",
       "  </tbody>\n",
       "</table>\n",
       "</div>"
      ],
      "text/plain": [
       "                    mean  count   median\n",
       "floor_2                                 \n",
       "Другой     103486.737590  17446  98295.5\n",
       "Первый      82296.087137   2892  81302.5\n",
       "Последний   93056.797382   3361  87552.0"
      ]
     },
     "execution_count": 91,
     "metadata": {},
     "output_type": "execute_result"
    },
    {
     "data": {
      "image/png": "[encoded data removed]",
      "text/plain": [
       "<Figure size 576x576 with 1 Axes>"
      ]
     },
     "metadata": {
      "needs_background": "light"
     },
     "output_type": "display_data"
    }
   ],
   "source": [
    "pivot_table_2 = df.query('floor_2 != \"другой\"').pivot_table(index = 'floor_2', values = 'price_m2', aggfunc = ['mean', 'count', 'median'])\n",
    "pivot_table_2.columns = ['mean', 'count', 'median']\n",
    "pivot_table_2.plot(y = 'median',kind = 'bar', figsize = (8,8))\n",
    "plt.xlabel('Тип этажа')\n",
    "plt.ylabel('Цена')\n",
    "pivot_table_2"
   ]
  },
  {
   "cell_type": "markdown",
   "id": "4c7b5a3d",
   "metadata": {},
   "source": [
    "По графику видно, что квартиры на первом этаже существенно дешевле чем на последнем и тем более других этажах"
   ]
  },
  {
   "cell_type": "code",
   "execution_count": 117,
   "id": "91de5ced",
   "metadata": {},
   "outputs": [
    {
     "data": {
      "text/plain": [
       "-0.20674734874298376"
      ]
     },
     "execution_count": 117,
     "metadata": {},
     "output_type": "execute_result"
    }
   ],
   "source": [
    "df['cityCenters_nearest'].corr(df['last_price'])"
   ]
  },
  {
   "cell_type": "markdown",
   "id": "b8db56fd",
   "metadata": {},
   "source": [
    "Чем ближе к центру - тем выше цена, что впрочем, логично"
   ]
  },
  {
   "cell_type": "code",
   "execution_count": 119,
   "id": "1558b74e",
   "metadata": {},
   "outputs": [
    {
     "data": {
      "text/html": [
       "<div>\n",
       "<style scoped>\n",
       "    .dataframe tbody tr th:only-of-type {\n",
       "        vertical-align: middle;\n",
       "    }\n",
       "\n",
       "    .dataframe tbody tr th {\n",
       "        vertical-align: top;\n",
       "    }\n",
       "\n",
       "    .dataframe thead th {\n",
       "        text-align: right;\n",
       "    }\n",
       "</style>\n",
       "<table border=\"1\" class=\"dataframe\">\n",
       "  <thead>\n",
       "    <tr style=\"text-align: right;\">\n",
       "      <th></th>\n",
       "      <th>mean</th>\n",
       "      <th>count</th>\n",
       "      <th>median</th>\n",
       "    </tr>\n",
       "    <tr>\n",
       "      <th>weekday</th>\n",
       "      <th></th>\n",
       "      <th></th>\n",
       "      <th></th>\n",
       "    </tr>\n",
       "  </thead>\n",
       "  <tbody>\n",
       "    <tr>\n",
       "      <td>1</td>\n",
       "      <td>6.394233e+06</td>\n",
       "      <td>4183</td>\n",
       "      <td>4730000</td>\n",
       "    </tr>\n",
       "    <tr>\n",
       "      <td>2</td>\n",
       "      <td>6.627970e+06</td>\n",
       "      <td>3974</td>\n",
       "      <td>4700000</td>\n",
       "    </tr>\n",
       "    <tr>\n",
       "      <td>0</td>\n",
       "      <td>6.511613e+06</td>\n",
       "      <td>3612</td>\n",
       "      <td>4650000</td>\n",
       "    </tr>\n",
       "    <tr>\n",
       "      <td>3</td>\n",
       "      <td>6.708663e+06</td>\n",
       "      <td>4295</td>\n",
       "      <td>4650000</td>\n",
       "    </tr>\n",
       "    <tr>\n",
       "      <td>4</td>\n",
       "      <td>6.372131e+06</td>\n",
       "      <td>4000</td>\n",
       "      <td>4585000</td>\n",
       "    </tr>\n",
       "    <tr>\n",
       "      <td>5</td>\n",
       "      <td>6.976804e+06</td>\n",
       "      <td>1936</td>\n",
       "      <td>4555000</td>\n",
       "    </tr>\n",
       "    <tr>\n",
       "      <td>6</td>\n",
       "      <td>6.246180e+06</td>\n",
       "      <td>1699</td>\n",
       "      <td>4550000</td>\n",
       "    </tr>\n",
       "  </tbody>\n",
       "</table>\n",
       "</div>"
      ],
      "text/plain": [
       "                 mean  count   median\n",
       "weekday                              \n",
       "1        6.394233e+06   4183  4730000\n",
       "2        6.627970e+06   3974  4700000\n",
       "0        6.511613e+06   3612  4650000\n",
       "3        6.708663e+06   4295  4650000\n",
       "4        6.372131e+06   4000  4585000\n",
       "5        6.976804e+06   1936  4555000\n",
       "6        6.246180e+06   1699  4550000"
      ]
     },
     "execution_count": 119,
     "metadata": {},
     "output_type": "execute_result"
    },
    {
     "data": {
      "image/png": "[encoded data removed]",
      "text/plain": [
       "<Figure size 432x288 with 1 Axes>"
      ]
     },
     "metadata": {
      "needs_background": "light"
     },
     "output_type": "display_data"
    }
   ],
   "source": [
    "pivot_table_weekday = df.pivot_table(index = 'weekday', values = 'last_price', aggfunc = ['mean', 'count', 'median'])\n",
    "pivot_table_weekday.columns = ['mean', 'count', 'median']\n",
    "pivot_table_weekday.plot(y = 'median')\n",
    "plt.ylabel('Стоимость квартиры')\n",
    "pivot_table_weekday.sort_values('median', ascending = False)"
   ]
  },
  {
   "cell_type": "markdown",
   "id": "a39c0798",
   "metadata": {},
   "source": [
    "Видим, что наиболее дорогая стоимость жилья бывает по вторникам а в субботу цены минимальные.  \n",
    "Это возможно потому что выходные и меньше занимаются продажами квартир."
   ]
  },
  {
   "cell_type": "markdown",
   "id": "b137ceb9",
   "metadata": {},
   "source": [
    "Да, невнимательно сделал 😞"
   ]
  },
  {
   "cell_type": "code",
   "execution_count": 121,
   "id": "3240569a",
   "metadata": {},
   "outputs": [
    {
     "data": {
      "text/html": [
       "<div>\n",
       "<style scoped>\n",
       "    .dataframe tbody tr th:only-of-type {\n",
       "        vertical-align: middle;\n",
       "    }\n",
       "\n",
       "    .dataframe tbody tr th {\n",
       "        vertical-align: top;\n",
       "    }\n",
       "\n",
       "    .dataframe thead th {\n",
       "        text-align: right;\n",
       "    }\n",
       "</style>\n",
       "<table border=\"1\" class=\"dataframe\">\n",
       "  <thead>\n",
       "    <tr style=\"text-align: right;\">\n",
       "      <th></th>\n",
       "      <th>mean</th>\n",
       "      <th>count</th>\n",
       "      <th>median</th>\n",
       "    </tr>\n",
       "    <tr>\n",
       "      <th>month</th>\n",
       "      <th></th>\n",
       "      <th></th>\n",
       "      <th></th>\n",
       "    </tr>\n",
       "  </thead>\n",
       "  <tbody>\n",
       "    <tr>\n",
       "      <td>4</td>\n",
       "      <td>6.737198e+06</td>\n",
       "      <td>2379</td>\n",
       "      <td>4800000</td>\n",
       "    </tr>\n",
       "    <tr>\n",
       "      <td>9</td>\n",
       "      <td>6.825470e+06</td>\n",
       "      <td>1981</td>\n",
       "      <td>4700000</td>\n",
       "    </tr>\n",
       "    <tr>\n",
       "      <td>11</td>\n",
       "      <td>6.461363e+06</td>\n",
       "      <td>2371</td>\n",
       "      <td>4700000</td>\n",
       "    </tr>\n",
       "    <tr>\n",
       "      <td>12</td>\n",
       "      <td>7.011731e+06</td>\n",
       "      <td>1641</td>\n",
       "      <td>4700000</td>\n",
       "    </tr>\n",
       "    <tr>\n",
       "      <td>2</td>\n",
       "      <td>6.468500e+06</td>\n",
       "      <td>2640</td>\n",
       "      <td>4650000</td>\n",
       "    </tr>\n",
       "    <tr>\n",
       "      <td>3</td>\n",
       "      <td>6.359275e+06</td>\n",
       "      <td>2587</td>\n",
       "      <td>4650000</td>\n",
       "    </tr>\n",
       "    <tr>\n",
       "      <td>7</td>\n",
       "      <td>6.649337e+06</td>\n",
       "      <td>1695</td>\n",
       "      <td>4650000</td>\n",
       "    </tr>\n",
       "    <tr>\n",
       "      <td>1</td>\n",
       "      <td>6.668233e+06</td>\n",
       "      <td>1500</td>\n",
       "      <td>4600000</td>\n",
       "    </tr>\n",
       "    <tr>\n",
       "      <td>8</td>\n",
       "      <td>6.350233e+06</td>\n",
       "      <td>1744</td>\n",
       "      <td>4570000</td>\n",
       "    </tr>\n",
       "    <tr>\n",
       "      <td>10</td>\n",
       "      <td>6.235013e+06</td>\n",
       "      <td>2127</td>\n",
       "      <td>4570000</td>\n",
       "    </tr>\n",
       "    <tr>\n",
       "      <td>5</td>\n",
       "      <td>6.600435e+06</td>\n",
       "      <td>1274</td>\n",
       "      <td>4515000</td>\n",
       "    </tr>\n",
       "    <tr>\n",
       "      <td>6</td>\n",
       "      <td>6.310269e+06</td>\n",
       "      <td>1760</td>\n",
       "      <td>4400000</td>\n",
       "    </tr>\n",
       "  </tbody>\n",
       "</table>\n",
       "</div>"
      ],
      "text/plain": [
       "               mean  count   median\n",
       "month                              \n",
       "4      6.737198e+06   2379  4800000\n",
       "9      6.825470e+06   1981  4700000\n",
       "11     6.461363e+06   2371  4700000\n",
       "12     7.011731e+06   1641  4700000\n",
       "2      6.468500e+06   2640  4650000\n",
       "3      6.359275e+06   2587  4650000\n",
       "7      6.649337e+06   1695  4650000\n",
       "1      6.668233e+06   1500  4600000\n",
       "8      6.350233e+06   1744  4570000\n",
       "10     6.235013e+06   2127  4570000\n",
       "5      6.600435e+06   1274  4515000\n",
       "6      6.310269e+06   1760  4400000"
      ]
     },
     "execution_count": 121,
     "metadata": {},
     "output_type": "execute_result"
    },
    {
     "data": {
      "image/png": "[encoded data removed]",
      "text/plain": [
       "<Figure size 432x288 with 1 Axes>"
      ]
     },
     "metadata": {
      "needs_background": "light"
     },
     "output_type": "display_data"
    }
   ],
   "source": [
    "pivot_table_month = df.pivot_table(index = 'month', values = 'last_price', aggfunc = ['mean', 'count', 'median'])\n",
    "pivot_table_month.columns = ['mean', 'count', 'median']\n",
    "pivot_table_month.plot(y = 'median')\n",
    "plt.ylabel('Стоимость квартиры')\n",
    "pivot_table_month.sort_values('median', ascending = False)"
   ]
  },
  {
   "cell_type": "markdown",
   "id": "3a6c105a",
   "metadata": {},
   "source": [
    "**Вывод**  \n",
    "\n",
    "Cамая высокая стоимость квартиры - июль и апрель, самая низкая - май и июнь"
   ]
  },
  {
   "cell_type": "code",
   "execution_count": 122,
   "id": "617ff3ab",
   "metadata": {},
   "outputs": [
    {
     "data": {
      "text/html": [
       "<div>\n",
       "<style scoped>\n",
       "    .dataframe tbody tr th:only-of-type {\n",
       "        vertical-align: middle;\n",
       "    }\n",
       "\n",
       "    .dataframe tbody tr th {\n",
       "        vertical-align: top;\n",
       "    }\n",
       "\n",
       "    .dataframe thead th {\n",
       "        text-align: right;\n",
       "    }\n",
       "</style>\n",
       "<table border=\"1\" class=\"dataframe\">\n",
       "  <thead>\n",
       "    <tr style=\"text-align: right;\">\n",
       "      <th></th>\n",
       "      <th>mean</th>\n",
       "      <th>count</th>\n",
       "      <th>median</th>\n",
       "    </tr>\n",
       "    <tr>\n",
       "      <th>year</th>\n",
       "      <th></th>\n",
       "      <th></th>\n",
       "      <th></th>\n",
       "    </tr>\n",
       "  </thead>\n",
       "  <tbody>\n",
       "    <tr>\n",
       "      <td>2014</td>\n",
       "      <td>1.208714e+07</td>\n",
       "      <td>137</td>\n",
       "      <td>7700000</td>\n",
       "    </tr>\n",
       "    <tr>\n",
       "      <td>2015</td>\n",
       "      <td>8.572833e+06</td>\n",
       "      <td>1191</td>\n",
       "      <td>5350000</td>\n",
       "    </tr>\n",
       "    <tr>\n",
       "      <td>2019</td>\n",
       "      <td>6.782388e+06</td>\n",
       "      <td>2879</td>\n",
       "      <td>5050000</td>\n",
       "    </tr>\n",
       "    <tr>\n",
       "      <td>2016</td>\n",
       "      <td>6.827912e+06</td>\n",
       "      <td>2783</td>\n",
       "      <td>4550000</td>\n",
       "    </tr>\n",
       "    <tr>\n",
       "      <td>2018</td>\n",
       "      <td>5.950966e+06</td>\n",
       "      <td>8519</td>\n",
       "      <td>4550000</td>\n",
       "    </tr>\n",
       "    <tr>\n",
       "      <td>2017</td>\n",
       "      <td>6.585729e+06</td>\n",
       "      <td>8190</td>\n",
       "      <td>4500000</td>\n",
       "    </tr>\n",
       "  </tbody>\n",
       "</table>\n",
       "</div>"
      ],
      "text/plain": [
       "              mean  count   median\n",
       "year                              \n",
       "2014  1.208714e+07    137  7700000\n",
       "2015  8.572833e+06   1191  5350000\n",
       "2019  6.782388e+06   2879  5050000\n",
       "2016  6.827912e+06   2783  4550000\n",
       "2018  5.950966e+06   8519  4550000\n",
       "2017  6.585729e+06   8190  4500000"
      ]
     },
     "execution_count": 122,
     "metadata": {},
     "output_type": "execute_result"
    },
    {
     "data": {
      "image/png": "[encoded data removed]",
      "text/plain": [
       "<Figure size 432x288 with 1 Axes>"
      ]
     },
     "metadata": {
      "needs_background": "light"
     },
     "output_type": "display_data"
    }
   ],
   "source": [
    "pivot_table_year = df.pivot_table(index = 'year', values = 'last_price', aggfunc = ['mean', 'count', 'median'])\n",
    "pivot_table_year.columns = ['mean', 'count', 'median']\n",
    "pivot_table_year.plot(y = 'median')\n",
    "plt.ylabel('Цена квадратного метра')\n",
    "pivot_table_year.sort_values('median', ascending = False)"
   ]
  },
  {
   "cell_type": "markdown",
   "id": "4c976b30",
   "metadata": {},
   "source": [
    "**Вывод**  \n",
    "\n",
    "Очевидно что с 2017 года идет рост цены квартиры (медианный) на рынке недвижимости в среднем,  \n",
    "интересно было бы посмотреть статистику за 20-21 год, когда цены стали еще выше)"
   ]
  },
  {
   "cell_type": "code",
   "execution_count": 101,
   "id": "ea06a5e9",
   "metadata": {},
   "outputs": [
    {
     "data": {
      "text/html": [
       "<div>\n",
       "<style scoped>\n",
       "    .dataframe tbody tr th:only-of-type {\n",
       "        vertical-align: middle;\n",
       "    }\n",
       "\n",
       "    .dataframe tbody tr th {\n",
       "        vertical-align: top;\n",
       "    }\n",
       "\n",
       "    .dataframe thead th {\n",
       "        text-align: right;\n",
       "    }\n",
       "</style>\n",
       "<table border=\"1\" class=\"dataframe\">\n",
       "  <thead>\n",
       "    <tr style=\"text-align: right;\">\n",
       "      <th></th>\n",
       "      <th>last_price</th>\n",
       "      <th>cityCenters_nearest</th>\n",
       "    </tr>\n",
       "  </thead>\n",
       "  <tbody>\n",
       "    <tr>\n",
       "      <td>0</td>\n",
       "      <td>13000000</td>\n",
       "      <td>16028.0</td>\n",
       "    </tr>\n",
       "    <tr>\n",
       "      <td>1</td>\n",
       "      <td>3350000</td>\n",
       "      <td>18603.0</td>\n",
       "    </tr>\n",
       "    <tr>\n",
       "      <td>2</td>\n",
       "      <td>5196000</td>\n",
       "      <td>13933.0</td>\n",
       "    </tr>\n",
       "    <tr>\n",
       "      <td>3</td>\n",
       "      <td>64900000</td>\n",
       "      <td>6800.0</td>\n",
       "    </tr>\n",
       "    <tr>\n",
       "      <td>4</td>\n",
       "      <td>10000000</td>\n",
       "      <td>8098.0</td>\n",
       "    </tr>\n",
       "    <tr>\n",
       "      <td>...</td>\n",
       "      <td>...</td>\n",
       "      <td>...</td>\n",
       "    </tr>\n",
       "    <tr>\n",
       "      <td>23694</td>\n",
       "      <td>9700000</td>\n",
       "      <td>4232.0</td>\n",
       "    </tr>\n",
       "    <tr>\n",
       "      <td>23695</td>\n",
       "      <td>3100000</td>\n",
       "      <td>NaN</td>\n",
       "    </tr>\n",
       "    <tr>\n",
       "      <td>23696</td>\n",
       "      <td>2500000</td>\n",
       "      <td>NaN</td>\n",
       "    </tr>\n",
       "    <tr>\n",
       "      <td>23697</td>\n",
       "      <td>11475000</td>\n",
       "      <td>10364.0</td>\n",
       "    </tr>\n",
       "    <tr>\n",
       "      <td>23698</td>\n",
       "      <td>1350000</td>\n",
       "      <td>NaN</td>\n",
       "    </tr>\n",
       "  </tbody>\n",
       "</table>\n",
       "<p>23699 rows × 2 columns</p>\n",
       "</div>"
      ],
      "text/plain": [
       "       last_price  cityCenters_nearest\n",
       "0        13000000              16028.0\n",
       "1         3350000              18603.0\n",
       "2         5196000              13933.0\n",
       "3        64900000               6800.0\n",
       "4        10000000               8098.0\n",
       "...           ...                  ...\n",
       "23694     9700000               4232.0\n",
       "23695     3100000                  NaN\n",
       "23696     2500000                  NaN\n",
       "23697    11475000              10364.0\n",
       "23698     1350000                  NaN\n",
       "\n",
       "[23699 rows x 2 columns]"
      ]
     },
     "execution_count": 101,
     "metadata": {},
     "output_type": "execute_result"
    }
   ],
   "source": [
    "df[['last_price','cityCenters_nearest']]"
   ]
  },
  {
   "cell_type": "code",
   "execution_count": 102,
   "id": "47b6ccf7",
   "metadata": {},
   "outputs": [
    {
     "data": {
      "text/html": [
       "<div>\n",
       "<style scoped>\n",
       "    .dataframe tbody tr th:only-of-type {\n",
       "        vertical-align: middle;\n",
       "    }\n",
       "\n",
       "    .dataframe tbody tr th {\n",
       "        vertical-align: top;\n",
       "    }\n",
       "\n",
       "    .dataframe thead tr th {\n",
       "        text-align: left;\n",
       "    }\n",
       "\n",
       "    .dataframe thead tr:last-of-type th {\n",
       "        text-align: right;\n",
       "    }\n",
       "</style>\n",
       "<table border=\"1\" class=\"dataframe\">\n",
       "  <thead>\n",
       "    <tr>\n",
       "      <th></th>\n",
       "      <th>count</th>\n",
       "      <th>mean</th>\n",
       "    </tr>\n",
       "    <tr>\n",
       "      <th></th>\n",
       "      <th>price_m2</th>\n",
       "      <th>price_m2</th>\n",
       "    </tr>\n",
       "    <tr>\n",
       "      <th>locality_name</th>\n",
       "      <th></th>\n",
       "      <th></th>\n",
       "    </tr>\n",
       "  </thead>\n",
       "  <tbody>\n",
       "    <tr>\n",
       "      <td>Санкт-Петербург</td>\n",
       "      <td>15721</td>\n",
       "      <td>114849.005788</td>\n",
       "    </tr>\n",
       "    <tr>\n",
       "      <td>посёлок Мурино</td>\n",
       "      <td>522</td>\n",
       "      <td>85752.181992</td>\n",
       "    </tr>\n",
       "    <tr>\n",
       "      <td>посёлок Шушары</td>\n",
       "      <td>440</td>\n",
       "      <td>78677.379545</td>\n",
       "    </tr>\n",
       "    <tr>\n",
       "      <td>Всеволожск</td>\n",
       "      <td>398</td>\n",
       "      <td>68654.474874</td>\n",
       "    </tr>\n",
       "    <tr>\n",
       "      <td>Пушкин</td>\n",
       "      <td>369</td>\n",
       "      <td>103125.818428</td>\n",
       "    </tr>\n",
       "    <tr>\n",
       "      <td>Колпино</td>\n",
       "      <td>338</td>\n",
       "      <td>75424.571006</td>\n",
       "    </tr>\n",
       "    <tr>\n",
       "      <td>посёлок Парголово</td>\n",
       "      <td>327</td>\n",
       "      <td>90175.886850</td>\n",
       "    </tr>\n",
       "    <tr>\n",
       "      <td>Гатчина</td>\n",
       "      <td>307</td>\n",
       "      <td>68746.110749</td>\n",
       "    </tr>\n",
       "    <tr>\n",
       "      <td>деревня Кудрово</td>\n",
       "      <td>299</td>\n",
       "      <td>92473.588629</td>\n",
       "    </tr>\n",
       "    <tr>\n",
       "      <td>Выборг</td>\n",
       "      <td>237</td>\n",
       "      <td>58141.919831</td>\n",
       "    </tr>\n",
       "  </tbody>\n",
       "</table>\n",
       "</div>"
      ],
      "text/plain": [
       "                     count           mean\n",
       "                  price_m2       price_m2\n",
       "locality_name                            \n",
       "Санкт-Петербург      15721  114849.005788\n",
       "посёлок Мурино         522   85752.181992\n",
       "посёлок Шушары         440   78677.379545\n",
       "Всеволожск             398   68654.474874\n",
       "Пушкин                 369  103125.818428\n",
       "Колпино                338   75424.571006\n",
       "посёлок Парголово      327   90175.886850\n",
       "Гатчина                307   68746.110749\n",
       "деревня Кудрово        299   92473.588629\n",
       "Выборг                 237   58141.919831"
      ]
     },
     "execution_count": 102,
     "metadata": {},
     "output_type": "execute_result"
    }
   ],
   "source": [
    "df.groupby('locality_name')['last_price'].count().sort_values(ascending=False).head(10)\n",
    "\n",
    "df.pivot_table(index ='locality_name', values='price_m2', aggfunc=['count', 'mean']).sort_values([('count', 'price_m2')], ascending = False).head(10)\n"
   ]
  },
  {
   "cell_type": "markdown",
   "id": "35bd0ce0",
   "metadata": {},
   "source": [
    "**Вывод**  \n",
    "Cамая высокая стоимость квадратного метра из 10 населённых пунктов с самым большим количеством объявлений в Санкт-Петербурге, тогда как самая низкая стоимость в Выборге."
   ]
  },
  {
   "cell_type": "code",
   "execution_count": 104,
   "id": "a0beb8b9",
   "metadata": {},
   "outputs": [
    {
     "data": {
      "text/html": [
       "<div>\n",
       "<style scoped>\n",
       "    .dataframe tbody tr th:only-of-type {\n",
       "        vertical-align: middle;\n",
       "    }\n",
       "\n",
       "    .dataframe tbody tr th {\n",
       "        vertical-align: top;\n",
       "    }\n",
       "\n",
       "    .dataframe thead th {\n",
       "        text-align: right;\n",
       "    }\n",
       "</style>\n",
       "<table border=\"1\" class=\"dataframe\">\n",
       "  <thead>\n",
       "    <tr style=\"text-align: right;\">\n",
       "      <th></th>\n",
       "      <th>price_m2</th>\n",
       "    </tr>\n",
       "    <tr>\n",
       "      <th>cityCenters_nearest_km</th>\n",
       "      <th></th>\n",
       "    </tr>\n",
       "  </thead>\n",
       "  <tbody>\n",
       "    <tr>\n",
       "      <td>0</td>\n",
       "      <td>187324.151163</td>\n",
       "    </tr>\n",
       "    <tr>\n",
       "      <td>1</td>\n",
       "      <td>166603.741667</td>\n",
       "    </tr>\n",
       "    <tr>\n",
       "      <td>2</td>\n",
       "      <td>146662.820847</td>\n",
       "    </tr>\n",
       "    <tr>\n",
       "      <td>3</td>\n",
       "      <td>129416.336502</td>\n",
       "    </tr>\n",
       "    <tr>\n",
       "      <td>4</td>\n",
       "      <td>137475.502756</td>\n",
       "    </tr>\n",
       "    <tr>\n",
       "      <td>5</td>\n",
       "      <td>146979.224967</td>\n",
       "    </tr>\n",
       "    <tr>\n",
       "      <td>6</td>\n",
       "      <td>152277.895745</td>\n",
       "    </tr>\n",
       "    <tr>\n",
       "      <td>7</td>\n",
       "      <td>141399.724816</td>\n",
       "    </tr>\n",
       "    <tr>\n",
       "      <td>8</td>\n",
       "      <td>120581.335821</td>\n",
       "    </tr>\n",
       "    <tr>\n",
       "      <td>9</td>\n",
       "      <td>110012.542029</td>\n",
       "    </tr>\n",
       "    <tr>\n",
       "      <td>10</td>\n",
       "      <td>111641.282895</td>\n",
       "    </tr>\n",
       "    <tr>\n",
       "      <td>11</td>\n",
       "      <td>106790.885512</td>\n",
       "    </tr>\n",
       "    <tr>\n",
       "      <td>12</td>\n",
       "      <td>108295.782838</td>\n",
       "    </tr>\n",
       "    <tr>\n",
       "      <td>13</td>\n",
       "      <td>107209.131241</td>\n",
       "    </tr>\n",
       "    <tr>\n",
       "      <td>14</td>\n",
       "      <td>104986.488095</td>\n",
       "    </tr>\n",
       "    <tr>\n",
       "      <td>15</td>\n",
       "      <td>101883.109250</td>\n",
       "    </tr>\n",
       "    <tr>\n",
       "      <td>16</td>\n",
       "      <td>100085.602170</td>\n",
       "    </tr>\n",
       "    <tr>\n",
       "      <td>17</td>\n",
       "      <td>94095.874532</td>\n",
       "    </tr>\n",
       "    <tr>\n",
       "      <td>18</td>\n",
       "      <td>94831.931034</td>\n",
       "    </tr>\n",
       "    <tr>\n",
       "      <td>19</td>\n",
       "      <td>95434.341463</td>\n",
       "    </tr>\n",
       "    <tr>\n",
       "      <td>20</td>\n",
       "      <td>107046.130952</td>\n",
       "    </tr>\n",
       "    <tr>\n",
       "      <td>21</td>\n",
       "      <td>91492.682051</td>\n",
       "    </tr>\n",
       "    <tr>\n",
       "      <td>22</td>\n",
       "      <td>88714.683453</td>\n",
       "    </tr>\n",
       "    <tr>\n",
       "      <td>23</td>\n",
       "      <td>92720.666667</td>\n",
       "    </tr>\n",
       "    <tr>\n",
       "      <td>24</td>\n",
       "      <td>82440.318182</td>\n",
       "    </tr>\n",
       "    <tr>\n",
       "      <td>25</td>\n",
       "      <td>91136.000000</td>\n",
       "    </tr>\n",
       "    <tr>\n",
       "      <td>26</td>\n",
       "      <td>75172.000000</td>\n",
       "    </tr>\n",
       "    <tr>\n",
       "      <td>27</td>\n",
       "      <td>132115.500000</td>\n",
       "    </tr>\n",
       "    <tr>\n",
       "      <td>28</td>\n",
       "      <td>81840.600000</td>\n",
       "    </tr>\n",
       "    <tr>\n",
       "      <td>29</td>\n",
       "      <td>62482.666667</td>\n",
       "    </tr>\n",
       "  </tbody>\n",
       "</table>\n",
       "</div>"
      ],
      "text/plain": [
       "                             price_m2\n",
       "cityCenters_nearest_km               \n",
       "0                       187324.151163\n",
       "1                       166603.741667\n",
       "2                       146662.820847\n",
       "3                       129416.336502\n",
       "4                       137475.502756\n",
       "5                       146979.224967\n",
       "6                       152277.895745\n",
       "7                       141399.724816\n",
       "8                       120581.335821\n",
       "9                       110012.542029\n",
       "10                      111641.282895\n",
       "11                      106790.885512\n",
       "12                      108295.782838\n",
       "13                      107209.131241\n",
       "14                      104986.488095\n",
       "15                      101883.109250\n",
       "16                      100085.602170\n",
       "17                       94095.874532\n",
       "18                       94831.931034\n",
       "19                       95434.341463\n",
       "20                      107046.130952\n",
       "21                       91492.682051\n",
       "22                       88714.683453\n",
       "23                       92720.666667\n",
       "24                       82440.318182\n",
       "25                       91136.000000\n",
       "26                       75172.000000\n",
       "27                      132115.500000\n",
       "28                       81840.600000\n",
       "29                       62482.666667"
      ]
     },
     "execution_count": 104,
     "metadata": {},
     "output_type": "execute_result"
    },
    {
     "data": {
      "image/png": "[encoded data removed]",
      "text/plain": [
       "<Figure size 432x288 with 1 Axes>"
      ]
     },
     "metadata": {
      "needs_background": "light"
     },
     "output_type": "display_data"
    }
   ],
   "source": [
    "\n",
    "df['cityCenters_nearest_km'] = df['cityCenters_nearest']/1000\n",
    "df['cityCenters_nearest_km'] = df['cityCenters_nearest_km'].fillna(1000000)\n",
    "df['cityCenters_nearest_km'] = df['cityCenters_nearest_km'].astype('int')\n",
    "pivot_table_km = df.query('locality_name == \"Санкт-Петербург\" and cityCenters_nearest_km !=1000000').pivot_table(index = 'cityCenters_nearest_km', values = 'price_m2', aggfunc = 'mean')\n",
    "pivot_table_km.plot()\n",
    "plt.ylabel('Цена квадратного метра')\n",
    "pivot_table_km"
   ]
  },
  {
   "cell_type": "markdown",
   "id": "21d15c41",
   "metadata": {},
   "source": [
    "**Вывод**  \n",
    "Радиус центра города явно меньше 7 км, исходя из графика!"
   ]
  },
  {
   "cell_type": "code",
   "execution_count": 105,
   "id": "11ff4242",
   "metadata": {},
   "outputs": [],
   "source": [
    "segment_kv = df.query('cityCenters_nearest_km <= 7 and locality_name == \"Санкт-Петербург\"')"
   ]
  },
  {
   "cell_type": "code",
   "execution_count": 124,
   "id": "9cce6884",
   "metadata": {},
   "outputs": [
    {
     "data": {
      "text/plain": [
       "0.006246789098600452"
      ]
     },
     "execution_count": 124,
     "metadata": {},
     "output_type": "execute_result"
    },
    {
     "data": {
      "image/png": "[encoded data removed]",
      "text/plain": [
       "<Figure size 432x288 with 1 Axes>"
      ]
     },
     "metadata": {
      "needs_background": "light"
     },
     "output_type": "display_data"
    }
   ],
   "source": [
    "segment_kv_rooms = segment_kv.pivot_table(index = 'rooms', values = 'last_price', aggfunc = ['mean', 'count', 'median'])\n",
    "segment_kv_rooms\n",
    "\n",
    "segment_kv_rooms.columns = ['mean', 'count', 'median']\n",
    "segment_kv_rooms.query('count > 50').plot(y = 'median')\n",
    "plt.ylabel('Стоимость квартриры')\n",
    "segment_kv['rooms'].corr(segment_kv['price_m2'])"
   ]
  },
  {
   "cell_type": "markdown",
   "id": "91337c3a",
   "metadata": {},
   "source": [
    "Коэффициент корреляции показывает отсутствие взаимосвязи между количеством комнат и ценой квартиры"
   ]
  },
  {
   "cell_type": "code",
   "execution_count": 126,
   "id": "723cd6a4",
   "metadata": {},
   "outputs": [
    {
     "data": {
      "text/html": [
       "<div>\n",
       "<style scoped>\n",
       "    .dataframe tbody tr th:only-of-type {\n",
       "        vertical-align: middle;\n",
       "    }\n",
       "\n",
       "    .dataframe tbody tr th {\n",
       "        vertical-align: top;\n",
       "    }\n",
       "\n",
       "    .dataframe thead th {\n",
       "        text-align: right;\n",
       "    }\n",
       "</style>\n",
       "<table border=\"1\" class=\"dataframe\">\n",
       "  <thead>\n",
       "    <tr style=\"text-align: right;\">\n",
       "      <th></th>\n",
       "      <th>mean</th>\n",
       "      <th>count</th>\n",
       "      <th>median</th>\n",
       "    </tr>\n",
       "    <tr>\n",
       "      <th>floor_2</th>\n",
       "      <th></th>\n",
       "      <th></th>\n",
       "      <th></th>\n",
       "    </tr>\n",
       "  </thead>\n",
       "  <tbody>\n",
       "    <tr>\n",
       "      <td>Другой</td>\n",
       "      <td>1.457907e+07</td>\n",
       "      <td>2653</td>\n",
       "      <td>9500000</td>\n",
       "    </tr>\n",
       "    <tr>\n",
       "      <td>Первый</td>\n",
       "      <td>9.167233e+06</td>\n",
       "      <td>407</td>\n",
       "      <td>6550000</td>\n",
       "    </tr>\n",
       "    <tr>\n",
       "      <td>Последний</td>\n",
       "      <td>1.881441e+07</td>\n",
       "      <td>652</td>\n",
       "      <td>9175000</td>\n",
       "    </tr>\n",
       "  </tbody>\n",
       "</table>\n",
       "</div>"
      ],
      "text/plain": [
       "                   mean  count   median\n",
       "floor_2                                \n",
       "Другой     1.457907e+07   2653  9500000\n",
       "Первый     9.167233e+06    407  6550000\n",
       "Последний  1.881441e+07    652  9175000"
      ]
     },
     "execution_count": 126,
     "metadata": {},
     "output_type": "execute_result"
    },
    {
     "data": {
      "image/png": "[encoded data removed]",
      "text/plain": [
       "<Figure size 576x576 with 1 Axes>"
      ]
     },
     "metadata": {
      "needs_background": "light"
     },
     "output_type": "display_data"
    }
   ],
   "source": [
    "segment_kv_floor_2 = segment_kv.pivot_table(index = 'floor_2', values = 'last_price', aggfunc = ['mean', 'count', 'median'])\n",
    "segment_kv_floor_2.columns = ['mean', 'count', 'median']\n",
    "segment_kv_floor_2.plot(y = 'median', kind = 'bar', figsize = (8,8))\n",
    "plt.ylabel('Стоимость квартриры')\n",
    "segment_kv_floor_2"
   ]
  },
  {
   "cell_type": "markdown",
   "id": "95212e77",
   "metadata": {},
   "source": [
    "**Вывод**  \n",
    "Как и в обычной выборке квартира на первом этаже стоит дешевле чем на последнем"
   ]
  },
  {
   "cell_type": "code",
   "execution_count": 127,
   "id": "6de9a5af",
   "metadata": {},
   "outputs": [
    {
     "data": {
      "text/plain": [
       "-0.048304000474881544"
      ]
     },
     "execution_count": 127,
     "metadata": {},
     "output_type": "execute_result"
    }
   ],
   "source": [
    "segment_kv['cityCenters_nearest'].corr(segment_kv['last_price'])"
   ]
  },
  {
   "cell_type": "markdown",
   "id": "56645de9",
   "metadata": {},
   "source": [
    "**Вывод**  \n",
    "Зависимости не наблюдается"
   ]
  },
  {
   "cell_type": "code",
   "execution_count": 129,
   "id": "a33c017a",
   "metadata": {},
   "outputs": [
    {
     "data": {
      "text/html": [
       "<div>\n",
       "<style scoped>\n",
       "    .dataframe tbody tr th:only-of-type {\n",
       "        vertical-align: middle;\n",
       "    }\n",
       "\n",
       "    .dataframe tbody tr th {\n",
       "        vertical-align: top;\n",
       "    }\n",
       "\n",
       "    .dataframe thead th {\n",
       "        text-align: right;\n",
       "    }\n",
       "</style>\n",
       "<table border=\"1\" class=\"dataframe\">\n",
       "  <thead>\n",
       "    <tr style=\"text-align: right;\">\n",
       "      <th></th>\n",
       "      <th>mean</th>\n",
       "      <th>count</th>\n",
       "      <th>median</th>\n",
       "    </tr>\n",
       "    <tr>\n",
       "      <th>weekday</th>\n",
       "      <th></th>\n",
       "      <th></th>\n",
       "      <th></th>\n",
       "    </tr>\n",
       "  </thead>\n",
       "  <tbody>\n",
       "    <tr>\n",
       "      <td>0</td>\n",
       "      <td>1.444047e+07</td>\n",
       "      <td>560</td>\n",
       "      <td>9325000</td>\n",
       "    </tr>\n",
       "    <tr>\n",
       "      <td>3</td>\n",
       "      <td>1.434801e+07</td>\n",
       "      <td>763</td>\n",
       "      <td>9250000</td>\n",
       "    </tr>\n",
       "    <tr>\n",
       "      <td>6</td>\n",
       "      <td>1.503329e+07</td>\n",
       "      <td>210</td>\n",
       "      <td>9200000</td>\n",
       "    </tr>\n",
       "    <tr>\n",
       "      <td>2</td>\n",
       "      <td>1.475535e+07</td>\n",
       "      <td>637</td>\n",
       "      <td>9190000</td>\n",
       "    </tr>\n",
       "    <tr>\n",
       "      <td>1</td>\n",
       "      <td>1.394717e+07</td>\n",
       "      <td>631</td>\n",
       "      <td>9000000</td>\n",
       "    </tr>\n",
       "    <tr>\n",
       "      <td>4</td>\n",
       "      <td>1.423913e+07</td>\n",
       "      <td>629</td>\n",
       "      <td>8990000</td>\n",
       "    </tr>\n",
       "    <tr>\n",
       "      <td>5</td>\n",
       "      <td>1.889688e+07</td>\n",
       "      <td>282</td>\n",
       "      <td>8525000</td>\n",
       "    </tr>\n",
       "  </tbody>\n",
       "</table>\n",
       "</div>"
      ],
      "text/plain": [
       "                 mean  count   median\n",
       "weekday                              \n",
       "0        1.444047e+07    560  9325000\n",
       "3        1.434801e+07    763  9250000\n",
       "6        1.503329e+07    210  9200000\n",
       "2        1.475535e+07    637  9190000\n",
       "1        1.394717e+07    631  9000000\n",
       "4        1.423913e+07    629  8990000\n",
       "5        1.889688e+07    282  8525000"
      ]
     },
     "execution_count": 129,
     "metadata": {},
     "output_type": "execute_result"
    },
    {
     "data": {
      "image/png": "[encoded data removed]",
      "text/plain": [
       "<Figure size 576x576 with 1 Axes>"
      ]
     },
     "metadata": {
      "needs_background": "light"
     },
     "output_type": "display_data"
    }
   ],
   "source": [
    "segment_kv_weekday = segment_kv.pivot_table(index = 'weekday', values = 'last_price', aggfunc = ['mean', 'count', 'median'])\n",
    "segment_kv_weekday.columns = ['mean', 'count', 'median']\n",
    "segment_kv_weekday.plot(y = 'median', figsize = (8,8))\n",
    "plt.ylabel('Цена квартиры')\n",
    "\n",
    "segment_kv_weekday.sort_values('median', ascending = False)"
   ]
  },
  {
   "cell_type": "raw",
   "id": "0fb0b6b6",
   "metadata": {},
   "source": [
    "**Вывод**\n",
    "Тут ситуация другая, в отличие от общей выборки максимальная цена квартиры зафиксирована в воскресенье"
   ]
  },
  {
   "cell_type": "code",
   "execution_count": 131,
   "id": "4199435b",
   "metadata": {},
   "outputs": [
    {
     "data": {
      "text/html": [
       "<div>\n",
       "<style scoped>\n",
       "    .dataframe tbody tr th:only-of-type {\n",
       "        vertical-align: middle;\n",
       "    }\n",
       "\n",
       "    .dataframe tbody tr th {\n",
       "        vertical-align: top;\n",
       "    }\n",
       "\n",
       "    .dataframe thead th {\n",
       "        text-align: right;\n",
       "    }\n",
       "</style>\n",
       "<table border=\"1\" class=\"dataframe\">\n",
       "  <thead>\n",
       "    <tr style=\"text-align: right;\">\n",
       "      <th></th>\n",
       "      <th>mean</th>\n",
       "      <th>count</th>\n",
       "      <th>median</th>\n",
       "    </tr>\n",
       "    <tr>\n",
       "      <th>month</th>\n",
       "      <th></th>\n",
       "      <th></th>\n",
       "      <th></th>\n",
       "    </tr>\n",
       "  </thead>\n",
       "  <tbody>\n",
       "    <tr>\n",
       "      <td>1</td>\n",
       "      <td>1.574588e+07</td>\n",
       "      <td>226</td>\n",
       "      <td>9900000</td>\n",
       "    </tr>\n",
       "    <tr>\n",
       "      <td>2</td>\n",
       "      <td>1.482058e+07</td>\n",
       "      <td>406</td>\n",
       "      <td>9500000</td>\n",
       "    </tr>\n",
       "    <tr>\n",
       "      <td>3</td>\n",
       "      <td>1.443425e+07</td>\n",
       "      <td>395</td>\n",
       "      <td>9400000</td>\n",
       "    </tr>\n",
       "    <tr>\n",
       "      <td>9</td>\n",
       "      <td>1.544356e+07</td>\n",
       "      <td>323</td>\n",
       "      <td>9400000</td>\n",
       "    </tr>\n",
       "    <tr>\n",
       "      <td>11</td>\n",
       "      <td>1.383857e+07</td>\n",
       "      <td>373</td>\n",
       "      <td>9300000</td>\n",
       "    </tr>\n",
       "    <tr>\n",
       "      <td>7</td>\n",
       "      <td>1.486899e+07</td>\n",
       "      <td>288</td>\n",
       "      <td>9040000</td>\n",
       "    </tr>\n",
       "    <tr>\n",
       "      <td>8</td>\n",
       "      <td>1.363078e+07</td>\n",
       "      <td>273</td>\n",
       "      <td>8900000</td>\n",
       "    </tr>\n",
       "    <tr>\n",
       "      <td>4</td>\n",
       "      <td>1.588917e+07</td>\n",
       "      <td>350</td>\n",
       "      <td>8875000</td>\n",
       "    </tr>\n",
       "    <tr>\n",
       "      <td>5</td>\n",
       "      <td>1.439314e+07</td>\n",
       "      <td>208</td>\n",
       "      <td>8825000</td>\n",
       "    </tr>\n",
       "    <tr>\n",
       "      <td>6</td>\n",
       "      <td>1.418999e+07</td>\n",
       "      <td>303</td>\n",
       "      <td>8820000</td>\n",
       "    </tr>\n",
       "    <tr>\n",
       "      <td>10</td>\n",
       "      <td>1.305548e+07</td>\n",
       "      <td>311</td>\n",
       "      <td>8641044</td>\n",
       "    </tr>\n",
       "    <tr>\n",
       "      <td>12</td>\n",
       "      <td>1.691699e+07</td>\n",
       "      <td>256</td>\n",
       "      <td>8500000</td>\n",
       "    </tr>\n",
       "  </tbody>\n",
       "</table>\n",
       "</div>"
      ],
      "text/plain": [
       "               mean  count   median\n",
       "month                              \n",
       "1      1.574588e+07    226  9900000\n",
       "2      1.482058e+07    406  9500000\n",
       "3      1.443425e+07    395  9400000\n",
       "9      1.544356e+07    323  9400000\n",
       "11     1.383857e+07    373  9300000\n",
       "7      1.486899e+07    288  9040000\n",
       "8      1.363078e+07    273  8900000\n",
       "4      1.588917e+07    350  8875000\n",
       "5      1.439314e+07    208  8825000\n",
       "6      1.418999e+07    303  8820000\n",
       "10     1.305548e+07    311  8641044\n",
       "12     1.691699e+07    256  8500000"
      ]
     },
     "execution_count": 131,
     "metadata": {},
     "output_type": "execute_result"
    },
    {
     "data": {
      "image/png": "[encoded data removed]",
      "text/plain": [
       "<Figure size 576x576 with 1 Axes>"
      ]
     },
     "metadata": {
      "needs_background": "light"
     },
     "output_type": "display_data"
    }
   ],
   "source": [
    "segment_kv_month = segment_kv.pivot_table(index = 'month', values = 'last_price', aggfunc = ['mean', 'count', 'median'])\n",
    "segment_kv_month.columns = ['mean', 'count', 'median']\n",
    "segment_kv_month.plot(y = 'median', figsize = (8,8))\n",
    "plt.ylabel('Цена квартиры')\n",
    "segment_kv_month.sort_values('median', ascending = False)"
   ]
  },
  {
   "cell_type": "markdown",
   "id": "17235128",
   "metadata": {},
   "source": [
    "\n",
    "**Вывод:**   \n",
    "Не похоже на обычную выборку: январь и сентябрь - максимум, октябрь и декабрь - минимум\n"
   ]
  },
  {
   "cell_type": "code",
   "execution_count": 132,
   "id": "4e8a9a96",
   "metadata": {},
   "outputs": [
    {
     "data": {
      "text/html": [
       "<div>\n",
       "<style scoped>\n",
       "    .dataframe tbody tr th:only-of-type {\n",
       "        vertical-align: middle;\n",
       "    }\n",
       "\n",
       "    .dataframe tbody tr th {\n",
       "        vertical-align: top;\n",
       "    }\n",
       "\n",
       "    .dataframe thead th {\n",
       "        text-align: right;\n",
       "    }\n",
       "</style>\n",
       "<table border=\"1\" class=\"dataframe\">\n",
       "  <thead>\n",
       "    <tr style=\"text-align: right;\">\n",
       "      <th></th>\n",
       "      <th>mean</th>\n",
       "      <th>count</th>\n",
       "      <th>median</th>\n",
       "    </tr>\n",
       "    <tr>\n",
       "      <th>year</th>\n",
       "      <th></th>\n",
       "      <th></th>\n",
       "      <th></th>\n",
       "    </tr>\n",
       "  </thead>\n",
       "  <tbody>\n",
       "    <tr>\n",
       "      <td>2015</td>\n",
       "      <td>1.688356e+07</td>\n",
       "      <td>328</td>\n",
       "      <td>9995000</td>\n",
       "    </tr>\n",
       "    <tr>\n",
       "      <td>2019</td>\n",
       "      <td>1.521953e+07</td>\n",
       "      <td>401</td>\n",
       "      <td>9476000</td>\n",
       "    </tr>\n",
       "    <tr>\n",
       "      <td>2016</td>\n",
       "      <td>1.531084e+07</td>\n",
       "      <td>522</td>\n",
       "      <td>9400000</td>\n",
       "    </tr>\n",
       "    <tr>\n",
       "      <td>2017</td>\n",
       "      <td>1.527439e+07</td>\n",
       "      <td>1331</td>\n",
       "      <td>8990000</td>\n",
       "    </tr>\n",
       "    <tr>\n",
       "      <td>2018</td>\n",
       "      <td>1.271018e+07</td>\n",
       "      <td>1103</td>\n",
       "      <td>8750000</td>\n",
       "    </tr>\n",
       "  </tbody>\n",
       "</table>\n",
       "</div>"
      ],
      "text/plain": [
       "              mean  count   median\n",
       "year                              \n",
       "2015  1.688356e+07    328  9995000\n",
       "2019  1.521953e+07    401  9476000\n",
       "2016  1.531084e+07    522  9400000\n",
       "2017  1.527439e+07   1331  8990000\n",
       "2018  1.271018e+07   1103  8750000"
      ]
     },
     "execution_count": 132,
     "metadata": {},
     "output_type": "execute_result"
    },
    {
     "data": {
      "image/png": "[encoded data removed]",
      "text/plain": [
       "<Figure size 576x576 with 1 Axes>"
      ]
     },
     "metadata": {
      "needs_background": "light"
     },
     "output_type": "display_data"
    }
   ],
   "source": [
    "segment_kv_year = segment_kv.pivot_table(index = 'year', values = 'last_price', aggfunc = ['mean', 'count', 'median'])\n",
    "segment_kv_year.columns = ['mean', 'count', 'median']\n",
    "segment_kv_year.query('count > 50').plot(y = 'median', figsize = (8,8))\n",
    "plt.ylabel('Цена квартиры')\n",
    "segment_kv_year.query('count > 50').sort_values('median', ascending = False)"
   ]
  },
  {
   "cell_type": "markdown",
   "id": "665bbf52",
   "metadata": {},
   "source": [
    "**Вывод** \n",
    "В отличие от общей выборки цены до 2018 года постоянно падают"
   ]
  },
  {
   "cell_type": "markdown",
   "id": "4a8f527d",
   "metadata": {},
   "source": [
    "### Шаг 5. Общий вывод"
   ]
  },
  {
   "cell_type": "markdown",
   "id": "dad21fa6",
   "metadata": {},
   "source": [
    "1) обработка пропусков  \n",
    "2) изменение типов  \n",
    "3) добавили новые признаки  \n",
    "4) Выявили аномальные значения в высоте потолков, количестве комнат, днях размещения объявлений  \n",
    "5) Посмотрели корреляцию между параметрами и выяснили что наиболее влияние на цену имеют близость к центру и количество комнат  \n",
    "6) Также мы сравнили сегмент в центре города с общей выборкой и выявили некоторые отличия  \n",
    "            **- В обоих случаях квартиры на первом этаже стоит дешевле, чем на других  \n",
    "            - В центральном сегменте  зависимость цены от расстояния до центра намного меньше чем в большой выборке( что впрочем логично, поскольку берем малый участок)  \n",
    "            - Максимальная цена картиры  в центральном в сегменте наблюдается по вск, в общей выборке - по вторникам   \n",
    "            - Выборки не схожи по  цене квартиры в разбивке по месяцам\n",
    "            - В центральном сегменте до 2018 года  падали цены за жилье, в отличие от полной выборки, где цены падали до 2017**\n"
   ]
  }
 ],
 "metadata": {
  "ExecuteTimeLog": [
   {
    "duration": 927,
    "start_time": "2021-09-15T18:57:29.252Z"
   },
   {
    "duration": 9351,
    "start_time": "2021-09-15T18:57:30.181Z"
   },
   {
    "duration": -449,
    "start_time": "2021-09-15T18:57:39.984Z"
   },
   {
    "duration": -452,
    "start_time": "2021-09-15T18:57:39.988Z"
   },
   {
    "duration": -454,
    "start_time": "2021-09-15T18:57:39.991Z"
   },
   {
    "duration": -456,
    "start_time": "2021-09-15T18:57:39.994Z"
   },
   {
    "duration": -463,
    "start_time": "2021-09-15T18:57:40.001Z"
   },
   {
    "duration": -465,
    "start_time": "2021-09-15T18:57:40.004Z"
   },
   {
    "duration": -468,
    "start_time": "2021-09-15T18:57:40.007Z"
   },
   {
    "duration": -469,
    "start_time": "2021-09-15T18:57:40.009Z"
   },
   {
    "duration": -472,
    "start_time": "2021-09-15T18:57:40.013Z"
   },
   {
    "duration": -474,
    "start_time": "2021-09-15T18:57:40.015Z"
   },
   {
    "duration": -475,
    "start_time": "2021-09-15T18:57:40.017Z"
   },
   {
    "duration": -478,
    "start_time": "2021-09-15T18:57:40.020Z"
   },
   {
    "duration": -479,
    "start_time": "2021-09-15T18:57:40.022Z"
   },
   {
    "duration": -482,
    "start_time": "2021-09-15T18:57:40.026Z"
   },
   {
    "duration": -485,
    "start_time": "2021-09-15T18:57:40.030Z"
   },
   {
    "duration": -486,
    "start_time": "2021-09-15T18:57:40.032Z"
   },
   {
    "duration": -488,
    "start_time": "2021-09-15T18:57:40.035Z"
   },
   {
    "duration": -490,
    "start_time": "2021-09-15T18:57:40.037Z"
   },
   {
    "duration": -492,
    "start_time": "2021-09-15T18:57:40.040Z"
   },
   {
    "duration": -494,
    "start_time": "2021-09-15T18:57:40.043Z"
   },
   {
    "duration": -497,
    "start_time": "2021-09-15T18:57:40.047Z"
   },
   {
    "duration": -499,
    "start_time": "2021-09-15T18:57:40.050Z"
   },
   {
    "duration": -501,
    "start_time": "2021-09-15T18:57:40.053Z"
   },
   {
    "duration": -503,
    "start_time": "2021-09-15T18:57:40.056Z"
   },
   {
    "duration": -511,
    "start_time": "2021-09-15T18:57:40.065Z"
   },
   {
    "duration": -513,
    "start_time": "2021-09-15T18:57:40.068Z"
   },
   {
    "duration": -515,
    "start_time": "2021-09-15T18:57:40.071Z"
   },
   {
    "duration": -517,
    "start_time": "2021-09-15T18:57:40.074Z"
   },
   {
    "duration": -518,
    "start_time": "2021-09-15T18:57:40.076Z"
   },
   {
    "duration": -520,
    "start_time": "2021-09-15T18:57:40.079Z"
   },
   {
    "duration": -522,
    "start_time": "2021-09-15T18:57:40.082Z"
   },
   {
    "duration": -525,
    "start_time": "2021-09-15T18:57:40.085Z"
   },
   {
    "duration": -526,
    "start_time": "2021-09-15T18:57:40.087Z"
   },
   {
    "duration": -528,
    "start_time": "2021-09-15T18:57:40.090Z"
   },
   {
    "duration": -529,
    "start_time": "2021-09-15T18:57:40.092Z"
   },
   {
    "duration": -531,
    "start_time": "2021-09-15T18:57:40.095Z"
   },
   {
    "duration": -533,
    "start_time": "2021-09-15T18:57:40.098Z"
   },
   {
    "duration": -534,
    "start_time": "2021-09-15T18:57:40.100Z"
   },
   {
    "duration": -536,
    "start_time": "2021-09-15T18:57:40.103Z"
   },
   {
    "duration": -538,
    "start_time": "2021-09-15T18:57:40.106Z"
   },
   {
    "duration": -540,
    "start_time": "2021-09-15T18:57:40.108Z"
   },
   {
    "duration": 33,
    "start_time": "2021-09-15T18:59:40.597Z"
   },
   {
    "duration": 8,
    "start_time": "2021-09-15T18:59:53.553Z"
   },
   {
    "duration": 618,
    "start_time": "2021-09-16T21:35:54.428Z"
   },
   {
    "duration": 4454,
    "start_time": "2021-09-16T21:35:55.048Z"
   },
   {
    "duration": -99,
    "start_time": "2021-09-16T21:35:59.605Z"
   },
   {
    "duration": -100,
    "start_time": "2021-09-16T21:35:59.607Z"
   },
   {
    "duration": -99,
    "start_time": "2021-09-16T21:35:59.608Z"
   },
   {
    "duration": -98,
    "start_time": "2021-09-16T21:35:59.608Z"
   },
   {
    "duration": -98,
    "start_time": "2021-09-16T21:35:59.609Z"
   },
   {
    "duration": -97,
    "start_time": "2021-09-16T21:35:59.610Z"
   },
   {
    "duration": -97,
    "start_time": "2021-09-16T21:35:59.611Z"
   },
   {
    "duration": -96,
    "start_time": "2021-09-16T21:35:59.612Z"
   },
   {
    "duration": -96,
    "start_time": "2021-09-16T21:35:59.613Z"
   },
   {
    "duration": -95,
    "start_time": "2021-09-16T21:35:59.614Z"
   },
   {
    "duration": -95,
    "start_time": "2021-09-16T21:35:59.615Z"
   },
   {
    "duration": -94,
    "start_time": "2021-09-16T21:35:59.615Z"
   },
   {
    "duration": -93,
    "start_time": "2021-09-16T21:35:59.616Z"
   },
   {
    "duration": -93,
    "start_time": "2021-09-16T21:35:59.617Z"
   },
   {
    "duration": -93,
    "start_time": "2021-09-16T21:35:59.618Z"
   },
   {
    "duration": -92,
    "start_time": "2021-09-16T21:35:59.618Z"
   },
   {
    "duration": -91,
    "start_time": "2021-09-16T21:35:59.619Z"
   },
   {
    "duration": -91,
    "start_time": "2021-09-16T21:35:59.620Z"
   },
   {
    "duration": -91,
    "start_time": "2021-09-16T21:35:59.621Z"
   },
   {
    "duration": -89,
    "start_time": "2021-09-16T21:35:59.621Z"
   },
   {
    "duration": -88,
    "start_time": "2021-09-16T21:35:59.622Z"
   },
   {
    "duration": -93,
    "start_time": "2021-09-16T21:35:59.628Z"
   },
   {
    "duration": -93,
    "start_time": "2021-09-16T21:35:59.629Z"
   },
   {
    "duration": -93,
    "start_time": "2021-09-16T21:35:59.630Z"
   },
   {
    "duration": -91,
    "start_time": "2021-09-16T21:35:59.630Z"
   },
   {
    "duration": -91,
    "start_time": "2021-09-16T21:35:59.631Z"
   },
   {
    "duration": -90,
    "start_time": "2021-09-16T21:35:59.632Z"
   },
   {
    "duration": -89,
    "start_time": "2021-09-16T21:35:59.632Z"
   },
   {
    "duration": -88,
    "start_time": "2021-09-16T21:35:59.633Z"
   },
   {
    "duration": -33,
    "start_time": "2021-09-16T21:35:59.634Z"
   },
   {
    "duration": -32,
    "start_time": "2021-09-16T21:35:59.634Z"
   },
   {
    "duration": -30,
    "start_time": "2021-09-16T21:35:59.635Z"
   },
   {
    "duration": -30,
    "start_time": "2021-09-16T21:35:59.636Z"
   },
   {
    "duration": -29,
    "start_time": "2021-09-16T21:35:59.636Z"
   },
   {
    "duration": -30,
    "start_time": "2021-09-16T21:35:59.639Z"
   },
   {
    "duration": -30,
    "start_time": "2021-09-16T21:35:59.640Z"
   },
   {
    "duration": -30,
    "start_time": "2021-09-16T21:35:59.641Z"
   },
   {
    "duration": -29,
    "start_time": "2021-09-16T21:35:59.641Z"
   },
   {
    "duration": -29,
    "start_time": "2021-09-16T21:35:59.642Z"
   },
   {
    "duration": -29,
    "start_time": "2021-09-16T21:35:59.643Z"
   },
   {
    "duration": -28,
    "start_time": "2021-09-16T21:35:59.643Z"
   },
   {
    "duration": 84,
    "start_time": "2021-09-16T21:36:12.616Z"
   },
   {
    "duration": 5261,
    "start_time": "2021-09-16T21:37:20.571Z"
   },
   {
    "duration": 2379,
    "start_time": "2021-09-16T21:37:28.674Z"
   },
   {
    "duration": 3382,
    "start_time": "2021-09-16T21:41:56.589Z"
   },
   {
    "duration": -68,
    "start_time": "2021-09-16T21:42:00.042Z"
   },
   {
    "duration": -66,
    "start_time": "2021-09-16T21:42:00.043Z"
   },
   {
    "duration": -66,
    "start_time": "2021-09-16T21:42:00.044Z"
   },
   {
    "duration": -66,
    "start_time": "2021-09-16T21:42:00.045Z"
   },
   {
    "duration": -66,
    "start_time": "2021-09-16T21:42:00.046Z"
   },
   {
    "duration": -66,
    "start_time": "2021-09-16T21:42:00.047Z"
   },
   {
    "duration": -66,
    "start_time": "2021-09-16T21:42:00.048Z"
   },
   {
    "duration": -65,
    "start_time": "2021-09-16T21:42:00.048Z"
   },
   {
    "duration": -65,
    "start_time": "2021-09-16T21:42:00.049Z"
   },
   {
    "duration": -66,
    "start_time": "2021-09-16T21:42:00.050Z"
   },
   {
    "duration": -66,
    "start_time": "2021-09-16T21:42:00.051Z"
   },
   {
    "duration": -80,
    "start_time": "2021-09-16T21:42:00.066Z"
   },
   {
    "duration": -80,
    "start_time": "2021-09-16T21:42:00.067Z"
   },
   {
    "duration": -80,
    "start_time": "2021-09-16T21:42:00.068Z"
   },
   {
    "duration": -79,
    "start_time": "2021-09-16T21:42:00.068Z"
   },
   {
    "duration": -79,
    "start_time": "2021-09-16T21:42:00.069Z"
   },
   {
    "duration": -79,
    "start_time": "2021-09-16T21:42:00.070Z"
   },
   {
    "duration": -79,
    "start_time": "2021-09-16T21:42:00.071Z"
   },
   {
    "duration": -78,
    "start_time": "2021-09-16T21:42:00.071Z"
   },
   {
    "duration": -78,
    "start_time": "2021-09-16T21:42:00.072Z"
   },
   {
    "duration": -78,
    "start_time": "2021-09-16T21:42:00.073Z"
   },
   {
    "duration": -77,
    "start_time": "2021-09-16T21:42:00.073Z"
   },
   {
    "duration": -77,
    "start_time": "2021-09-16T21:42:00.074Z"
   },
   {
    "duration": -78,
    "start_time": "2021-09-16T21:42:00.075Z"
   },
   {
    "duration": -77,
    "start_time": "2021-09-16T21:42:00.075Z"
   },
   {
    "duration": -77,
    "start_time": "2021-09-16T21:42:00.076Z"
   },
   {
    "duration": -77,
    "start_time": "2021-09-16T21:42:00.077Z"
   },
   {
    "duration": -83,
    "start_time": "2021-09-16T21:42:00.085Z"
   },
   {
    "duration": -83,
    "start_time": "2021-09-16T21:42:00.086Z"
   },
   {
    "duration": -83,
    "start_time": "2021-09-16T21:42:00.087Z"
   },
   {
    "duration": -82,
    "start_time": "2021-09-16T21:42:00.087Z"
   },
   {
    "duration": -82,
    "start_time": "2021-09-16T21:42:00.088Z"
   },
   {
    "duration": -82,
    "start_time": "2021-09-16T21:42:00.089Z"
   },
   {
    "duration": -82,
    "start_time": "2021-09-16T21:42:00.089Z"
   },
   {
    "duration": -82,
    "start_time": "2021-09-16T21:42:00.090Z"
   },
   {
    "duration": -82,
    "start_time": "2021-09-16T21:42:00.091Z"
   },
   {
    "duration": -81,
    "start_time": "2021-09-16T21:42:00.091Z"
   },
   {
    "duration": -81,
    "start_time": "2021-09-16T21:42:00.092Z"
   },
   {
    "duration": -81,
    "start_time": "2021-09-16T21:42:00.093Z"
   },
   {
    "duration": -80,
    "start_time": "2021-09-16T21:42:00.093Z"
   },
   {
    "duration": -81,
    "start_time": "2021-09-16T21:42:00.094Z"
   },
   {
    "duration": -80,
    "start_time": "2021-09-16T21:42:00.094Z"
   },
   {
    "duration": 66,
    "start_time": "2021-09-16T21:42:35.153Z"
   },
   {
    "duration": 1223,
    "start_time": "2021-09-16T21:42:38.382Z"
   },
   {
    "duration": 150,
    "start_time": "2021-09-16T21:43:04.435Z"
   },
   {
    "duration": 60,
    "start_time": "2021-09-16T21:43:38.119Z"
   },
   {
    "duration": 146,
    "start_time": "2021-09-16T21:43:42.542Z"
   },
   {
    "duration": 704,
    "start_time": "2021-09-16T21:43:59.496Z"
   },
   {
    "duration": 38,
    "start_time": "2021-09-16T21:44:00.202Z"
   },
   {
    "duration": 35,
    "start_time": "2021-09-16T21:44:00.242Z"
   },
   {
    "duration": 37,
    "start_time": "2021-09-16T21:44:00.301Z"
   },
   {
    "duration": 36,
    "start_time": "2021-09-16T21:44:00.340Z"
   },
   {
    "duration": 69,
    "start_time": "2021-09-16T21:44:00.378Z"
   },
   {
    "duration": 51,
    "start_time": "2021-09-16T21:44:00.449Z"
   },
   {
    "duration": 6,
    "start_time": "2021-09-16T21:44:00.503Z"
   },
   {
    "duration": 53,
    "start_time": "2021-09-16T21:44:00.511Z"
   },
   {
    "duration": 12,
    "start_time": "2021-09-16T21:44:00.566Z"
   },
   {
    "duration": 28,
    "start_time": "2021-09-16T21:44:00.579Z"
   },
   {
    "duration": 37,
    "start_time": "2021-09-16T21:44:00.609Z"
   },
   {
    "duration": 11,
    "start_time": "2021-09-16T21:44:00.648Z"
   },
   {
    "duration": 61,
    "start_time": "2021-09-16T21:44:00.661Z"
   },
   {
    "duration": 14,
    "start_time": "2021-09-16T21:44:00.723Z"
   },
   {
    "duration": 35,
    "start_time": "2021-09-16T21:44:00.738Z"
   },
   {
    "duration": 494,
    "start_time": "2021-09-16T21:44:00.775Z"
   },
   {
    "duration": 6,
    "start_time": "2021-09-16T21:44:01.271Z"
   },
   {
    "duration": 488,
    "start_time": "2021-09-16T21:44:01.278Z"
   },
   {
    "duration": 388,
    "start_time": "2021-09-16T21:44:01.768Z"
   },
   {
    "duration": 235,
    "start_time": "2021-09-16T21:44:02.158Z"
   },
   {
    "duration": 238,
    "start_time": "2021-09-16T21:44:02.395Z"
   },
   {
    "duration": 768,
    "start_time": "2021-09-16T21:44:02.636Z"
   },
   {
    "duration": 820,
    "start_time": "2021-09-16T21:44:03.406Z"
   },
   {
    "duration": 2,
    "start_time": "2021-09-16T21:44:04.228Z"
   },
   {
    "duration": 36,
    "start_time": "2021-09-16T21:44:04.232Z"
   },
   {
    "duration": 188,
    "start_time": "2021-09-16T21:44:04.269Z"
   },
   {
    "duration": 2,
    "start_time": "2021-09-16T21:44:04.458Z"
   },
   {
    "duration": 13,
    "start_time": "2021-09-16T21:44:04.462Z"
   },
   {
    "duration": 195,
    "start_time": "2021-09-16T21:44:04.476Z"
   },
   {
    "duration": 2,
    "start_time": "2021-09-16T21:44:04.673Z"
   },
   {
    "duration": 204,
    "start_time": "2021-09-16T21:44:04.677Z"
   },
   {
    "duration": 196,
    "start_time": "2021-09-16T21:44:04.883Z"
   },
   {
    "duration": 9,
    "start_time": "2021-09-16T21:44:05.081Z"
   },
   {
    "duration": 31,
    "start_time": "2021-09-16T21:44:05.091Z"
   },
   {
    "duration": 216,
    "start_time": "2021-09-16T21:44:05.123Z"
   },
   {
    "duration": 16,
    "start_time": "2021-09-16T21:44:05.341Z"
   },
   {
    "duration": 244,
    "start_time": "2021-09-16T21:44:05.359Z"
   },
   {
    "duration": 187,
    "start_time": "2021-09-16T21:44:05.605Z"
   },
   {
    "duration": 9,
    "start_time": "2021-09-16T21:44:05.793Z"
   },
   {
    "duration": 198,
    "start_time": "2021-09-16T21:44:05.804Z"
   },
   {
    "duration": 199,
    "start_time": "2021-09-16T21:44:06.003Z"
   },
   {
    "duration": 229,
    "start_time": "2021-09-16T21:44:06.203Z"
   },
   {
    "duration": 731,
    "start_time": "2021-09-17T17:46:29.958Z"
   },
   {
    "duration": 35,
    "start_time": "2021-09-17T17:46:30.690Z"
   },
   {
    "duration": 43,
    "start_time": "2021-09-17T17:46:30.727Z"
   },
   {
    "duration": 35,
    "start_time": "2021-09-17T17:46:30.772Z"
   },
   {
    "duration": 48,
    "start_time": "2021-09-17T17:46:30.809Z"
   },
   {
    "duration": 47,
    "start_time": "2021-09-17T17:46:30.858Z"
   },
   {
    "duration": 50,
    "start_time": "2021-09-17T17:46:30.907Z"
   },
   {
    "duration": 5,
    "start_time": "2021-09-17T17:46:30.960Z"
   },
   {
    "duration": 47,
    "start_time": "2021-09-17T17:46:30.967Z"
   },
   {
    "duration": 12,
    "start_time": "2021-09-17T17:46:31.016Z"
   },
   {
    "duration": 34,
    "start_time": "2021-09-17T17:46:31.030Z"
   },
   {
    "duration": 36,
    "start_time": "2021-09-17T17:46:31.066Z"
   },
   {
    "duration": 11,
    "start_time": "2021-09-17T17:46:31.104Z"
   },
   {
    "duration": 56,
    "start_time": "2021-09-17T17:46:31.117Z"
   },
   {
    "duration": 12,
    "start_time": "2021-09-17T17:46:31.175Z"
   },
   {
    "duration": 33,
    "start_time": "2021-09-17T17:46:31.189Z"
   },
   {
    "duration": 484,
    "start_time": "2021-09-17T17:46:31.223Z"
   },
   {
    "duration": 4,
    "start_time": "2021-09-17T17:46:31.709Z"
   },
   {
    "duration": 455,
    "start_time": "2021-09-17T17:46:31.715Z"
   },
   {
    "duration": 346,
    "start_time": "2021-09-17T17:46:32.171Z"
   },
   {
    "duration": 208,
    "start_time": "2021-09-17T17:46:32.518Z"
   },
   {
    "duration": 222,
    "start_time": "2021-09-17T17:46:32.727Z"
   },
   {
    "duration": 709,
    "start_time": "2021-09-17T17:46:32.951Z"
   },
   {
    "duration": 797,
    "start_time": "2021-09-17T17:46:33.662Z"
   },
   {
    "duration": 2,
    "start_time": "2021-09-17T17:46:34.461Z"
   },
   {
    "duration": 20,
    "start_time": "2021-09-17T17:46:34.465Z"
   },
   {
    "duration": 174,
    "start_time": "2021-09-17T17:46:34.487Z"
   },
   {
    "duration": 2,
    "start_time": "2021-09-17T17:46:34.664Z"
   },
   {
    "duration": 9,
    "start_time": "2021-09-17T17:46:34.668Z"
   },
   {
    "duration": 189,
    "start_time": "2021-09-17T17:46:34.679Z"
   },
   {
    "duration": 2,
    "start_time": "2021-09-17T17:46:34.871Z"
   },
   {
    "duration": 205,
    "start_time": "2021-09-17T17:46:34.875Z"
   },
   {
    "duration": 198,
    "start_time": "2021-09-17T17:46:35.083Z"
   },
   {
    "duration": 9,
    "start_time": "2021-09-17T17:46:35.283Z"
   },
   {
    "duration": 26,
    "start_time": "2021-09-17T17:46:35.293Z"
   },
   {
    "duration": 198,
    "start_time": "2021-09-17T17:46:35.321Z"
   },
   {
    "duration": 8,
    "start_time": "2021-09-17T17:46:35.521Z"
   },
   {
    "duration": 194,
    "start_time": "2021-09-17T17:46:35.531Z"
   },
   {
    "duration": 180,
    "start_time": "2021-09-17T17:46:35.727Z"
   },
   {
    "duration": 5,
    "start_time": "2021-09-17T17:46:35.908Z"
   },
   {
    "duration": 190,
    "start_time": "2021-09-17T17:46:35.915Z"
   },
   {
    "duration": 192,
    "start_time": "2021-09-17T17:46:36.106Z"
   },
   {
    "duration": 213,
    "start_time": "2021-09-17T17:46:36.300Z"
   },
   {
    "duration": 706,
    "start_time": "2021-09-17T21:24:30.171Z"
   },
   {
    "duration": 35,
    "start_time": "2021-09-17T21:24:30.879Z"
   },
   {
    "duration": 43,
    "start_time": "2021-09-17T21:24:30.916Z"
   },
   {
    "duration": 34,
    "start_time": "2021-09-17T21:24:30.961Z"
   },
   {
    "duration": 48,
    "start_time": "2021-09-17T21:24:30.997Z"
   },
   {
    "duration": 44,
    "start_time": "2021-09-17T21:24:31.047Z"
   },
   {
    "duration": 31,
    "start_time": "2021-09-17T21:24:31.093Z"
   },
   {
    "duration": 23,
    "start_time": "2021-09-17T21:24:31.126Z"
   },
   {
    "duration": 42,
    "start_time": "2021-09-17T21:24:31.150Z"
   },
   {
    "duration": 11,
    "start_time": "2021-09-17T21:24:31.194Z"
   },
   {
    "duration": 14,
    "start_time": "2021-09-17T21:24:31.207Z"
   },
   {
    "duration": 56,
    "start_time": "2021-09-17T21:24:31.222Z"
   },
   {
    "duration": 12,
    "start_time": "2021-09-17T21:24:31.280Z"
   },
   {
    "duration": 54,
    "start_time": "2021-09-17T21:24:31.293Z"
   },
   {
    "duration": 12,
    "start_time": "2021-09-17T21:24:31.349Z"
   },
   {
    "duration": 33,
    "start_time": "2021-09-17T21:24:31.363Z"
   },
   {
    "duration": 486,
    "start_time": "2021-09-17T21:24:31.398Z"
   },
   {
    "duration": 6,
    "start_time": "2021-09-17T21:24:31.886Z"
   },
   {
    "duration": 452,
    "start_time": "2021-09-17T21:24:31.894Z"
   },
   {
    "duration": 347,
    "start_time": "2021-09-17T21:24:32.348Z"
   },
   {
    "duration": 212,
    "start_time": "2021-09-17T21:24:32.697Z"
   },
   {
    "duration": 221,
    "start_time": "2021-09-17T21:24:32.911Z"
   },
   {
    "duration": 698,
    "start_time": "2021-09-17T21:24:33.135Z"
   },
   {
    "duration": 846,
    "start_time": "2021-09-17T21:24:33.835Z"
   },
   {
    "duration": 2,
    "start_time": "2021-09-17T21:24:34.682Z"
   },
   {
    "duration": 6,
    "start_time": "2021-09-17T21:24:34.686Z"
   },
   {
    "duration": 180,
    "start_time": "2021-09-17T21:24:34.694Z"
   },
   {
    "duration": 3,
    "start_time": "2021-09-17T21:24:34.876Z"
   },
   {
    "duration": 11,
    "start_time": "2021-09-17T21:24:34.880Z"
   },
   {
    "duration": 189,
    "start_time": "2021-09-17T21:24:34.892Z"
   },
   {
    "duration": 2,
    "start_time": "2021-09-17T21:24:35.082Z"
   },
   {
    "duration": 193,
    "start_time": "2021-09-17T21:24:35.086Z"
   },
   {
    "duration": 190,
    "start_time": "2021-09-17T21:24:35.281Z"
   },
   {
    "duration": 9,
    "start_time": "2021-09-17T21:24:35.472Z"
   },
   {
    "duration": 24,
    "start_time": "2021-09-17T21:24:35.483Z"
   },
   {
    "duration": 203,
    "start_time": "2021-09-17T21:24:35.509Z"
   },
   {
    "duration": 8,
    "start_time": "2021-09-17T21:24:35.714Z"
   },
   {
    "duration": 191,
    "start_time": "2021-09-17T21:24:35.723Z"
   },
   {
    "duration": 173,
    "start_time": "2021-09-17T21:24:35.915Z"
   },
   {
    "duration": 4,
    "start_time": "2021-09-17T21:24:36.090Z"
   },
   {
    "duration": 189,
    "start_time": "2021-09-17T21:24:36.096Z"
   },
   {
    "duration": 186,
    "start_time": "2021-09-17T21:24:36.287Z"
   },
   {
    "duration": 207,
    "start_time": "2021-09-17T21:24:36.475Z"
   },
   {
    "duration": 36,
    "start_time": "2021-09-17T21:27:20.407Z"
   },
   {
    "duration": 71,
    "start_time": "2021-09-17T21:27:26.434Z"
   },
   {
    "duration": 38,
    "start_time": "2021-09-17T21:27:46.208Z"
   },
   {
    "duration": 38,
    "start_time": "2021-09-17T21:27:50.953Z"
   },
   {
    "duration": 37,
    "start_time": "2021-09-17T21:27:55.183Z"
   },
   {
    "duration": 39,
    "start_time": "2021-09-17T21:28:07.421Z"
   },
   {
    "duration": 401,
    "start_time": "2021-09-17T21:28:26.563Z"
   },
   {
    "duration": 62,
    "start_time": "2021-09-17T21:28:30.666Z"
   },
   {
    "duration": 60,
    "start_time": "2021-09-17T21:32:27.688Z"
   },
   {
    "duration": 14,
    "start_time": "2021-09-17T21:33:38.868Z"
   },
   {
    "duration": 37,
    "start_time": "2021-09-17T21:34:05.877Z"
   },
   {
    "duration": 23,
    "start_time": "2021-09-17T21:35:01.983Z"
   },
   {
    "duration": 400,
    "start_time": "2021-09-17T21:42:44.358Z"
   },
   {
    "duration": 721,
    "start_time": "2021-09-17T21:44:52.558Z"
   },
   {
    "duration": 590,
    "start_time": "2021-09-17T21:45:26.815Z"
   },
   {
    "duration": 552,
    "start_time": "2021-09-17T21:45:31.623Z"
   },
   {
    "duration": 6719,
    "start_time": "2021-09-17T21:46:54.074Z"
   },
   {
    "duration": 326,
    "start_time": "2021-09-17T21:47:08.275Z"
   },
   {
    "duration": 528,
    "start_time": "2021-09-17T21:48:05.319Z"
   },
   {
    "duration": 489,
    "start_time": "2021-09-17T21:48:18.187Z"
   },
   {
    "duration": 81,
    "start_time": "2021-09-17T21:48:21.460Z"
   },
   {
    "duration": 256,
    "start_time": "2021-09-17T21:48:24.942Z"
   },
   {
    "duration": 247,
    "start_time": "2021-09-17T21:48:31.678Z"
   },
   {
    "duration": 246,
    "start_time": "2021-09-17T21:48:56.309Z"
   },
   {
    "duration": 254,
    "start_time": "2021-09-17T21:49:06.172Z"
   },
   {
    "duration": 247,
    "start_time": "2021-09-17T21:56:14.145Z"
   },
   {
    "duration": 702,
    "start_time": "2021-09-17T21:56:28.266Z"
   },
   {
    "duration": 34,
    "start_time": "2021-09-17T21:56:28.969Z"
   },
   {
    "duration": 41,
    "start_time": "2021-09-17T21:56:29.004Z"
   },
   {
    "duration": 33,
    "start_time": "2021-09-17T21:56:29.047Z"
   },
   {
    "duration": 30,
    "start_time": "2021-09-17T21:56:29.081Z"
   },
   {
    "duration": 66,
    "start_time": "2021-09-17T21:56:29.112Z"
   },
   {
    "duration": 29,
    "start_time": "2021-09-17T21:56:29.179Z"
   },
   {
    "duration": 47,
    "start_time": "2021-09-17T21:56:29.211Z"
   },
   {
    "duration": 35,
    "start_time": "2021-09-17T21:56:29.260Z"
   },
   {
    "duration": 12953,
    "start_time": "2021-09-17T21:56:29.297Z"
   },
   {
    "duration": -84,
    "start_time": "2021-09-17T21:56:42.337Z"
   },
   {
    "duration": -84,
    "start_time": "2021-09-17T21:56:42.338Z"
   },
   {
    "duration": -84,
    "start_time": "2021-09-17T21:56:42.339Z"
   },
   {
    "duration": -84,
    "start_time": "2021-09-17T21:56:42.340Z"
   },
   {
    "duration": -85,
    "start_time": "2021-09-17T21:56:42.341Z"
   },
   {
    "duration": -84,
    "start_time": "2021-09-17T21:56:42.341Z"
   },
   {
    "duration": -84,
    "start_time": "2021-09-17T21:56:42.342Z"
   },
   {
    "duration": -84,
    "start_time": "2021-09-17T21:56:42.343Z"
   },
   {
    "duration": -83,
    "start_time": "2021-09-17T21:56:42.344Z"
   },
   {
    "duration": -83,
    "start_time": "2021-09-17T21:56:42.345Z"
   },
   {
    "duration": -83,
    "start_time": "2021-09-17T21:56:42.346Z"
   },
   {
    "duration": -83,
    "start_time": "2021-09-17T21:56:42.347Z"
   },
   {
    "duration": -83,
    "start_time": "2021-09-17T21:56:42.348Z"
   },
   {
    "duration": -83,
    "start_time": "2021-09-17T21:56:42.349Z"
   },
   {
    "duration": -83,
    "start_time": "2021-09-17T21:56:42.350Z"
   },
   {
    "duration": -83,
    "start_time": "2021-09-17T21:56:42.351Z"
   },
   {
    "duration": -83,
    "start_time": "2021-09-17T21:56:42.352Z"
   },
   {
    "duration": -83,
    "start_time": "2021-09-17T21:56:42.353Z"
   },
   {
    "duration": -82,
    "start_time": "2021-09-17T21:56:42.353Z"
   },
   {
    "duration": -83,
    "start_time": "2021-09-17T21:56:42.354Z"
   },
   {
    "duration": -83,
    "start_time": "2021-09-17T21:56:42.355Z"
   },
   {
    "duration": -83,
    "start_time": "2021-09-17T21:56:42.356Z"
   },
   {
    "duration": -83,
    "start_time": "2021-09-17T21:56:42.357Z"
   },
   {
    "duration": -83,
    "start_time": "2021-09-17T21:56:42.358Z"
   },
   {
    "duration": -83,
    "start_time": "2021-09-17T21:56:42.359Z"
   },
   {
    "duration": -83,
    "start_time": "2021-09-17T21:56:42.360Z"
   },
   {
    "duration": -84,
    "start_time": "2021-09-17T21:56:42.361Z"
   },
   {
    "duration": -84,
    "start_time": "2021-09-17T21:56:42.362Z"
   },
   {
    "duration": -84,
    "start_time": "2021-09-17T21:56:42.363Z"
   },
   {
    "duration": -84,
    "start_time": "2021-09-17T21:56:42.364Z"
   },
   {
    "duration": -83,
    "start_time": "2021-09-17T21:56:42.364Z"
   },
   {
    "duration": -83,
    "start_time": "2021-09-17T21:56:42.365Z"
   },
   {
    "duration": -83,
    "start_time": "2021-09-17T21:56:42.366Z"
   },
   {
    "duration": 16,
    "start_time": "2021-09-17T21:57:30.233Z"
   },
   {
    "duration": 15,
    "start_time": "2021-09-17T21:57:46.501Z"
   },
   {
    "duration": 35,
    "start_time": "2021-09-17T21:57:48.828Z"
   },
   {
    "duration": 13,
    "start_time": "2021-09-17T21:57:51.127Z"
   },
   {
    "duration": 27,
    "start_time": "2021-09-17T21:57:52.499Z"
   },
   {
    "duration": 11,
    "start_time": "2021-09-17T21:57:52.874Z"
   },
   {
    "duration": 34,
    "start_time": "2021-09-17T21:57:53.640Z"
   },
   {
    "duration": 465,
    "start_time": "2021-09-17T21:57:53.823Z"
   },
   {
    "duration": 5,
    "start_time": "2021-09-17T21:57:56.944Z"
   },
   {
    "duration": 428,
    "start_time": "2021-09-17T21:57:57.893Z"
   },
   {
    "duration": 818,
    "start_time": "2021-09-17T21:58:17.384Z"
   },
   {
    "duration": 690,
    "start_time": "2021-09-17T21:58:21.668Z"
   },
   {
    "duration": 329,
    "start_time": "2021-09-17T21:58:35.621Z"
   },
   {
    "duration": 665,
    "start_time": "2021-09-17T21:58:51.009Z"
   },
   {
    "duration": 415,
    "start_time": "2021-09-17T21:59:12.079Z"
   },
   {
    "duration": 536,
    "start_time": "2021-09-17T21:59:25.415Z"
   },
   {
    "duration": 420,
    "start_time": "2021-09-17T21:59:31.031Z"
   },
   {
    "duration": 690,
    "start_time": "2021-09-17T22:00:25.678Z"
   },
   {
    "duration": 676,
    "start_time": "2021-09-17T22:01:02.955Z"
   },
   {
    "duration": 1220,
    "start_time": "2021-09-17T22:02:27.761Z"
   },
   {
    "duration": 676,
    "start_time": "2021-09-17T22:03:53.006Z"
   },
   {
    "duration": 422,
    "start_time": "2021-09-17T22:04:01.824Z"
   },
   {
    "duration": 419,
    "start_time": "2021-09-17T22:04:36.508Z"
   },
   {
    "duration": 529,
    "start_time": "2021-09-17T22:04:47.250Z"
   },
   {
    "duration": 415,
    "start_time": "2021-09-17T22:05:06.879Z"
   },
   {
    "duration": 333,
    "start_time": "2021-09-17T22:05:32.387Z"
   },
   {
    "duration": 420,
    "start_time": "2021-09-17T22:05:41.347Z"
   },
   {
    "duration": 431,
    "start_time": "2021-09-17T22:06:07.344Z"
   },
   {
    "duration": 538,
    "start_time": "2021-09-17T22:06:49.479Z"
   },
   {
    "duration": 426,
    "start_time": "2021-09-17T22:06:58.368Z"
   },
   {
    "duration": 422,
    "start_time": "2021-09-17T22:07:06.377Z"
   },
   {
    "duration": 408,
    "start_time": "2021-09-17T22:07:13.800Z"
   },
   {
    "duration": 425,
    "start_time": "2021-09-17T22:07:18.289Z"
   },
   {
    "duration": 430,
    "start_time": "2021-09-17T22:07:29.594Z"
   },
   {
    "duration": 633,
    "start_time": "2021-09-17T22:08:12.988Z"
   },
   {
    "duration": 432,
    "start_time": "2021-09-17T22:08:30.493Z"
   },
   {
    "duration": 483,
    "start_time": "2021-09-17T22:08:49.311Z"
   },
   {
    "duration": 421,
    "start_time": "2021-09-17T22:09:10.703Z"
   },
   {
    "duration": 483,
    "start_time": "2021-09-17T22:09:21.683Z"
   },
   {
    "duration": 508,
    "start_time": "2021-09-17T22:09:31.519Z"
   },
   {
    "duration": 422,
    "start_time": "2021-09-17T22:09:44.097Z"
   },
   {
    "duration": 206,
    "start_time": "2021-09-17T22:09:57.171Z"
   },
   {
    "duration": 292,
    "start_time": "2021-09-17T22:10:03.752Z"
   },
   {
    "duration": 294,
    "start_time": "2021-09-17T22:10:20.792Z"
   },
   {
    "duration": 205,
    "start_time": "2021-09-17T22:10:34.748Z"
   },
   {
    "duration": 295,
    "start_time": "2021-09-17T22:10:56.110Z"
   },
   {
    "duration": 423,
    "start_time": "2021-09-17T22:11:12.005Z"
   },
   {
    "duration": 309,
    "start_time": "2021-09-17T22:11:15.339Z"
   },
   {
    "duration": 801,
    "start_time": "2021-09-17T22:12:11.528Z"
   },
   {
    "duration": 855,
    "start_time": "2021-09-17T22:12:47.473Z"
   },
   {
    "duration": 696,
    "start_time": "2021-09-17T22:13:01.691Z"
   },
   {
    "duration": 828,
    "start_time": "2021-09-17T22:13:18.531Z"
   },
   {
    "duration": 255,
    "start_time": "2021-09-17T22:13:38.993Z"
   },
   {
    "duration": 912,
    "start_time": "2021-09-17T22:13:45.245Z"
   },
   {
    "duration": 765,
    "start_time": "2021-09-17T22:14:25.991Z"
   },
   {
    "duration": 831,
    "start_time": "2021-09-17T22:14:42.232Z"
   },
   {
    "duration": 813,
    "start_time": "2021-09-17T22:14:57.504Z"
   },
   {
    "duration": 1282,
    "start_time": "2021-09-17T22:15:07.490Z"
   },
   {
    "duration": 995,
    "start_time": "2021-09-17T22:15:15.630Z"
   },
   {
    "duration": 929,
    "start_time": "2021-09-17T22:15:33.736Z"
   },
   {
    "duration": 810,
    "start_time": "2021-09-17T22:16:03.897Z"
   },
   {
    "duration": 853,
    "start_time": "2021-09-17T22:16:15.085Z"
   },
   {
    "duration": 904,
    "start_time": "2021-09-17T22:16:23.420Z"
   },
   {
    "duration": 959,
    "start_time": "2021-09-17T22:16:40.765Z"
   },
   {
    "duration": 814,
    "start_time": "2021-09-17T22:16:58.025Z"
   },
   {
    "duration": 688,
    "start_time": "2021-09-17T22:18:32.410Z"
   },
   {
    "duration": 682,
    "start_time": "2021-09-17T22:18:59.057Z"
   },
   {
    "duration": 904,
    "start_time": "2021-09-17T22:19:21.472Z"
   },
   {
    "duration": 751,
    "start_time": "2021-09-17T22:19:29.021Z"
   },
   {
    "duration": 826,
    "start_time": "2021-09-17T22:19:40.214Z"
   },
   {
    "duration": 4,
    "start_time": "2021-09-17T22:20:35.507Z"
   },
   {
    "duration": 169,
    "start_time": "2021-09-17T22:20:38.533Z"
   },
   {
    "duration": 156,
    "start_time": "2021-09-17T22:20:58.526Z"
   },
   {
    "duration": 290,
    "start_time": "2021-09-17T22:21:18.068Z"
   },
   {
    "duration": 156,
    "start_time": "2021-09-17T22:21:44.119Z"
   },
   {
    "duration": 464,
    "start_time": "2021-09-17T22:21:48.835Z"
   },
   {
    "duration": 162,
    "start_time": "2021-09-17T22:21:54.002Z"
   },
   {
    "duration": 230,
    "start_time": "2021-09-17T22:22:06.916Z"
   },
   {
    "duration": 161,
    "start_time": "2021-09-17T22:22:14.271Z"
   },
   {
    "duration": 212,
    "start_time": "2021-09-17T22:22:18.564Z"
   },
   {
    "duration": 196,
    "start_time": "2021-09-17T22:22:52.753Z"
   },
   {
    "duration": 5,
    "start_time": "2021-09-17T22:24:10.984Z"
   },
   {
    "duration": 173,
    "start_time": "2021-09-17T22:24:25.587Z"
   },
   {
    "duration": 184,
    "start_time": "2021-09-17T22:35:12.751Z"
   },
   {
    "duration": 172,
    "start_time": "2021-09-17T22:35:48.858Z"
   },
   {
    "duration": 269,
    "start_time": "2021-09-17T22:36:23.236Z"
   },
   {
    "duration": 175,
    "start_time": "2021-09-17T22:36:32.080Z"
   },
   {
    "duration": 184,
    "start_time": "2021-09-17T22:36:48.621Z"
   },
   {
    "duration": 178,
    "start_time": "2021-09-17T22:36:53.213Z"
   },
   {
    "duration": 289,
    "start_time": "2021-09-17T22:37:01.897Z"
   },
   {
    "duration": 10,
    "start_time": "2021-09-17T22:37:06.403Z"
   },
   {
    "duration": 25,
    "start_time": "2021-09-17T22:37:08.720Z"
   },
   {
    "duration": 173,
    "start_time": "2021-09-17T22:37:48.664Z"
   },
   {
    "duration": 176,
    "start_time": "2021-09-17T22:38:04.704Z"
   },
   {
    "duration": 8,
    "start_time": "2021-09-17T22:38:09.792Z"
   },
   {
    "duration": 182,
    "start_time": "2021-09-17T22:38:10.345Z"
   },
   {
    "duration": 285,
    "start_time": "2021-09-17T22:38:33.400Z"
   },
   {
    "duration": 165,
    "start_time": "2021-09-17T22:38:38.125Z"
   },
   {
    "duration": 163,
    "start_time": "2021-09-17T22:38:57.861Z"
   },
   {
    "duration": 196,
    "start_time": "2021-09-17T22:39:07.312Z"
   },
   {
    "duration": 198,
    "start_time": "2021-09-17T22:39:17.544Z"
   },
   {
    "duration": 212,
    "start_time": "2021-09-17T22:39:36.315Z"
   },
   {
    "duration": 179,
    "start_time": "2021-09-17T22:39:47.485Z"
   },
   {
    "duration": 228,
    "start_time": "2021-09-17T22:39:59.942Z"
   },
   {
    "duration": 249,
    "start_time": "2021-09-17T22:40:22.667Z"
   },
   {
    "duration": 232,
    "start_time": "2021-09-17T22:40:31.987Z"
   },
   {
    "duration": 6,
    "start_time": "2021-09-17T22:49:28.284Z"
   },
   {
    "duration": 186,
    "start_time": "2021-09-17T22:49:39.099Z"
   },
   {
    "duration": 182,
    "start_time": "2021-09-17T22:49:58.006Z"
   },
   {
    "duration": 199,
    "start_time": "2021-09-17T22:50:42.245Z"
   },
   {
    "duration": 185,
    "start_time": "2021-09-17T22:50:56.207Z"
   },
   {
    "duration": 182,
    "start_time": "2021-09-17T22:51:13.505Z"
   },
   {
    "duration": 188,
    "start_time": "2021-09-17T22:53:42.596Z"
   },
   {
    "duration": 187,
    "start_time": "2021-09-17T22:53:59.265Z"
   },
   {
    "duration": 311,
    "start_time": "2021-09-17T22:54:15.639Z"
   },
   {
    "duration": 192,
    "start_time": "2021-09-17T22:54:51.080Z"
   },
   {
    "duration": 4,
    "start_time": "2021-09-17T22:55:15.992Z"
   },
   {
    "duration": 240,
    "start_time": "2021-09-17T22:55:24.865Z"
   },
   {
    "duration": 332,
    "start_time": "2021-09-17T22:55:33.932Z"
   },
   {
    "duration": 214,
    "start_time": "2021-09-17T22:55:58.612Z"
   },
   {
    "duration": 218,
    "start_time": "2021-09-17T22:56:06.503Z"
   },
   {
    "duration": 235,
    "start_time": "2021-09-17T22:56:24.992Z"
   }
  ],
  "kernelspec": {
   "display_name": "Python 3",
   "language": "python",
   "name": "python3"
  },
  "language_info": {
   "codemirror_mode": {
    "name": "ipython",
    "version": 3
   },
   "file_extension": ".py",
   "mimetype": "text/x-python",
   "name": "python",
   "nbconvert_exporter": "python",
   "pygments_lexer": "ipython3",
   "version": "3.8.8"
  },
  "toc": {
   "base_numbering": 1,
   "nav_menu": {},
   "number_sections": true,
   "sideBar": true,
   "skip_h1_title": true,
   "title_cell": "Table of Contents",
   "title_sidebar": "Contents",
   "toc_cell": false,
   "toc_position": {},
   "toc_section_display": true,
   "toc_window_display": false
  }
 },
 "nbformat": 4,
 "nbformat_minor": 5
}
